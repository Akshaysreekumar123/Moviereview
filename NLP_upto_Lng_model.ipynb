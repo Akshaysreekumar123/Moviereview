{
  "nbformat": 4,
  "nbformat_minor": 0,
  "metadata": {
    "kernelspec": {
      "display_name": "Python 3",
      "language": "python",
      "name": "python3"
    },
    "language_info": {
      "codemirror_mode": {
        "name": "ipython",
        "version": 3
      },
      "file_extension": ".py",
      "mimetype": "text/x-python",
      "name": "python",
      "nbconvert_exporter": "python",
      "pygments_lexer": "ipython3",
      "version": "3.7.1"
    },
    "colab": {
      "name": " NLP upto Lng model.ipynb",
      "provenance": [],
      "collapsed_sections": [],
      "machine_shape": "hm"
    }
  },
  "cells": [
    {
      "cell_type": "code",
      "metadata": {
        "id": "p4PhAnLTOsIl",
        "colab_type": "code",
        "colab": {}
      },
      "source": [
        "import numpy as np\n",
        "import pandas as pd"
      ],
      "execution_count": 0,
      "outputs": []
    },
    {
      "cell_type": "code",
      "metadata": {
        "id": "FL_2bkWiOxbB",
        "colab_type": "code",
        "colab": {}
      },
      "source": [
        "from pydrive.auth import GoogleAuth\n",
        "from pydrive.drive import GoogleDrive\n",
        "from google.colab import auth\n",
        "from oauth2client.client import GoogleCredentials"
      ],
      "execution_count": 0,
      "outputs": []
    },
    {
      "cell_type": "code",
      "metadata": {
        "id": "DhRWgiz8O6d5",
        "colab_type": "code",
        "colab": {}
      },
      "source": [
        "auth.authenticate_user()\n",
        "gauth = GoogleAuth()\n",
        "gauth.credentials = GoogleCredentials.get_application_default()\n",
        "drive = GoogleDrive(gauth)"
      ],
      "execution_count": 0,
      "outputs": []
    },
    {
      "cell_type": "code",
      "metadata": {
        "id": "0l7WJJL4O7yL",
        "colab_type": "code",
        "outputId": "15aac807-acf8-48f8-860b-5ccd25dc3363",
        "colab": {
          "base_uri": "https://localhost:8080/",
          "height": 34
        }
      },
      "source": [
        "link = 'https://drive.google.com/open?id=1D2TyFY5IkRqRRBCW2jKHa9upjLdMKeNk'\n",
        "fluff, id = link.split('=')\n",
        "print (id) # "
      ],
      "execution_count": 0,
      "outputs": [
        {
          "output_type": "stream",
          "text": [
            "1D2TyFY5IkRqRRBCW2jKHa9upjLdMKeNk\n"
          ],
          "name": "stdout"
        }
      ]
    },
    {
      "cell_type": "code",
      "metadata": {
        "id": "hxQV4TYRQW3p",
        "colab_type": "code",
        "colab": {}
      },
      "source": [
        "import pandas as pd\n",
        "downloaded = drive.CreateFile({'id':id}) \n",
        "downloaded.GetContentFile('labeledTrainData.tsv')  \n",
        "df = pd.read_table('labeledTrainData.tsv')"
      ],
      "execution_count": 0,
      "outputs": []
    },
    {
      "cell_type": "code",
      "metadata": {
        "id": "KEXZzBD3OsIw",
        "colab_type": "code",
        "outputId": "c8f73e99-7398-4289-ae9a-682bf2680bf6",
        "colab": {
          "base_uri": "https://localhost:8080/",
          "height": 204
        }
      },
      "source": [
        "df.head()"
      ],
      "execution_count": 0,
      "outputs": [
        {
          "output_type": "execute_result",
          "data": {
            "text/html": [
              "<div>\n",
              "<style scoped>\n",
              "    .dataframe tbody tr th:only-of-type {\n",
              "        vertical-align: middle;\n",
              "    }\n",
              "\n",
              "    .dataframe tbody tr th {\n",
              "        vertical-align: top;\n",
              "    }\n",
              "\n",
              "    .dataframe thead th {\n",
              "        text-align: right;\n",
              "    }\n",
              "</style>\n",
              "<table border=\"1\" class=\"dataframe\">\n",
              "  <thead>\n",
              "    <tr style=\"text-align: right;\">\n",
              "      <th></th>\n",
              "      <th>id</th>\n",
              "      <th>sentiment</th>\n",
              "      <th>review</th>\n",
              "    </tr>\n",
              "  </thead>\n",
              "  <tbody>\n",
              "    <tr>\n",
              "      <th>0</th>\n",
              "      <td>5814_8</td>\n",
              "      <td>1</td>\n",
              "      <td>With all this stuff going down at the moment w...</td>\n",
              "    </tr>\n",
              "    <tr>\n",
              "      <th>1</th>\n",
              "      <td>2381_9</td>\n",
              "      <td>1</td>\n",
              "      <td>\\The Classic War of the Worlds\\\" by Timothy Hi...</td>\n",
              "    </tr>\n",
              "    <tr>\n",
              "      <th>2</th>\n",
              "      <td>7759_3</td>\n",
              "      <td>0</td>\n",
              "      <td>The film starts with a manager (Nicholas Bell)...</td>\n",
              "    </tr>\n",
              "    <tr>\n",
              "      <th>3</th>\n",
              "      <td>3630_4</td>\n",
              "      <td>0</td>\n",
              "      <td>It must be assumed that those who praised this...</td>\n",
              "    </tr>\n",
              "    <tr>\n",
              "      <th>4</th>\n",
              "      <td>9495_8</td>\n",
              "      <td>1</td>\n",
              "      <td>Superbly trashy and wondrously unpretentious 8...</td>\n",
              "    </tr>\n",
              "  </tbody>\n",
              "</table>\n",
              "</div>"
            ],
            "text/plain": [
              "       id  sentiment                                             review\n",
              "0  5814_8          1  With all this stuff going down at the moment w...\n",
              "1  2381_9          1  \\The Classic War of the Worlds\\\" by Timothy Hi...\n",
              "2  7759_3          0  The film starts with a manager (Nicholas Bell)...\n",
              "3  3630_4          0  It must be assumed that those who praised this...\n",
              "4  9495_8          1  Superbly trashy and wondrously unpretentious 8..."
            ]
          },
          "metadata": {
            "tags": []
          },
          "execution_count": 6
        }
      ]
    },
    {
      "cell_type": "code",
      "metadata": {
        "id": "gTVmzXM_OsI2",
        "colab_type": "code",
        "colab": {}
      },
      "source": [
        "data=np.array(df)"
      ],
      "execution_count": 0,
      "outputs": []
    },
    {
      "cell_type": "code",
      "metadata": {
        "id": "s4j-GxDwOsI5",
        "colab_type": "code",
        "outputId": "d1a025ab-01f9-487c-efb4-c8bc882bc5e9",
        "colab": {
          "base_uri": "https://localhost:8080/",
          "height": 88
        }
      },
      "source": [
        "data[1]"
      ],
      "execution_count": 0,
      "outputs": [
        {
          "output_type": "execute_result",
          "data": {
            "text/plain": [
              "array(['2381_9', 1,\n",
              "       '\\\\The Classic War of the Worlds\\\\\" by Timothy Hines is a very entertaining film that obviously goes to great effort and lengths to faithfully recreate H. G. Wells\\' classic book. Mr. Hines succeeds in doing so. I, and those who watched his film with me, appreciated the fact that it was not the standard, predictable Hollywood fare that comes out every year, e.g. the Spielberg version with Tom Cruise that had only the slightest resemblance to the book. Obviously, everyone looks for different things in a movie. Those who envision themselves as amateur \\\\\"critics\\\\\" look only to criticize everything they can. Others rate a movie on more important bases,like being entertained, which is why most people never agree with the \\\\\"critics\\\\\". We enjoyed the effort Mr. Hines put into being faithful to H.G. Wells\\' classic novel, and we found it to be very entertaining. This made it easy to overlook what the \\\\\"critics\\\\\" perceive to be its shortcomings.\"'],\n",
              "      dtype=object)"
            ]
          },
          "metadata": {
            "tags": []
          },
          "execution_count": 8
        }
      ]
    },
    {
      "cell_type": "code",
      "metadata": {
        "id": "UPvYj98_OsI8",
        "colab_type": "code",
        "outputId": "b022a5f2-b6de-410c-976e-d0f97974e374",
        "colab": {
          "base_uri": "https://localhost:8080/",
          "height": 34
        }
      },
      "source": [
        "len(data)"
      ],
      "execution_count": 0,
      "outputs": [
        {
          "output_type": "execute_result",
          "data": {
            "text/plain": [
              "25000"
            ]
          },
          "metadata": {
            "tags": []
          },
          "execution_count": 9
        }
      ]
    },
    {
      "cell_type": "code",
      "metadata": {
        "id": "odnEtLf6OsJA",
        "colab_type": "code",
        "colab": {}
      },
      "source": [
        "#Assigning all text reviews from dataframe to char array ->doc"
      ],
      "execution_count": 0,
      "outputs": []
    },
    {
      "cell_type": "code",
      "metadata": {
        "id": "OMREXDBuOsJD",
        "colab_type": "code",
        "outputId": "bcf37cd8-9a13-415d-87f3-79ec174b8d6a",
        "colab": {
          "base_uri": "https://localhost:8080/",
          "height": 54
        }
      },
      "source": [
        "doc=data[:,2]\n",
        "doc[0]"
      ],
      "execution_count": 0,
      "outputs": [
        {
          "output_type": "execute_result",
          "data": {
            "text/plain": [
              "\"With all this stuff going down at the moment with MJ i've started listening to his music, watching the odd documentary here and there, watched The Wiz and watched Moonwalker again. Maybe i just want to get a certain insight into this guy who i thought was really cool in the eighties just to maybe make up my mind whether he is guilty or innocent. Moonwalker is part biography, part feature film which i remember going to see at the cinema when it was originally released. Some of it has subtle messages about MJ's feeling towards the press and also the obvious message of drugs are bad m'kay.<br /><br />Visually impressive but of course this is all about Michael Jackson so unless you remotely like MJ in anyway then you are going to hate this and find it boring. Some may call MJ an egotist for consenting to the making of this movie BUT MJ and most of his fans would say that he made it for the fans which if true is really nice of him.<br /><br />The actual feature film bit when it finally starts is only on for 20 minutes or so excluding the Smooth Criminal sequence and Joe Pesci is convincing as a psychopathic all powerful drug lord. Why he wants MJ dead so bad is beyond me. Because MJ overheard his plans? Nah, Joe Pesci's character ranted that he wanted people to know it is he who is supplying drugs etc so i dunno, maybe he just hates MJ's music.<br /><br />Lots of cool things in this like MJ turning into a car and a robot and the whole Speed Demon sequence. Also, the director must have had the patience of a saint when it came to filming the kiddy Bad sequence as usually directors hate working with one kid let alone a whole bunch of them performing a complex dance scene.<br /><br />Bottom line, this movie is for people who like MJ on one level or another (which i think is most people). If not, then stay away. It does try and give off a wholesome message and ironically MJ's bestest buddy in this movie is a girl! Michael Jackson is truly one of the most talented people ever to grace this planet but is he guilty? Well, with all the attention i've gave this subject....hmmm well i don't know because people can be different behind closed doors, i know this for a fact. He is either an extremely nice but stupid guy or one of the most sickest liars. I hope he is not the latter.\""
            ]
          },
          "metadata": {
            "tags": []
          },
          "execution_count": 11
        }
      ]
    },
    {
      "cell_type": "code",
      "metadata": {
        "id": "70FDB5jUThax",
        "colab_type": "code",
        "outputId": "22655a53-b5b2-4cd0-93a9-574e6bd2a436",
        "colab": {
          "base_uri": "https://localhost:8080/",
          "height": 326
        }
      },
      "source": [
        "#Fixing Contractions\n",
        "pip install contractions"
      ],
      "execution_count": 0,
      "outputs": [
        {
          "output_type": "stream",
          "text": [
            "Collecting contractions\n",
            "  Downloading https://files.pythonhosted.org/packages/85/41/c3dfd5feb91a8d587ed1a59f553f07c05f95ad4e5d00ab78702fbf8fe48a/contractions-0.0.24-py2.py3-none-any.whl\n",
            "Collecting textsearch\n",
            "  Downloading https://files.pythonhosted.org/packages/42/a8/03407021f9555043de5492a2bd7a35c56cc03c2510092b5ec018cae1bbf1/textsearch-0.0.17-py2.py3-none-any.whl\n",
            "Collecting pyahocorasick\n",
            "\u001b[?25l  Downloading https://files.pythonhosted.org/packages/f4/9f/f0d8e8850e12829eea2e778f1c90e3c53a9a799b7f412082a5d21cd19ae1/pyahocorasick-1.4.0.tar.gz (312kB)\n",
            "\u001b[K     |████████████████████████████████| 317kB 4.0MB/s \n",
            "\u001b[?25hCollecting Unidecode\n",
            "\u001b[?25l  Downloading https://files.pythonhosted.org/packages/d0/42/d9edfed04228bacea2d824904cae367ee9efd05e6cce7ceaaedd0b0ad964/Unidecode-1.1.1-py2.py3-none-any.whl (238kB)\n",
            "\u001b[K     |████████████████████████████████| 245kB 54.5MB/s \n",
            "\u001b[?25hBuilding wheels for collected packages: pyahocorasick\n",
            "  Building wheel for pyahocorasick (setup.py) ... \u001b[?25l\u001b[?25hdone\n",
            "  Created wheel for pyahocorasick: filename=pyahocorasick-1.4.0-cp36-cp36m-linux_x86_64.whl size=81714 sha256=530d452a1a198e1d2479485377fc9f6d19c0d6760ffef7a9c751bc0c6f542b26\n",
            "  Stored in directory: /root/.cache/pip/wheels/0a/90/61/87a55f5b459792fbb2b7ba6b31721b06ff5cf6bde541b40994\n",
            "Successfully built pyahocorasick\n",
            "Installing collected packages: pyahocorasick, Unidecode, textsearch, contractions\n",
            "Successfully installed Unidecode-1.1.1 contractions-0.0.24 pyahocorasick-1.4.0 textsearch-0.0.17\n"
          ],
          "name": "stdout"
        }
      ]
    },
    {
      "cell_type": "code",
      "metadata": {
        "id": "yBymFY5iLjB7",
        "colab_type": "code",
        "outputId": "84eab73b-f2a8-4108-fa05-ea9be5e1284d",
        "colab": {
          "base_uri": "https://localhost:8080/",
          "height": 102
        }
      },
      "source": [
        "import contractions\n",
        "import nltk\n",
        "import re\n",
        "nltk.download('stopwords')\n",
        "nltk.download('wordnet')"
      ],
      "execution_count": 0,
      "outputs": [
        {
          "output_type": "stream",
          "text": [
            "[nltk_data] Downloading package stopwords to /root/nltk_data...\n",
            "[nltk_data]   Unzipping corpora/stopwords.zip.\n",
            "[nltk_data] Downloading package wordnet to /root/nltk_data...\n",
            "[nltk_data]   Unzipping corpora/wordnet.zip.\n"
          ],
          "name": "stdout"
        },
        {
          "output_type": "execute_result",
          "data": {
            "text/plain": [
              "True"
            ]
          },
          "metadata": {
            "tags": []
          },
          "execution_count": 14
        }
      ]
    },
    {
      "cell_type": "code",
      "metadata": {
        "id": "RvojOJrzcVvU",
        "colab_type": "code",
        "colab": {}
      },
      "source": [
        "def spec_sym_sub(doc):\n",
        "  symbol=\"[´]\"\n",
        "  for i in range(len(doc)):\n",
        "    doc[i]=re.compile(symbol).sub(\"'\",doc[i])  \n",
        "  return doc"
      ],
      "execution_count": 0,
      "outputs": []
    },
    {
      "cell_type": "code",
      "metadata": {
        "id": "Q-lSgryrTkpB",
        "colab_type": "code",
        "colab": {}
      },
      "source": [
        "def contraction_fix(doc):\n",
        "  for i in range(len(doc)):\n",
        "    doc[i]=contractions.fix(doc[i])\n",
        "  return doc"
      ],
      "execution_count": 0,
      "outputs": []
    },
    {
      "cell_type": "code",
      "metadata": {
        "id": "xjsiuoWRT_g6",
        "colab_type": "code",
        "outputId": "00345363-d579-465d-b4f9-7c45bb45f6f7",
        "colab": {
          "base_uri": "https://localhost:8080/",
          "height": 173
        }
      },
      "source": [
        "spec_sym_sub(doc)\n",
        "contraction_fix(doc)\n"
      ],
      "execution_count": 0,
      "outputs": [
        {
          "output_type": "execute_result",
          "data": {
            "text/plain": [
              "array([\"With all this stuff going down at the moment with MJ I have started listening to his music, watching the odd documentary here and there, watched The Wiz and watched Moonwalker again. Maybe i just want to get a certain insight into this guy who i thought was really cool in the eighties just to maybe make up my mind whether he is guilty or innocent. Moonwalker is part biography, part feature film which i remember going to see at the cinema when it was originally released. Some of it has subtle messages about MJ's feeling towards the press and also the obvious message of drugs are bad m'kay.<br /><br />Visually impressive but of course this is all about Michael Jackson so unless you remotely like MJ in anyway then you are going to hate this and find it boring. Some may call MJ an egotist for consenting to the making of this movie BUT MJ and most of his fans would say that he made it for the fans which if true is really nice of him.<br /><br />The actual feature film bit when it finally starts is only on for 20 minutes or so excluding the Smooth Criminal sequence and Joe Pesci is convincing as a psychopathic all powerful drug lord. Why he wants MJ dead so bad is beyond me. Because MJ overheard his plans? Nah, Joe Pesci's character ranted that he wanted people to know it is he who is supplying drugs etc so i dunno, maybe he just hates MJ's music.<br /><br />Lots of cool things in this like MJ turning into a car and a robot and the whole Speed Demon sequence. Also, the director must have had the patience of a saint when it came to filming the kiddy Bad sequence as usually directors hate working with one kid let alone a whole bunch of them performing a complex dance scene.<br /><br />Bottom line, this movie is for people who like MJ on one level or another (which i think is most people). If not, then stay away. It does try and give off a wholesome message and ironically MJ's bestest buddy in this movie is a girl! Michael Jackson is truly one of the most talented people ever to grace this planet but is he guilty? Well, with all the attention I have gave this subject....hmmm well i do not know because people can be different behind closed doors, i know this for a fact. He is either an extremely nice but stupid guy or one of the most sickest liars. I hope he is not the latter.\",\n",
              "       '\\\\The Classic War of the Worlds\\\\\" by Timothy Hines is a very entertaining film that obviously goes to great effort and lengths to faithfully recreate H. G. Wells\\' classic book. Mr. Hines succeeds in doing so. I, and those who watched his film with me, appreciated the fact that it was not the standard, predictable Hollywood fare that comes out every year, e.g. the Spielberg version with Tom Cruise that had only the slightest resemblance to the book. Obviously, everyone looks for different things in a movie. Those who envision themselves as amateur \\\\\"critics\\\\\" look only to criticize everything they can. Others rate a movie on more important bases,like being entertained, which is why most people never agree with the \\\\\"critics\\\\\". We enjoyed the effort Mr. Hines put into being faithful to H.G. Wells\\' classic novel, and we found it to be very entertaining. This made it easy to overlook what the \\\\\"critics\\\\\" perceive to be its shortcomings.\"',\n",
              "       \"The film starts with a manager (Nicholas Bell) giving welcome investors (Robert Carradine) to Primal Park . A secret project mutating a primal animal using fossilized DNA, like ¨Jurassik Park¨, and some scientists resurrect one of nature's most fearsome predators, the Sabretooth tiger or Smilodon . Scientific ambition turns deadly, however, and when the high voltage fence is opened the creature escape and begins savagely stalking its prey - the human visitors , tourists and scientific.Meanwhile some youngsters enter in the restricted area of the security center and are attacked by a pack of large pre-historical animals which are deadlier and bigger . In addition , a security agent (Stacy Haiduk) and her mate (Brian Wimmer) fight hardly against the carnivorous Smilodons. The Sabretooths, themselves , of course, are the real star stars and they are astounding terrifyingly though not convincing. The giant animals savagely are stalking its prey and the group run afoul and fight against one nature's most fearsome predators. Furthermore a third Sabretooth more dangerous and slow stalks its victims.<br /><br />The movie delivers the goods with lots of blood and gore as beheading, hair-raising chills,full of scares when the Sabretooths appear with mediocre special effects.The story provides exciting and stirring entertainment but it results to be quite boring .The giant animals are majority made by computer generator and seem totally lousy .Middling performances though the players reacting appropriately to becoming food.Actors give vigorously physical performances dodging the beasts ,running,bound and leaps or dangling over walls . And it packs a ridiculous final deadly scene. No for small kids by realistic,gory and violent attack scenes . Other films about Sabretooths or Smilodon are the following : ¨Sabretooth(2002)¨by James R Hickox with Vanessa Angel, David Keith and John Rhys Davies and the much better ¨10.000 BC(2006)¨ by Roland Emmerich with with Steven Strait, Cliff Curtis and Camilla Belle. This motion picture filled with bloody moments is badly directed by George Miller and with no originality because takes too many elements from previous films. Miller is an Australian director usually working for television (Tidal wave, Journey to the center of the earth, and many others) and occasionally for cinema ( The man from Snowy river, Zeus and Roxanne,Robinson Crusoe ). Rating : Below average, bottom of barrel.\",\n",
              "       ...,\n",
              "       'Guy is a loser. can not get girls, needs to build up, is picked on by stronger more successful guys, etc. Seen it, saw it, moved on. I would have to say that Rob needs to move past the Adam Sandler part of his life. And get out of the Adam Sandler plots. There are two funny parts in the whole movie. I could not even finish the last 5 minutes. I was getting bored. \\\\The Animal\\\\\" is an alright film. I do usually enjoy Adam Sandler films that have the same plot. But this was trying too hard to impress. The jokes are very old. So, trust me. This is not a film that most people could really get into. But some did, so I will be nice.<br /><br />3/10\"',\n",
              "       \"This 30 minute documentary Buñuel made in the early 1930's about one of Spain's poorest regions is, in my opinion, one of his weakest films. First, let us admit that 70 years later, Spain is much richer than it was then (and when I say this, I fully admit that wealth can bring problems of its own, like excessive individualism and consumerism, though all in all wealth it is a far better condition than the extreme poverty portrayed here). And if poverty receded in Spain it was not exactly with the sort of socialism that Buñuel favored, but with Western European style capitalism. But one of the most shocking things about the movie is this: in one scene, the narrator chides that in school, children are taught the value of Pi. Teaching math to poor people, the horror!. Buñuel shortsightedness is at its most glaring here, not realizing that it is access to the latest knowledge and technology what will help the poor overcome their situation. What is he proposing? That children are taught exactly what at school? does not Buñuel understand that it is the lack of modern technology that has made them poor in comparison with other people?\",\n",
              "       'I saw this movie as a child and it broke my heart! No other story had such a unfinished ending... I grew up on many great anime movies and this was one of my favourites, because it was so unusual - a story about unfairness, and cruelty, and loneliness, and life, and choices that can not be undone, and the need for others. Chirin is made alone when the Wolf kills his mother, but the Wolf is alone, too, when Chirin follows him into the mountain. The Wolf does not kill the lamb, even though each night he says \\\\maybe I will eat you tomorrow.\\\\\" The tape of it I have is broken and degraded from age and use. I will repair it and watch the movie again someday and cry just as hard as I did as a child. Stories like this, with this depth and feeling, and this intricacy of meaning, are very rare. It is a sad story, but I have never encountered any catharsis more beautifully made. I am glad I have seen this movie, and I am glad I saw it as a child.\"'],\n",
              "      dtype=object)"
            ]
          },
          "metadata": {
            "tags": []
          },
          "execution_count": 18
        }
      ]
    },
    {
      "cell_type": "code",
      "metadata": {
        "id": "ZDeAgVYyaTEE",
        "colab_type": "code",
        "outputId": "6a40c31b-e4c1-4787-e510-24a97e484c6a",
        "colab": {
          "base_uri": "https://localhost:8080/",
          "height": 54
        }
      },
      "source": [
        "doc[9]"
      ],
      "execution_count": 0,
      "outputs": [
        {
          "output_type": "execute_result",
          "data": {
            "text/plain": [
              "'<br /><br />This movie is full of references. Like \\\\Mad Max II\\\\\", \\\\\"The wild one\\\\\" and many others. The ladybug\\'s face it is a clear reference (or tribute) to Peter Lorre. This movie is a masterpiece. we will talk much more about in the future.\"'"
            ]
          },
          "metadata": {
            "tags": []
          },
          "execution_count": 19
        }
      ]
    },
    {
      "cell_type": "code",
      "metadata": {
        "id": "Q9smtmm3c6Vo",
        "colab_type": "code",
        "colab": {}
      },
      "source": [
        "#Removing Punctuations,special characters and Case Folding,Tokenizing Using RegEx"
      ],
      "execution_count": 0,
      "outputs": []
    },
    {
      "cell_type": "code",
      "metadata": {
        "id": "nGfZOj0CdBkT",
        "colab_type": "code",
        "colab": {}
      },
      "source": [
        "def punct_script_removal(doc):\n",
        "  punct=r\"[](-,.:'@#?!&$)[\\\"-]+\"    \n",
        "  digits=\"[0-9]\"   \n",
        "  slash=r\"\\\\\"                            #regex for punctuations,hyphen .etc     \n",
        "  html_scripts=\"(<br\\s*/><br\\s*/>)|(\\-)|(\\/)\"       #regex for html scripts\n",
        "  for i in range(len(doc)):\n",
        "    doc[i]=re.compile(punct).sub(\" \",doc[i])        #removing punctuations   \n",
        "    doc[i]=re.compile(digits).sub(\" \",doc[i])  \n",
        "    doc[i]=re.compile(slash).sub(\" \",doc[i])    \n",
        "    doc[i]=re.compile(html_scripts).sub(\" \",doc[i])#removing html scripts\n",
        "    doc[i]=doc[i].lower()\n",
        "  return doc"
      ],
      "execution_count": 0,
      "outputs": []
    },
    {
      "cell_type": "code",
      "metadata": {
        "id": "7urehW31dSjk",
        "colab_type": "code",
        "outputId": "75af0c73-dafe-4b4c-ea49-c0d8b32dc0b8",
        "colab": {
          "base_uri": "https://localhost:8080/",
          "height": 173
        }
      },
      "source": [
        "punct_script_removal(doc)"
      ],
      "execution_count": 0,
      "outputs": [
        {
          "output_type": "execute_result",
          "data": {
            "text/plain": [
              "array(['with all this stuff going down at the moment with mj i have started listening to his music  watching the odd documentary here and there  watched the wiz and watched moonwalker again  maybe i just want to get a certain insight into this guy who i thought was really cool in the eighties just to maybe make up my mind whether he is guilty or innocent  moonwalker is part biography  part feature film which i remember going to see at the cinema when it was originally released  some of it has subtle messages about mj s feeling towards the press and also the obvious message of drugs are bad m kay  visually impressive but of course this is all about michael jackson so unless you remotely like mj in anyway then you are going to hate this and find it boring  some may call mj an egotist for consenting to the making of this movie but mj and most of his fans would say that he made it for the fans which if true is really nice of him  the actual feature film bit when it finally starts is only on for    minutes or so excluding the smooth criminal sequence and joe pesci is convincing as a psychopathic all powerful drug lord  why he wants mj dead so bad is beyond me  because mj overheard his plans  nah  joe pesci s character ranted that he wanted people to know it is he who is supplying drugs etc so i dunno  maybe he just hates mj s music  lots of cool things in this like mj turning into a car and a robot and the whole speed demon sequence  also  the director must have had the patience of a saint when it came to filming the kiddy bad sequence as usually directors hate working with one kid let alone a whole bunch of them performing a complex dance scene  bottom line  this movie is for people who like mj on one level or another  which i think is most people  if not  then stay away  it does try and give off a wholesome message and ironically mj s bestest buddy in this movie is a girl  michael jackson is truly one of the most talented people ever to grace this planet but is he guilty  well  with all the attention i have gave this subject hmmm well i do not know because people can be different behind closed doors  i know this for a fact  he is either an extremely nice but stupid guy or one of the most sickest liars  i hope he is not the latter ',\n",
              "       ' the classic war of the worlds   by timothy hines is a very entertaining film that obviously goes to great effort and lengths to faithfully recreate h  g  wells  classic book  mr  hines succeeds in doing so  i  and those who watched his film with me  appreciated the fact that it was not the standard  predictable hollywood fare that comes out every year  e g  the spielberg version with tom cruise that had only the slightest resemblance to the book  obviously  everyone looks for different things in a movie  those who envision themselves as amateur   critics   look only to criticize everything they can  others rate a movie on more important bases like being entertained  which is why most people never agree with the   critics   we enjoyed the effort mr  hines put into being faithful to h g  wells  classic novel  and we found it to be very entertaining  this made it easy to overlook what the   critics   perceive to be its shortcomings ',\n",
              "       'the film starts with a manager  nicholas bell  giving welcome investors  robert carradine  to primal park   a secret project mutating a primal animal using fossilized dna  like ¨jurassik park¨  and some scientists resurrect one of nature s most fearsome predators  the sabretooth tiger or smilodon   scientific ambition turns deadly  however  and when the high voltage fence is opened the creature escape and begins savagely stalking its prey   the human visitors   tourists and scientific meanwhile some youngsters enter in the restricted area of the security center and are attacked by a pack of large pre historical animals which are deadlier and bigger   in addition   a security agent  stacy haiduk  and her mate  brian wimmer  fight hardly against the carnivorous smilodons  the sabretooths  themselves   of course  are the real star stars and they are astounding terrifyingly though not convincing  the giant animals savagely are stalking its prey and the group run afoul and fight against one nature s most fearsome predators  furthermore a third sabretooth more dangerous and slow stalks its victims  the movie delivers the goods with lots of blood and gore as beheading  hair raising chills full of scares when the sabretooths appear with mediocre special effects the story provides exciting and stirring entertainment but it results to be quite boring  the giant animals are majority made by computer generator and seem totally lousy  middling performances though the players reacting appropriately to becoming food actors give vigorously physical performances dodging the beasts  running bound and leaps or dangling over walls   and it packs a ridiculous final deadly scene  no for small kids by realistic gory and violent attack scenes   other films about sabretooths or smilodon are the following   ¨sabretooth      ¨by james r hickox with vanessa angel  david keith and john rhys davies and the much better ¨       bc      ¨ by roland emmerich with with steven strait  cliff curtis and camilla belle  this motion picture filled with bloody moments is badly directed by george miller and with no originality because takes too many elements from previous films  miller is an australian director usually working for television  tidal wave  journey to the center of the earth  and many others  and occasionally for cinema   the man from snowy river  zeus and roxanne robinson crusoe   rating   below average  bottom of barrel ',\n",
              "       ...,\n",
              "       'guy is a loser  can not get girls  needs to build up  is picked on by stronger more successful guys  etc  seen it  saw it  moved on  i would have to say that rob needs to move past the adam sandler part of his life  and get out of the adam sandler plots  there are two funny parts in the whole movie  i could not even finish the last   minutes  i was getting bored   the animal   is an alright film  i do usually enjoy adam sandler films that have the same plot  but this was trying too hard to impress  the jokes are very old  so  trust me  this is not a film that most people could really get into  but some did  so i will be nice       ',\n",
              "       'this    minute documentary buñuel made in the early      s about one of spain s poorest regions is  in my opinion  one of his weakest films  first  let us admit that    years later  spain is much richer than it was then  and when i say this  i fully admit that wealth can bring problems of its own  like excessive individualism and consumerism  though all in all wealth it is a far better condition than the extreme poverty portrayed here  and if poverty receded in spain it was not exactly with the sort of socialism that buñuel favored  but with western european style capitalism  but one of the most shocking things about the movie is this  in one scene  the narrator chides that in school  children are taught the value of pi  teaching math to poor people  the horror  buñuel shortsightedness is at its most glaring here  not realizing that it is access to the latest knowledge and technology what will help the poor overcome their situation  what is he proposing  that children are taught exactly what at school  does not buñuel understand that it is the lack of modern technology that has made them poor in comparison with other people ',\n",
              "       'i saw this movie as a child and it broke my heart  no other story had such a unfinished ending  i grew up on many great anime movies and this was one of my favourites  because it was so unusual   a story about unfairness  and cruelty  and loneliness  and life  and choices that can not be undone  and the need for others  chirin is made alone when the wolf kills his mother  but the wolf is alone  too  when chirin follows him into the mountain  the wolf does not kill the lamb  even though each night he says  maybe i will eat you tomorrow    the tape of it i have is broken and degraded from age and use  i will repair it and watch the movie again someday and cry just as hard as i did as a child  stories like this  with this depth and feeling  and this intricacy of meaning  are very rare  it is a sad story  but i have never encountered any catharsis more beautifully made  i am glad i have seen this movie  and i am glad i saw it as a child '],\n",
              "      dtype=object)"
            ]
          },
          "metadata": {
            "tags": []
          },
          "execution_count": 22
        }
      ]
    },
    {
      "cell_type": "code",
      "metadata": {
        "id": "9TFCW3SEOsJH",
        "colab_type": "code",
        "colab": {}
      },
      "source": [
        "#Removing Stopwords"
      ],
      "execution_count": 0,
      "outputs": []
    },
    {
      "cell_type": "code",
      "metadata": {
        "id": "Xr2sT7S3di1e",
        "colab_type": "code",
        "outputId": "bdd156fe-30c0-4c74-dc25-2d5dd5205114",
        "colab": {
          "base_uri": "https://localhost:8080/",
          "height": 54
        }
      },
      "source": [
        "doc[9]"
      ],
      "execution_count": 0,
      "outputs": [
        {
          "output_type": "execute_result",
          "data": {
            "text/plain": [
              "'<br /><br />This movie is full of references. Like \\\\Mad Max II\\\\\", \\\\\"The wild one\\\\\" and many others. The ladybug´s face it´s a clear reference (or tribute) to Peter Lorre. This movie is a masterpiece. We´ll talk much more about in the future.\"'"
            ]
          },
          "metadata": {
            "tags": []
          },
          "execution_count": 32
        }
      ]
    },
    {
      "cell_type": "code",
      "metadata": {
        "id": "nrDw7vfeOsJK",
        "colab_type": "code",
        "colab": {}
      },
      "source": [
        "from nltk.corpus import stopwords\n",
        "stop_words=stopwords.words('english')\n",
        "def stopword_removal(doc):\n",
        "  clean_doc=[]\n",
        "  for reviews in doc:\n",
        "    clean_doc.append(' '.join([word for word in reviews.split() if word not in stop_words]))\n",
        "  return clean_doc"
      ],
      "execution_count": 0,
      "outputs": []
    },
    {
      "cell_type": "code",
      "metadata": {
        "id": "qWT8nxUyOsJQ",
        "colab_type": "code",
        "colab": {}
      },
      "source": [
        ""
      ],
      "execution_count": 0,
      "outputs": []
    },
    {
      "cell_type": "code",
      "metadata": {
        "id": "aAcDl5ThSwYN",
        "colab_type": "code",
        "outputId": "66c9a21b-4b5a-4923-8f05-52ecbc628d06",
        "colab": {
          "base_uri": "https://localhost:8080/",
          "height": 54
        }
      },
      "source": [
        "doc[9]"
      ],
      "execution_count": 0,
      "outputs": [
        {
          "output_type": "execute_result",
          "data": {
            "text/plain": [
              "'with all this stuff going down at the moment with mj i have started listening to his music  watching the odd documentary here and there  watched the wiz and watched moonwalker again  maybe i just want to get a certain insight into this guy who i thought was really cool in the eighties just to maybe make up my mind whether he is guilty or innocent  moonwalker is part biography  part feature film which i remember going to see at the cinema when it was originally released  some of it has subtle messages about mj s feeling towards the press and also the obvious message of drugs are bad m kay  visually impressive but of course this is all about michael jackson so unless you remotely like mj in anyway then you are going to hate this and find it boring  some may call mj an egotist for consenting to the making of this movie but mj and most of his fans would say that he made it for the fans which if true is really nice of him  the actual feature film bit when it finally starts is only on for    minutes or so excluding the smooth criminal sequence and joe pesci is convincing as a psychopathic all powerful drug lord  why he wants mj dead so bad is beyond me  because mj overheard his plans  nah  joe pesci s character ranted that he wanted people to know it is he who is supplying drugs etc so i dunno  maybe he just hates mj s music  lots of cool things in this like mj turning into a car and a robot and the whole speed demon sequence  also  the director must have had the patience of a saint when it came to filming the kiddy bad sequence as usually directors hate working with one kid let alone a whole bunch of them performing a complex dance scene  bottom line  this movie is for people who like mj on one level or another  which i think is most people  if not  then stay away  it does try and give off a wholesome message and ironically mj s bestest buddy in this movie is a girl  michael jackson is truly one of the most talented people ever to grace this planet but is he guilty  well  with all the attention i have gave this subject hmmm well i do not know because people can be different behind closed doors  i know this for a fact  he is either an extremely nice but stupid guy or one of the most sickest liars  i hope he is not the latter '"
            ]
          },
          "metadata": {
            "tags": []
          },
          "execution_count": 223
        }
      ]
    },
    {
      "cell_type": "code",
      "metadata": {
        "id": "nBmeHtvhOsJT",
        "colab_type": "code",
        "colab": {}
      },
      "source": [
        "cdoc=stopword_removal(doc)"
      ],
      "execution_count": 0,
      "outputs": []
    },
    {
      "cell_type": "code",
      "metadata": {
        "id": "oSE2HPGCOsJX",
        "colab_type": "code",
        "outputId": "ec0efa06-c52d-452e-ba05-efc2d726854f",
        "colab": {
          "base_uri": "https://localhost:8080/",
          "height": 54
        }
      },
      "source": [
        "cdoc[0]\n"
      ],
      "execution_count": 0,
      "outputs": [
        {
          "output_type": "execute_result",
          "data": {
            "text/plain": [
              "'stuff going moment mj started listening music watching odd documentary watched wiz watched moonwalker maybe want get certain insight guy thought really cool eighties maybe make mind whether guilty innocent moonwalker part biography part feature film remember going see cinema originally released subtle messages mj feeling towards press also obvious message drugs bad kay visually impressive course michael jackson unless remotely like mj anyway going hate find boring may call mj egotist consenting making movie mj fans would say made fans true really nice actual feature film bit finally starts minutes excluding smooth criminal sequence joe pesci convincing psychopathic powerful drug lord wants mj dead bad beyond mj overheard plans nah joe pesci character ranted wanted people know supplying drugs etc dunno maybe hates mj music lots cool things like mj turning car robot whole speed demon sequence also director must patience saint came filming kiddy bad sequence usually directors hate working one kid let alone whole bunch performing complex dance scene bottom line movie people like mj one level another think people stay away try give wholesome message ironically mj bestest buddy movie girl michael jackson truly one talented people ever grace planet guilty well attention gave subject hmmm well know people different behind closed doors know fact either extremely nice stupid guy one sickest liars hope latter'"
            ]
          },
          "metadata": {
            "tags": []
          },
          "execution_count": 296
        }
      ]
    },
    {
      "cell_type": "code",
      "metadata": {
        "id": "Nw1zTxVyeXNK",
        "colab_type": "code",
        "colab": {}
      },
      "source": [
        "def clean_reviews(doc):\n",
        "  doc=spec_sym_sub(doc)\n",
        "  doc=contraction_fix(doc)\n",
        "  doc=punct_script_removal(doc)\n",
        "  clean_doc=stopword_removal(doc)\n",
        "  return clean_doc"
      ],
      "execution_count": 0,
      "outputs": []
    },
    {
      "cell_type": "code",
      "metadata": {
        "id": "H_T7JrOPjS3e",
        "colab_type": "code",
        "colab": {}
      },
      "source": [
        "cdoc=clean_reviews(doc)"
      ],
      "execution_count": 0,
      "outputs": []
    },
    {
      "cell_type": "code",
      "metadata": {
        "id": "_Qk834Exjmbe",
        "colab_type": "code",
        "outputId": "fc7b0982-fa9a-4250-b9fd-6a6fb142e8e2",
        "colab": {
          "base_uri": "https://localhost:8080/",
          "height": 54
        }
      },
      "source": [
        "cdoc[0]"
      ],
      "execution_count": 0,
      "outputs": [
        {
          "output_type": "execute_result",
          "data": {
            "text/plain": [
              "'stuff going moment mj started listening music watching odd documentary watched wiz watched moonwalker maybe want get certain insight guy thought really cool eighties maybe make mind whether guilty innocent moonwalker part biography part feature film remember going see cinema originally released subtle messages mj feeling towards press also obvious message drugs bad kay visually impressive course michael jackson unless remotely like mj anyway going hate find boring may call mj egotist consenting making movie mj fans would say made fans true really nice actual feature film bit finally starts minutes excluding smooth criminal sequence joe pesci convincing psychopathic powerful drug lord wants mj dead bad beyond mj overheard plans nah joe pesci character ranted wanted people know supplying drugs etc dunno maybe hates mj music lots cool things like mj turning car robot whole speed demon sequence also director must patience saint came filming kiddy bad sequence usually directors hate working one kid let alone whole bunch performing complex dance scene bottom line movie people like mj one level another think people stay away try give wholesome message ironically mj bestest buddy movie girl michael jackson truly one talented people ever grace planet guilty well attention gave subject hmmm well know people different behind closed doors know fact either extremely nice stupid guy one sickest liars hope latter'"
            ]
          },
          "metadata": {
            "tags": []
          },
          "execution_count": 25
        }
      ]
    },
    {
      "cell_type": "code",
      "metadata": {
        "id": "8S2lMAMZOsJd",
        "colab_type": "code",
        "colab": {}
      },
      "source": [
        "#Nomalization"
      ],
      "execution_count": 0,
      "outputs": []
    },
    {
      "cell_type": "code",
      "metadata": {
        "id": "lrjWIhWvOsJg",
        "colab_type": "code",
        "colab": {}
      },
      "source": [
        "#Stemming"
      ],
      "execution_count": 0,
      "outputs": []
    },
    {
      "cell_type": "code",
      "metadata": {
        "id": "jrnNAhlMOsJj",
        "colab_type": "code",
        "colab": {}
      },
      "source": [
        "from nltk.stem.porter import PorterStemmer\n",
        "def doc_stemming(doc):\n",
        "  stemmer=PorterStemmer()\n",
        "  stem_doc=[]\n",
        "  for i in range(len(doc)):\n",
        "    stem_doc.append(' '.join([stemmer.stem(word) for word in doc[i].split()]))\n",
        "  return stem_doc"
      ],
      "execution_count": 0,
      "outputs": []
    },
    {
      "cell_type": "code",
      "metadata": {
        "id": "_j48GftQOsJm",
        "colab_type": "code",
        "colab": {}
      },
      "source": [
        "sdoc=doc_stemming(cdoc) "
      ],
      "execution_count": 0,
      "outputs": []
    },
    {
      "cell_type": "code",
      "metadata": {
        "id": "UqytCVl_iXuo",
        "colab_type": "code",
        "outputId": "e0fa500b-214a-454e-bbfd-c629f6ee659d",
        "colab": {
          "base_uri": "https://localhost:8080/",
          "height": 54
        }
      },
      "source": [
        "sdoc[0]"
      ],
      "execution_count": 0,
      "outputs": [
        {
          "output_type": "execute_result",
          "data": {
            "text/plain": [
              "'stuff go moment mj start listen music watch odd documentari watch wiz watch moonwalk mayb want get certain insight guy thought realli cool eighti mayb make mind whether guilti innoc moonwalk part biographi part featur film rememb go see cinema origin releas subtl messag mj feel toward press also obviou messag drug bad kay visual impress cours michael jackson unless remot like mj anyway go hate find bore may call mj egotist consent make movi mj fan would say made fan true realli nice actual featur film bit final start minut exclud smooth crimin sequenc joe pesci convinc psychopath power drug lord want mj dead bad beyond mj overheard plan nah joe pesci charact rant want peopl know suppli drug etc dunno mayb hate mj music lot cool thing like mj turn car robot whole speed demon sequenc also director must patienc saint came film kiddi bad sequenc usual director hate work one kid let alon whole bunch perform complex danc scene bottom line movi peopl like mj one level anoth think peopl stay away tri give wholesom messag iron mj bestest buddi movi girl michael jackson truli one talent peopl ever grace planet guilti well attent gave subject hmmm well know peopl differ behind close door know fact either extrem nice stupid guy one sickest liar hope latter'"
            ]
          },
          "metadata": {
            "tags": []
          },
          "execution_count": 308
        }
      ]
    },
    {
      "cell_type": "code",
      "metadata": {
        "id": "qNnFMY4TOsJr",
        "colab_type": "code",
        "colab": {}
      },
      "source": [
        "#lemmatization"
      ],
      "execution_count": 0,
      "outputs": []
    },
    {
      "cell_type": "code",
      "metadata": {
        "id": "_4Cyk9rVOsJv",
        "colab_type": "code",
        "colab": {}
      },
      "source": [
        "from nltk.stem import WordNetLemmatizer\n",
        "def doc_lemmatize(doc):\n",
        "  lemmatizer = WordNetLemmatizer()\n",
        "  lemm_doc=[]\n",
        "  for reviews in doc:\n",
        "    lemm_doc.append(' '.join([lemmatizer.lemmatize(word) for word in reviews.split()]))\n",
        "  return lemm_doc"
      ],
      "execution_count": 0,
      "outputs": []
    },
    {
      "cell_type": "code",
      "metadata": {
        "id": "VuC4aH1Zmq_5",
        "colab_type": "code",
        "colab": {}
      },
      "source": [
        "ldoc=doc_lemmatize(sdoc)"
      ],
      "execution_count": 0,
      "outputs": []
    },
    {
      "cell_type": "code",
      "metadata": {
        "id": "XGAO6dXeOsJ2",
        "colab_type": "code",
        "outputId": "f7ca095c-1347-4edf-effe-e1a1891724de",
        "colab": {
          "base_uri": "https://localhost:8080/",
          "height": 54
        }
      },
      "source": [
        "ldoc[0]"
      ],
      "execution_count": 0,
      "outputs": [
        {
          "output_type": "execute_result",
          "data": {
            "text/plain": [
              "'stuff go moment mj start listen music watch odd documentari watch wiz watch moonwalk mayb want get certain insight guy thought realli cool eighti mayb make mind whether guilti innoc moonwalk part biographi part featur film rememb go see cinema origin releas subtl messag mj feel toward press also obviou messag drug bad kay visual impress cours michael jackson unless remot like mj anyway go hate find bore may call mj egotist consent make movi mj fan would say made fan true realli nice actual featur film bit final start minut exclud smooth crimin sequenc joe pesci convinc psychopath power drug lord want mj dead bad beyond mj overheard plan nah joe pesci charact rant want peopl know suppli drug etc dunno mayb hate mj music lot cool thing like mj turn car robot whole speed demon sequenc also director must patienc saint came film kiddi bad sequenc usual director hate work one kid let alon whole bunch perform complex danc scene bottom line movi peopl like mj one level anoth think peopl stay away tri give wholesom messag iron mj bestest buddi movi girl michael jackson truli one talent peopl ever grace planet guilti well attent gave subject hmmm well know peopl differ behind close door know fact either extrem nice stupid guy one sickest liar hope latter'"
            ]
          },
          "metadata": {
            "tags": []
          },
          "execution_count": 317
        }
      ]
    },
    {
      "cell_type": "code",
      "metadata": {
        "id": "GfsyWSLUnkPF",
        "colab_type": "code",
        "colab": {}
      },
      "source": [
        "def normalize_doc(clean_doc):\n",
        "  stem_doc=doc_stemming(clean_doc)\n",
        "  lemm_doc=doc_lemmatize(stem_doc)\n",
        "  return lemm_doc"
      ],
      "execution_count": 0,
      "outputs": []
    },
    {
      "cell_type": "code",
      "metadata": {
        "id": "JzBCRDgYnN3O",
        "colab_type": "code",
        "colab": {}
      },
      "source": [
        "def preprocess_doc(doc):\n",
        "  clean_doc=clean_reviews(doc)\n",
        "  norm_doc=normalize_doc(clean_doc)\n",
        "  return norm_doc\n"
      ],
      "execution_count": 0,
      "outputs": []
    },
    {
      "cell_type": "code",
      "metadata": {
        "id": "1Rc0dXsCpd0t",
        "colab_type": "code",
        "colab": {}
      },
      "source": [
        "final_doc=preprocess_doc(doc)"
      ],
      "execution_count": 0,
      "outputs": []
    },
    {
      "cell_type": "code",
      "metadata": {
        "id": "4VYjkNkBp7sM",
        "colab_type": "code",
        "outputId": "f4270b54-e419-4bf6-8246-1ef4bce5d8c8",
        "colab": {
          "base_uri": "https://localhost:8080/",
          "height": 54
        }
      },
      "source": [
        "final_doc[0]"
      ],
      "execution_count": 0,
      "outputs": [
        {
          "output_type": "execute_result",
          "data": {
            "text/plain": [
              "'stuff go moment mj start listen music watch odd documentari watch wiz watch moonwalk mayb want get certain insight guy thought realli cool eighti mayb make mind whether guilti innoc moonwalk part biographi part featur film rememb go see cinema origin releas subtl messag mj feel toward press also obviou messag drug bad kay visual impress cours michael jackson unless remot like mj anyway go hate find bore may call mj egotist consent make movi mj fan would say made fan true realli nice actual featur film bit final start minut exclud smooth crimin sequenc joe pesci convinc psychopath power drug lord want mj dead bad beyond mj overheard plan nah joe pesci charact rant want peopl know suppli drug etc dunno mayb hate mj music lot cool thing like mj turn car robot whole speed demon sequenc also director must patienc saint came film kiddi bad sequenc usual director hate work one kid let alon whole bunch perform complex danc scene bottom line movi peopl like mj one level anoth think peopl stay away tri give wholesom messag iron mj bestest buddi movi girl michael jackson truli one talent peopl ever grace planet guilti well attent gave subject hmmm well know peopl differ behind close door know fact either extrem nice stupid guy one sickest liar hope latter'"
            ]
          },
          "metadata": {
            "tags": []
          },
          "execution_count": 27
        }
      ]
    },
    {
      "cell_type": "code",
      "metadata": {
        "id": "1p2EAuSJOsJ6",
        "colab_type": "code",
        "colab": {}
      },
      "source": [
        "#Tokenization\n",
        "from nltk.tokenize import RegexpTokenizer\n",
        "tokenizer = RegexpTokenizer(\"[\\w']+\")\n",
        "for i in range(len(norm_doc)):\n",
        "    norm_doc[i]=tokenizer.tokenize(norm_doc[i])"
      ],
      "execution_count": 0,
      "outputs": []
    },
    {
      "cell_type": "code",
      "metadata": {
        "id": "IchTw1tPOsJ9",
        "colab_type": "code",
        "colab": {}
      },
      "source": [
        "norm_doc[0]"
      ],
      "execution_count": 0,
      "outputs": []
    },
    {
      "cell_type": "code",
      "metadata": {
        "id": "z8LbOmh7OsKA",
        "colab_type": "code",
        "colab": {}
      },
      "source": [
        "#Trying RegEXp\n",
        "import re\n",
        "para=\"An example of a URL is https://www.computerhope.com, which is the URL for the Computer Hope website\"\n",
        "URL=r\"(https|http)?:\\/\\/(\\w|\\.|\\/|\\?|\\=|\\&|\\%)*\\b\"\n",
        "para=re.sub(URL, '', para, flags=re.MULTILINE)"
      ],
      "execution_count": 0,
      "outputs": []
    },
    {
      "cell_type": "code",
      "metadata": {
        "id": "XxKhfax3OsKD",
        "colab_type": "code",
        "colab": {}
      },
      "source": [
        "print(para)"
      ],
      "execution_count": 0,
      "outputs": []
    },
    {
      "cell_type": "code",
      "metadata": {
        "id": "u4Ag55SaOsKH",
        "colab_type": "code",
        "outputId": "22c6c7d5-b94e-4287-ce4f-d35a0e0155ff",
        "colab": {
          "base_uri": "https://localhost:8080/",
          "height": 187
        }
      },
      "source": [
        "pip install emoji"
      ],
      "execution_count": 0,
      "outputs": [
        {
          "output_type": "stream",
          "text": [
            "Collecting emoji\n",
            "\u001b[?25l  Downloading https://files.pythonhosted.org/packages/40/8d/521be7f0091fe0f2ae690cc044faf43e3445e0ff33c574eae752dd7e39fa/emoji-0.5.4.tar.gz (43kB)\n",
            "\r\u001b[K     |███████▌                        | 10kB 9.8MB/s eta 0:00:01\r\u001b[K     |███████████████                 | 20kB 2.1MB/s eta 0:00:01\r\u001b[K     |██████████████████████▋         | 30kB 3.0MB/s eta 0:00:01\r\u001b[K     |██████████████████████████████▏ | 40kB 2.0MB/s eta 0:00:01\r\u001b[K     |████████████████████████████████| 51kB 1.9MB/s \n",
            "\u001b[?25hBuilding wheels for collected packages: emoji\n",
            "  Building wheel for emoji (setup.py) ... \u001b[?25l\u001b[?25hdone\n",
            "  Created wheel for emoji: filename=emoji-0.5.4-cp36-none-any.whl size=42175 sha256=b9c0b5d19ea8974f387a506079a0ab7e09f85705d38a5ec14d58b173e932a369\n",
            "  Stored in directory: /root/.cache/pip/wheels/2a/a9/0a/4f8e8cce8074232aba240caca3fade315bb49fac68808d1a9c\n",
            "Successfully built emoji\n",
            "Installing collected packages: emoji\n",
            "Successfully installed emoji-0.5.4\n"
          ],
          "name": "stdout"
        }
      ]
    },
    {
      "cell_type": "code",
      "metadata": {
        "id": "J01gpAMiOsKK",
        "colab_type": "code",
        "colab": {}
      },
      "source": [
        "import emoji"
      ],
      "execution_count": 0,
      "outputs": []
    },
    {
      "cell_type": "code",
      "metadata": {
        "id": "qa-Kv65OOsKN",
        "colab_type": "code",
        "colab": {}
      },
      "source": [
        "text=\"The game is on 🔥 🔥\""
      ],
      "execution_count": 0,
      "outputs": []
    },
    {
      "cell_type": "code",
      "metadata": {
        "id": "4zejR9X2cVyv",
        "colab_type": "code",
        "outputId": "574282d1-e03b-4b1e-e438-edb7f47d1bf9",
        "colab": {
          "base_uri": "https://localhost:8080/",
          "height": 34
        }
      },
      "source": [
        "emoji.demojize(text, delimiters=(\"\", \"\"))"
      ],
      "execution_count": 0,
      "outputs": [
        {
          "output_type": "execute_result",
          "data": {
            "text/plain": [
              "'The game is on fire fire'"
            ]
          },
          "metadata": {
            "tags": []
          },
          "execution_count": 6
        }
      ]
    },
    {
      "cell_type": "code",
      "metadata": {
        "id": "gL78ZyskcZq3",
        "colab_type": "code",
        "colab": {}
      },
      "source": [
        "\n",
        "punct=r\"[](-,.:'@#?!&$)[\\\"-]+\"\n",
        "text=\"This []:{-&%@!is hyphen ](-,.:'@#?!&$)[\\\"\"\n",
        "text=re.compile(punct).sub(\" \",text)"
      ],
      "execution_count": 0,
      "outputs": []
    },
    {
      "cell_type": "code",
      "metadata": {
        "id": "B--EKRubUarY",
        "colab_type": "code",
        "outputId": "be41219a-2272-41f3-f140-73dab55b48f2",
        "colab": {
          "base_uri": "https://localhost:8080/",
          "height": 34
        }
      },
      "source": [
        "print(text)"
      ],
      "execution_count": 0,
      "outputs": [
        {
          "output_type": "stream",
          "text": [
            "This  { % is hyphen  \n"
          ],
          "name": "stdout"
        }
      ]
    },
    {
      "cell_type": "code",
      "metadata": {
        "id": "PLbsO5XGUjDY",
        "colab_type": "code",
        "colab": {}
      },
      "source": [
        "x=\"We´ll It's and I've\"\n",
        "x=contractions.fix(x)"
      ],
      "execution_count": 0,
      "outputs": []
    },
    {
      "cell_type": "code",
      "metadata": {
        "id": "RsGNSnTKasRb",
        "colab_type": "code",
        "outputId": "1be48b9b-f2e4-4672-ba0d-c4a5b31a8b71",
        "colab": {
          "base_uri": "https://localhost:8080/",
          "height": 34
        }
      },
      "source": [
        "print(x)"
      ],
      "execution_count": 0,
      "outputs": [
        {
          "output_type": "stream",
          "text": [
            "We´ll it is and I have\n"
          ],
          "name": "stdout"
        }
      ]
    },
    {
      "cell_type": "code",
      "metadata": {
        "id": "UnFeHtVpatwm",
        "colab_type": "code",
        "colab": {}
      },
      "source": [
        "sy=\"[´]\"\n",
        "t=\"We´ll\"\n",
        "t=re.compile(sy).sub(\"'\",t)   "
      ],
      "execution_count": 0,
      "outputs": []
    },
    {
      "cell_type": "code",
      "metadata": {
        "id": "zcHilTaBcPRC",
        "colab_type": "code",
        "outputId": "ff482ffd-7d33-420e-851b-c63bd58d0d98",
        "colab": {
          "base_uri": "https://localhost:8080/",
          "height": 34
        }
      },
      "source": [
        "print(t)"
      ],
      "execution_count": 0,
      "outputs": [
        {
          "output_type": "stream",
          "text": [
            "We'll\n"
          ],
          "name": "stdout"
        }
      ]
    },
    {
      "cell_type": "code",
      "metadata": {
        "id": "q24ykQehMXg6",
        "colab_type": "code",
        "outputId": "5202e5f7-0fd2-4d06-b787-aeb2fc46db88",
        "colab": {
          "base_uri": "https://localhost:8080/",
          "height": 34
        }
      },
      "source": [
        "labels=data[:,1]\n",
        "len(labels)"
      ],
      "execution_count": 0,
      "outputs": [
        {
          "output_type": "execute_result",
          "data": {
            "text/plain": [
              "25000"
            ]
          },
          "metadata": {
            "tags": []
          },
          "execution_count": 28
        }
      ]
    },
    {
      "cell_type": "code",
      "metadata": {
        "id": "57_WtszIcQsG",
        "colab_type": "code",
        "colab": {}
      },
      "source": [
        "docs=np.array([labels,final_doc]).transpose()"
      ],
      "execution_count": 0,
      "outputs": []
    },
    {
      "cell_type": "code",
      "metadata": {
        "id": "H7sYwvnh-6p5",
        "colab_type": "code",
        "outputId": "188ae9e4-d063-480c-927a-a38a3b542bc4",
        "colab": {
          "base_uri": "https://localhost:8080/",
          "height": 88
        }
      },
      "source": [
        "docs[0]"
      ],
      "execution_count": 0,
      "outputs": [
        {
          "output_type": "execute_result",
          "data": {
            "text/plain": [
              "array([1,\n",
              "       'stuff go moment mj start listen music watch odd documentari watch wiz watch moonwalk mayb want get certain insight guy thought realli cool eighti mayb make mind whether guilti innoc moonwalk part biographi part featur film rememb go see cinema origin releas subtl messag mj feel toward press also obviou messag drug bad kay visual impress cours michael jackson unless remot like mj anyway go hate find bore may call mj egotist consent make movi mj fan would say made fan true realli nice actual featur film bit final start minut exclud smooth crimin sequenc joe pesci convinc psychopath power drug lord want mj dead bad beyond mj overheard plan nah joe pesci charact rant want peopl know suppli drug etc dunno mayb hate mj music lot cool thing like mj turn car robot whole speed demon sequenc also director must patienc saint came film kiddi bad sequenc usual director hate work one kid let alon whole bunch perform complex danc scene bottom line movi peopl like mj one level anoth think peopl stay away tri give wholesom messag iron mj bestest buddi movi girl michael jackson truli one talent peopl ever grace planet guilti well attent gave subject hmmm well know peopl differ behind close door know fact either extrem nice stupid guy one sickest liar hope latter'],\n",
              "      dtype=object)"
            ]
          },
          "metadata": {
            "tags": []
          },
          "execution_count": 30
        }
      ]
    },
    {
      "cell_type": "code",
      "metadata": {
        "id": "iLwWn6X8_SuE",
        "colab_type": "code",
        "outputId": "96ba785b-c7d3-4072-e7ed-81e8c9adc2fc",
        "colab": {
          "base_uri": "https://localhost:8080/",
          "height": 34
        }
      },
      "source": [
        "docs.shape"
      ],
      "execution_count": 0,
      "outputs": [
        {
          "output_type": "execute_result",
          "data": {
            "text/plain": [
              "(25000, 2)"
            ]
          },
          "metadata": {
            "tags": []
          },
          "execution_count": 31
        }
      ]
    },
    {
      "cell_type": "code",
      "metadata": {
        "id": "UaBxlO-FHkI4",
        "colab_type": "code",
        "colab": {}
      },
      "source": [
        ""
      ],
      "execution_count": 0,
      "outputs": []
    },
    {
      "cell_type": "code",
      "metadata": {
        "id": "7K9yEodyIKku",
        "colab_type": "code",
        "colab": {}
      },
      "source": [
        "half_doc=np.array(final_doc[0:100])"
      ],
      "execution_count": 0,
      "outputs": []
    },
    {
      "cell_type": "code",
      "metadata": {
        "id": "64ApchGD_UMm",
        "colab_type": "code",
        "colab": {}
      },
      "source": [
        "from sklearn.feature_extraction.text import TfidfVectorizer\n",
        "vectorizer = TfidfVectorizer()\n",
        "vectors = vectorizer.fit_transform(half_doc)\n",
        "feature_names = vectorizer.get_feature_names()\n",
        "dense = vectors.todense()\n",
        "denselist = dense.tolist()\n",
        "vec = pd.DataFrame(denselist, columns=feature_names)"
      ],
      "execution_count": 0,
      "outputs": []
    },
    {
      "cell_type": "code",
      "metadata": {
        "id": "dSdZdJ7HFGDw",
        "colab_type": "code",
        "outputId": "0c8a7f22-8efd-438b-9df8-ff28c24a5657",
        "colab": {
          "base_uri": "https://localhost:8080/",
          "height": 439
        }
      },
      "source": [
        "vec"
      ],
      "execution_count": 0,
      "outputs": [
        {
          "output_type": "execute_result",
          "data": {
            "text/html": [
              "<div>\n",
              "<style scoped>\n",
              "    .dataframe tbody tr th:only-of-type {\n",
              "        vertical-align: middle;\n",
              "    }\n",
              "\n",
              "    .dataframe tbody tr th {\n",
              "        vertical-align: top;\n",
              "    }\n",
              "\n",
              "    .dataframe thead th {\n",
              "        text-align: right;\n",
              "    }\n",
              "</style>\n",
              "<table border=\"1\" class=\"dataframe\">\n",
              "  <thead>\n",
              "    <tr style=\"text-align: right;\">\n",
              "      <th></th>\n",
              "      <th>abandon</th>\n",
              "      <th>abc</th>\n",
              "      <th>abil</th>\n",
              "      <th>abl</th>\n",
              "      <th>abomin</th>\n",
              "      <th>absenc</th>\n",
              "      <th>absolut</th>\n",
              "      <th>absorb</th>\n",
              "      <th>absurd</th>\n",
              "      <th>abundantli</th>\n",
              "      <th>abyss</th>\n",
              "      <th>academi</th>\n",
              "      <th>accent</th>\n",
              "      <th>accentu</th>\n",
              "      <th>accept</th>\n",
              "      <th>accid</th>\n",
              "      <th>accident</th>\n",
              "      <th>accompani</th>\n",
              "      <th>accomplic</th>\n",
              "      <th>accomplish</th>\n",
              "      <th>accord</th>\n",
              "      <th>accustom</th>\n",
              "      <th>achiev</th>\n",
              "      <th>ackland</th>\n",
              "      <th>acquir</th>\n",
              "      <th>across</th>\n",
              "      <th>act</th>\n",
              "      <th>action</th>\n",
              "      <th>activ</th>\n",
              "      <th>activist</th>\n",
              "      <th>actor</th>\n",
              "      <th>actress</th>\n",
              "      <th>actual</th>\n",
              "      <th>ad</th>\n",
              "      <th>adam</th>\n",
              "      <th>adamantli</th>\n",
              "      <th>adapt</th>\n",
              "      <th>add</th>\n",
              "      <th>addict</th>\n",
              "      <th>addit</th>\n",
              "      <th>...</th>\n",
              "      <th>wors</th>\n",
              "      <th>worst</th>\n",
              "      <th>worth</th>\n",
              "      <th>worthi</th>\n",
              "      <th>worthless</th>\n",
              "      <th>worthwhil</th>\n",
              "      <th>would</th>\n",
              "      <th>wow</th>\n",
              "      <th>wrap</th>\n",
              "      <th>wretch</th>\n",
              "      <th>wring</th>\n",
              "      <th>write</th>\n",
              "      <th>writer</th>\n",
              "      <th>written</th>\n",
              "      <th>wrong</th>\n",
              "      <th>yaayyyyy</th>\n",
              "      <th>yarn</th>\n",
              "      <th>yawn</th>\n",
              "      <th>ye</th>\n",
              "      <th>yeah</th>\n",
              "      <th>year</th>\n",
              "      <th>yet</th>\n",
              "      <th>yike</th>\n",
              "      <th>york</th>\n",
              "      <th>yorker</th>\n",
              "      <th>young</th>\n",
              "      <th>younger</th>\n",
              "      <th>youngster</th>\n",
              "      <th>yul</th>\n",
              "      <th>yummi</th>\n",
              "      <th>zaprud</th>\n",
              "      <th>zero</th>\n",
              "      <th>zeta</th>\n",
              "      <th>zeu</th>\n",
              "      <th>zion</th>\n",
              "      <th>zip</th>\n",
              "      <th>zone</th>\n",
              "      <th>zoom</th>\n",
              "      <th>zuniga</th>\n",
              "      <th>êxtase</th>\n",
              "    </tr>\n",
              "  </thead>\n",
              "  <tbody>\n",
              "    <tr>\n",
              "      <th>0</th>\n",
              "      <td>0.0</td>\n",
              "      <td>0.0</td>\n",
              "      <td>0.0</td>\n",
              "      <td>0.0</td>\n",
              "      <td>0.0</td>\n",
              "      <td>0.0</td>\n",
              "      <td>0.0</td>\n",
              "      <td>0.0</td>\n",
              "      <td>0.0</td>\n",
              "      <td>0.0</td>\n",
              "      <td>0.0</td>\n",
              "      <td>0.0</td>\n",
              "      <td>0.00000</td>\n",
              "      <td>0.0</td>\n",
              "      <td>0.0</td>\n",
              "      <td>0.0</td>\n",
              "      <td>0.0</td>\n",
              "      <td>0.0</td>\n",
              "      <td>0.0</td>\n",
              "      <td>0.000000</td>\n",
              "      <td>0.0</td>\n",
              "      <td>0.0</td>\n",
              "      <td>0.0</td>\n",
              "      <td>0.0</td>\n",
              "      <td>0.0</td>\n",
              "      <td>0.000000</td>\n",
              "      <td>0.00000</td>\n",
              "      <td>0.000000</td>\n",
              "      <td>0.0</td>\n",
              "      <td>0.0</td>\n",
              "      <td>0.000000</td>\n",
              "      <td>0.0</td>\n",
              "      <td>0.032707</td>\n",
              "      <td>0.0</td>\n",
              "      <td>0.0</td>\n",
              "      <td>0.000000</td>\n",
              "      <td>0.0</td>\n",
              "      <td>0.00000</td>\n",
              "      <td>0.0</td>\n",
              "      <td>0.000000</td>\n",
              "      <td>...</td>\n",
              "      <td>0.0</td>\n",
              "      <td>0.0</td>\n",
              "      <td>0.0</td>\n",
              "      <td>0.0</td>\n",
              "      <td>0.0</td>\n",
              "      <td>0.0</td>\n",
              "      <td>0.025644</td>\n",
              "      <td>0.0</td>\n",
              "      <td>0.0</td>\n",
              "      <td>0.0</td>\n",
              "      <td>0.0</td>\n",
              "      <td>0.0</td>\n",
              "      <td>0.0</td>\n",
              "      <td>0.0</td>\n",
              "      <td>0.0</td>\n",
              "      <td>0.0</td>\n",
              "      <td>0.0</td>\n",
              "      <td>0.0</td>\n",
              "      <td>0.0</td>\n",
              "      <td>0.0</td>\n",
              "      <td>0.000000</td>\n",
              "      <td>0.000000</td>\n",
              "      <td>0.0</td>\n",
              "      <td>0.0</td>\n",
              "      <td>0.0</td>\n",
              "      <td>0.0</td>\n",
              "      <td>0.0</td>\n",
              "      <td>0.000000</td>\n",
              "      <td>0.0</td>\n",
              "      <td>0.0</td>\n",
              "      <td>0.0</td>\n",
              "      <td>0.0</td>\n",
              "      <td>0.0</td>\n",
              "      <td>0.000000</td>\n",
              "      <td>0.0</td>\n",
              "      <td>0.0</td>\n",
              "      <td>0.0</td>\n",
              "      <td>0.0</td>\n",
              "      <td>0.0</td>\n",
              "      <td>0.0</td>\n",
              "    </tr>\n",
              "    <tr>\n",
              "      <th>1</th>\n",
              "      <td>0.0</td>\n",
              "      <td>0.0</td>\n",
              "      <td>0.0</td>\n",
              "      <td>0.0</td>\n",
              "      <td>0.0</td>\n",
              "      <td>0.0</td>\n",
              "      <td>0.0</td>\n",
              "      <td>0.0</td>\n",
              "      <td>0.0</td>\n",
              "      <td>0.0</td>\n",
              "      <td>0.0</td>\n",
              "      <td>0.0</td>\n",
              "      <td>0.00000</td>\n",
              "      <td>0.0</td>\n",
              "      <td>0.0</td>\n",
              "      <td>0.0</td>\n",
              "      <td>0.0</td>\n",
              "      <td>0.0</td>\n",
              "      <td>0.0</td>\n",
              "      <td>0.000000</td>\n",
              "      <td>0.0</td>\n",
              "      <td>0.0</td>\n",
              "      <td>0.0</td>\n",
              "      <td>0.0</td>\n",
              "      <td>0.0</td>\n",
              "      <td>0.000000</td>\n",
              "      <td>0.00000</td>\n",
              "      <td>0.000000</td>\n",
              "      <td>0.0</td>\n",
              "      <td>0.0</td>\n",
              "      <td>0.000000</td>\n",
              "      <td>0.0</td>\n",
              "      <td>0.000000</td>\n",
              "      <td>0.0</td>\n",
              "      <td>0.0</td>\n",
              "      <td>0.000000</td>\n",
              "      <td>0.0</td>\n",
              "      <td>0.00000</td>\n",
              "      <td>0.0</td>\n",
              "      <td>0.000000</td>\n",
              "      <td>...</td>\n",
              "      <td>0.0</td>\n",
              "      <td>0.0</td>\n",
              "      <td>0.0</td>\n",
              "      <td>0.0</td>\n",
              "      <td>0.0</td>\n",
              "      <td>0.0</td>\n",
              "      <td>0.000000</td>\n",
              "      <td>0.0</td>\n",
              "      <td>0.0</td>\n",
              "      <td>0.0</td>\n",
              "      <td>0.0</td>\n",
              "      <td>0.0</td>\n",
              "      <td>0.0</td>\n",
              "      <td>0.0</td>\n",
              "      <td>0.0</td>\n",
              "      <td>0.0</td>\n",
              "      <td>0.0</td>\n",
              "      <td>0.0</td>\n",
              "      <td>0.0</td>\n",
              "      <td>0.0</td>\n",
              "      <td>0.070437</td>\n",
              "      <td>0.000000</td>\n",
              "      <td>0.0</td>\n",
              "      <td>0.0</td>\n",
              "      <td>0.0</td>\n",
              "      <td>0.0</td>\n",
              "      <td>0.0</td>\n",
              "      <td>0.000000</td>\n",
              "      <td>0.0</td>\n",
              "      <td>0.0</td>\n",
              "      <td>0.0</td>\n",
              "      <td>0.0</td>\n",
              "      <td>0.0</td>\n",
              "      <td>0.000000</td>\n",
              "      <td>0.0</td>\n",
              "      <td>0.0</td>\n",
              "      <td>0.0</td>\n",
              "      <td>0.0</td>\n",
              "      <td>0.0</td>\n",
              "      <td>0.0</td>\n",
              "    </tr>\n",
              "    <tr>\n",
              "      <th>2</th>\n",
              "      <td>0.0</td>\n",
              "      <td>0.0</td>\n",
              "      <td>0.0</td>\n",
              "      <td>0.0</td>\n",
              "      <td>0.0</td>\n",
              "      <td>0.0</td>\n",
              "      <td>0.0</td>\n",
              "      <td>0.0</td>\n",
              "      <td>0.0</td>\n",
              "      <td>0.0</td>\n",
              "      <td>0.0</td>\n",
              "      <td>0.0</td>\n",
              "      <td>0.00000</td>\n",
              "      <td>0.0</td>\n",
              "      <td>0.0</td>\n",
              "      <td>0.0</td>\n",
              "      <td>0.0</td>\n",
              "      <td>0.0</td>\n",
              "      <td>0.0</td>\n",
              "      <td>0.000000</td>\n",
              "      <td>0.0</td>\n",
              "      <td>0.0</td>\n",
              "      <td>0.0</td>\n",
              "      <td>0.0</td>\n",
              "      <td>0.0</td>\n",
              "      <td>0.000000</td>\n",
              "      <td>0.00000</td>\n",
              "      <td>0.000000</td>\n",
              "      <td>0.0</td>\n",
              "      <td>0.0</td>\n",
              "      <td>0.029019</td>\n",
              "      <td>0.0</td>\n",
              "      <td>0.000000</td>\n",
              "      <td>0.0</td>\n",
              "      <td>0.0</td>\n",
              "      <td>0.000000</td>\n",
              "      <td>0.0</td>\n",
              "      <td>0.00000</td>\n",
              "      <td>0.0</td>\n",
              "      <td>0.050120</td>\n",
              "      <td>...</td>\n",
              "      <td>0.0</td>\n",
              "      <td>0.0</td>\n",
              "      <td>0.0</td>\n",
              "      <td>0.0</td>\n",
              "      <td>0.0</td>\n",
              "      <td>0.0</td>\n",
              "      <td>0.000000</td>\n",
              "      <td>0.0</td>\n",
              "      <td>0.0</td>\n",
              "      <td>0.0</td>\n",
              "      <td>0.0</td>\n",
              "      <td>0.0</td>\n",
              "      <td>0.0</td>\n",
              "      <td>0.0</td>\n",
              "      <td>0.0</td>\n",
              "      <td>0.0</td>\n",
              "      <td>0.0</td>\n",
              "      <td>0.0</td>\n",
              "      <td>0.0</td>\n",
              "      <td>0.0</td>\n",
              "      <td>0.000000</td>\n",
              "      <td>0.000000</td>\n",
              "      <td>0.0</td>\n",
              "      <td>0.0</td>\n",
              "      <td>0.0</td>\n",
              "      <td>0.0</td>\n",
              "      <td>0.0</td>\n",
              "      <td>0.061585</td>\n",
              "      <td>0.0</td>\n",
              "      <td>0.0</td>\n",
              "      <td>0.0</td>\n",
              "      <td>0.0</td>\n",
              "      <td>0.0</td>\n",
              "      <td>0.061585</td>\n",
              "      <td>0.0</td>\n",
              "      <td>0.0</td>\n",
              "      <td>0.0</td>\n",
              "      <td>0.0</td>\n",
              "      <td>0.0</td>\n",
              "      <td>0.0</td>\n",
              "    </tr>\n",
              "    <tr>\n",
              "      <th>3</th>\n",
              "      <td>0.0</td>\n",
              "      <td>0.0</td>\n",
              "      <td>0.0</td>\n",
              "      <td>0.0</td>\n",
              "      <td>0.0</td>\n",
              "      <td>0.0</td>\n",
              "      <td>0.0</td>\n",
              "      <td>0.0</td>\n",
              "      <td>0.0</td>\n",
              "      <td>0.0</td>\n",
              "      <td>0.0</td>\n",
              "      <td>0.0</td>\n",
              "      <td>0.00000</td>\n",
              "      <td>0.0</td>\n",
              "      <td>0.0</td>\n",
              "      <td>0.0</td>\n",
              "      <td>0.0</td>\n",
              "      <td>0.0</td>\n",
              "      <td>0.0</td>\n",
              "      <td>0.000000</td>\n",
              "      <td>0.0</td>\n",
              "      <td>0.0</td>\n",
              "      <td>0.0</td>\n",
              "      <td>0.0</td>\n",
              "      <td>0.0</td>\n",
              "      <td>0.000000</td>\n",
              "      <td>0.00000</td>\n",
              "      <td>0.000000</td>\n",
              "      <td>0.0</td>\n",
              "      <td>0.0</td>\n",
              "      <td>0.035528</td>\n",
              "      <td>0.0</td>\n",
              "      <td>0.000000</td>\n",
              "      <td>0.0</td>\n",
              "      <td>0.0</td>\n",
              "      <td>0.000000</td>\n",
              "      <td>0.0</td>\n",
              "      <td>0.06136</td>\n",
              "      <td>0.0</td>\n",
              "      <td>0.000000</td>\n",
              "      <td>...</td>\n",
              "      <td>0.0</td>\n",
              "      <td>0.0</td>\n",
              "      <td>0.0</td>\n",
              "      <td>0.0</td>\n",
              "      <td>0.0</td>\n",
              "      <td>0.0</td>\n",
              "      <td>0.000000</td>\n",
              "      <td>0.0</td>\n",
              "      <td>0.0</td>\n",
              "      <td>0.0</td>\n",
              "      <td>0.0</td>\n",
              "      <td>0.0</td>\n",
              "      <td>0.0</td>\n",
              "      <td>0.0</td>\n",
              "      <td>0.0</td>\n",
              "      <td>0.0</td>\n",
              "      <td>0.0</td>\n",
              "      <td>0.0</td>\n",
              "      <td>0.0</td>\n",
              "      <td>0.0</td>\n",
              "      <td>0.000000</td>\n",
              "      <td>0.000000</td>\n",
              "      <td>0.0</td>\n",
              "      <td>0.0</td>\n",
              "      <td>0.0</td>\n",
              "      <td>0.0</td>\n",
              "      <td>0.0</td>\n",
              "      <td>0.000000</td>\n",
              "      <td>0.0</td>\n",
              "      <td>0.0</td>\n",
              "      <td>0.0</td>\n",
              "      <td>0.0</td>\n",
              "      <td>0.0</td>\n",
              "      <td>0.000000</td>\n",
              "      <td>0.0</td>\n",
              "      <td>0.0</td>\n",
              "      <td>0.0</td>\n",
              "      <td>0.0</td>\n",
              "      <td>0.0</td>\n",
              "      <td>0.0</td>\n",
              "    </tr>\n",
              "    <tr>\n",
              "      <th>4</th>\n",
              "      <td>0.0</td>\n",
              "      <td>0.0</td>\n",
              "      <td>0.0</td>\n",
              "      <td>0.0</td>\n",
              "      <td>0.0</td>\n",
              "      <td>0.0</td>\n",
              "      <td>0.0</td>\n",
              "      <td>0.0</td>\n",
              "      <td>0.0</td>\n",
              "      <td>0.0</td>\n",
              "      <td>0.0</td>\n",
              "      <td>0.0</td>\n",
              "      <td>0.06744</td>\n",
              "      <td>0.0</td>\n",
              "      <td>0.0</td>\n",
              "      <td>0.0</td>\n",
              "      <td>0.0</td>\n",
              "      <td>0.0</td>\n",
              "      <td>0.0</td>\n",
              "      <td>0.000000</td>\n",
              "      <td>0.0</td>\n",
              "      <td>0.0</td>\n",
              "      <td>0.0</td>\n",
              "      <td>0.0</td>\n",
              "      <td>0.0</td>\n",
              "      <td>0.000000</td>\n",
              "      <td>0.00000</td>\n",
              "      <td>0.000000</td>\n",
              "      <td>0.0</td>\n",
              "      <td>0.0</td>\n",
              "      <td>0.034631</td>\n",
              "      <td>0.0</td>\n",
              "      <td>0.041539</td>\n",
              "      <td>0.0</td>\n",
              "      <td>0.0</td>\n",
              "      <td>0.000000</td>\n",
              "      <td>0.0</td>\n",
              "      <td>0.00000</td>\n",
              "      <td>0.0</td>\n",
              "      <td>0.000000</td>\n",
              "      <td>...</td>\n",
              "      <td>0.0</td>\n",
              "      <td>0.0</td>\n",
              "      <td>0.0</td>\n",
              "      <td>0.0</td>\n",
              "      <td>0.0</td>\n",
              "      <td>0.0</td>\n",
              "      <td>0.000000</td>\n",
              "      <td>0.0</td>\n",
              "      <td>0.0</td>\n",
              "      <td>0.0</td>\n",
              "      <td>0.0</td>\n",
              "      <td>0.0</td>\n",
              "      <td>0.0</td>\n",
              "      <td>0.0</td>\n",
              "      <td>0.0</td>\n",
              "      <td>0.0</td>\n",
              "      <td>0.0</td>\n",
              "      <td>0.0</td>\n",
              "      <td>0.0</td>\n",
              "      <td>0.0</td>\n",
              "      <td>0.044438</td>\n",
              "      <td>0.000000</td>\n",
              "      <td>0.0</td>\n",
              "      <td>0.0</td>\n",
              "      <td>0.0</td>\n",
              "      <td>0.0</td>\n",
              "      <td>0.0</td>\n",
              "      <td>0.000000</td>\n",
              "      <td>0.0</td>\n",
              "      <td>0.0</td>\n",
              "      <td>0.0</td>\n",
              "      <td>0.0</td>\n",
              "      <td>0.0</td>\n",
              "      <td>0.000000</td>\n",
              "      <td>0.0</td>\n",
              "      <td>0.0</td>\n",
              "      <td>0.0</td>\n",
              "      <td>0.0</td>\n",
              "      <td>0.0</td>\n",
              "      <td>0.0</td>\n",
              "    </tr>\n",
              "    <tr>\n",
              "      <th>...</th>\n",
              "      <td>...</td>\n",
              "      <td>...</td>\n",
              "      <td>...</td>\n",
              "      <td>...</td>\n",
              "      <td>...</td>\n",
              "      <td>...</td>\n",
              "      <td>...</td>\n",
              "      <td>...</td>\n",
              "      <td>...</td>\n",
              "      <td>...</td>\n",
              "      <td>...</td>\n",
              "      <td>...</td>\n",
              "      <td>...</td>\n",
              "      <td>...</td>\n",
              "      <td>...</td>\n",
              "      <td>...</td>\n",
              "      <td>...</td>\n",
              "      <td>...</td>\n",
              "      <td>...</td>\n",
              "      <td>...</td>\n",
              "      <td>...</td>\n",
              "      <td>...</td>\n",
              "      <td>...</td>\n",
              "      <td>...</td>\n",
              "      <td>...</td>\n",
              "      <td>...</td>\n",
              "      <td>...</td>\n",
              "      <td>...</td>\n",
              "      <td>...</td>\n",
              "      <td>...</td>\n",
              "      <td>...</td>\n",
              "      <td>...</td>\n",
              "      <td>...</td>\n",
              "      <td>...</td>\n",
              "      <td>...</td>\n",
              "      <td>...</td>\n",
              "      <td>...</td>\n",
              "      <td>...</td>\n",
              "      <td>...</td>\n",
              "      <td>...</td>\n",
              "      <td>...</td>\n",
              "      <td>...</td>\n",
              "      <td>...</td>\n",
              "      <td>...</td>\n",
              "      <td>...</td>\n",
              "      <td>...</td>\n",
              "      <td>...</td>\n",
              "      <td>...</td>\n",
              "      <td>...</td>\n",
              "      <td>...</td>\n",
              "      <td>...</td>\n",
              "      <td>...</td>\n",
              "      <td>...</td>\n",
              "      <td>...</td>\n",
              "      <td>...</td>\n",
              "      <td>...</td>\n",
              "      <td>...</td>\n",
              "      <td>...</td>\n",
              "      <td>...</td>\n",
              "      <td>...</td>\n",
              "      <td>...</td>\n",
              "      <td>...</td>\n",
              "      <td>...</td>\n",
              "      <td>...</td>\n",
              "      <td>...</td>\n",
              "      <td>...</td>\n",
              "      <td>...</td>\n",
              "      <td>...</td>\n",
              "      <td>...</td>\n",
              "      <td>...</td>\n",
              "      <td>...</td>\n",
              "      <td>...</td>\n",
              "      <td>...</td>\n",
              "      <td>...</td>\n",
              "      <td>...</td>\n",
              "      <td>...</td>\n",
              "      <td>...</td>\n",
              "      <td>...</td>\n",
              "      <td>...</td>\n",
              "      <td>...</td>\n",
              "      <td>...</td>\n",
              "    </tr>\n",
              "    <tr>\n",
              "      <th>95</th>\n",
              "      <td>0.0</td>\n",
              "      <td>0.0</td>\n",
              "      <td>0.0</td>\n",
              "      <td>0.0</td>\n",
              "      <td>0.0</td>\n",
              "      <td>0.0</td>\n",
              "      <td>0.0</td>\n",
              "      <td>0.0</td>\n",
              "      <td>0.0</td>\n",
              "      <td>0.0</td>\n",
              "      <td>0.0</td>\n",
              "      <td>0.0</td>\n",
              "      <td>0.00000</td>\n",
              "      <td>0.0</td>\n",
              "      <td>0.0</td>\n",
              "      <td>0.0</td>\n",
              "      <td>0.0</td>\n",
              "      <td>0.0</td>\n",
              "      <td>0.0</td>\n",
              "      <td>0.000000</td>\n",
              "      <td>0.0</td>\n",
              "      <td>0.0</td>\n",
              "      <td>0.0</td>\n",
              "      <td>0.0</td>\n",
              "      <td>0.0</td>\n",
              "      <td>0.097775</td>\n",
              "      <td>0.00000</td>\n",
              "      <td>0.000000</td>\n",
              "      <td>0.0</td>\n",
              "      <td>0.0</td>\n",
              "      <td>0.000000</td>\n",
              "      <td>0.0</td>\n",
              "      <td>0.000000</td>\n",
              "      <td>0.0</td>\n",
              "      <td>0.0</td>\n",
              "      <td>0.000000</td>\n",
              "      <td>0.0</td>\n",
              "      <td>0.00000</td>\n",
              "      <td>0.0</td>\n",
              "      <td>0.000000</td>\n",
              "      <td>...</td>\n",
              "      <td>0.0</td>\n",
              "      <td>0.0</td>\n",
              "      <td>0.0</td>\n",
              "      <td>0.0</td>\n",
              "      <td>0.0</td>\n",
              "      <td>0.0</td>\n",
              "      <td>0.000000</td>\n",
              "      <td>0.0</td>\n",
              "      <td>0.0</td>\n",
              "      <td>0.0</td>\n",
              "      <td>0.0</td>\n",
              "      <td>0.0</td>\n",
              "      <td>0.0</td>\n",
              "      <td>0.0</td>\n",
              "      <td>0.0</td>\n",
              "      <td>0.0</td>\n",
              "      <td>0.0</td>\n",
              "      <td>0.0</td>\n",
              "      <td>0.0</td>\n",
              "      <td>0.0</td>\n",
              "      <td>0.000000</td>\n",
              "      <td>0.000000</td>\n",
              "      <td>0.0</td>\n",
              "      <td>0.0</td>\n",
              "      <td>0.0</td>\n",
              "      <td>0.0</td>\n",
              "      <td>0.0</td>\n",
              "      <td>0.000000</td>\n",
              "      <td>0.0</td>\n",
              "      <td>0.0</td>\n",
              "      <td>0.0</td>\n",
              "      <td>0.0</td>\n",
              "      <td>0.0</td>\n",
              "      <td>0.000000</td>\n",
              "      <td>0.0</td>\n",
              "      <td>0.0</td>\n",
              "      <td>0.0</td>\n",
              "      <td>0.0</td>\n",
              "      <td>0.0</td>\n",
              "      <td>0.0</td>\n",
              "    </tr>\n",
              "    <tr>\n",
              "      <th>96</th>\n",
              "      <td>0.0</td>\n",
              "      <td>0.0</td>\n",
              "      <td>0.0</td>\n",
              "      <td>0.0</td>\n",
              "      <td>0.0</td>\n",
              "      <td>0.0</td>\n",
              "      <td>0.0</td>\n",
              "      <td>0.0</td>\n",
              "      <td>0.0</td>\n",
              "      <td>0.0</td>\n",
              "      <td>0.0</td>\n",
              "      <td>0.0</td>\n",
              "      <td>0.00000</td>\n",
              "      <td>0.0</td>\n",
              "      <td>0.0</td>\n",
              "      <td>0.0</td>\n",
              "      <td>0.0</td>\n",
              "      <td>0.0</td>\n",
              "      <td>0.0</td>\n",
              "      <td>0.126759</td>\n",
              "      <td>0.0</td>\n",
              "      <td>0.0</td>\n",
              "      <td>0.0</td>\n",
              "      <td>0.0</td>\n",
              "      <td>0.0</td>\n",
              "      <td>0.000000</td>\n",
              "      <td>0.06878</td>\n",
              "      <td>0.000000</td>\n",
              "      <td>0.0</td>\n",
              "      <td>0.0</td>\n",
              "      <td>0.119460</td>\n",
              "      <td>0.0</td>\n",
              "      <td>0.000000</td>\n",
              "      <td>0.0</td>\n",
              "      <td>0.0</td>\n",
              "      <td>0.000000</td>\n",
              "      <td>0.0</td>\n",
              "      <td>0.00000</td>\n",
              "      <td>0.0</td>\n",
              "      <td>0.000000</td>\n",
              "      <td>...</td>\n",
              "      <td>0.0</td>\n",
              "      <td>0.0</td>\n",
              "      <td>0.0</td>\n",
              "      <td>0.0</td>\n",
              "      <td>0.0</td>\n",
              "      <td>0.0</td>\n",
              "      <td>0.000000</td>\n",
              "      <td>0.0</td>\n",
              "      <td>0.0</td>\n",
              "      <td>0.0</td>\n",
              "      <td>0.0</td>\n",
              "      <td>0.0</td>\n",
              "      <td>0.0</td>\n",
              "      <td>0.0</td>\n",
              "      <td>0.0</td>\n",
              "      <td>0.0</td>\n",
              "      <td>0.0</td>\n",
              "      <td>0.0</td>\n",
              "      <td>0.0</td>\n",
              "      <td>0.0</td>\n",
              "      <td>0.076644</td>\n",
              "      <td>0.000000</td>\n",
              "      <td>0.0</td>\n",
              "      <td>0.0</td>\n",
              "      <td>0.0</td>\n",
              "      <td>0.0</td>\n",
              "      <td>0.0</td>\n",
              "      <td>0.000000</td>\n",
              "      <td>0.0</td>\n",
              "      <td>0.0</td>\n",
              "      <td>0.0</td>\n",
              "      <td>0.0</td>\n",
              "      <td>0.0</td>\n",
              "      <td>0.000000</td>\n",
              "      <td>0.0</td>\n",
              "      <td>0.0</td>\n",
              "      <td>0.0</td>\n",
              "      <td>0.0</td>\n",
              "      <td>0.0</td>\n",
              "      <td>0.0</td>\n",
              "    </tr>\n",
              "    <tr>\n",
              "      <th>97</th>\n",
              "      <td>0.0</td>\n",
              "      <td>0.0</td>\n",
              "      <td>0.0</td>\n",
              "      <td>0.0</td>\n",
              "      <td>0.0</td>\n",
              "      <td>0.0</td>\n",
              "      <td>0.0</td>\n",
              "      <td>0.0</td>\n",
              "      <td>0.0</td>\n",
              "      <td>0.0</td>\n",
              "      <td>0.0</td>\n",
              "      <td>0.0</td>\n",
              "      <td>0.00000</td>\n",
              "      <td>0.0</td>\n",
              "      <td>0.0</td>\n",
              "      <td>0.0</td>\n",
              "      <td>0.0</td>\n",
              "      <td>0.0</td>\n",
              "      <td>0.0</td>\n",
              "      <td>0.000000</td>\n",
              "      <td>0.0</td>\n",
              "      <td>0.0</td>\n",
              "      <td>0.0</td>\n",
              "      <td>0.0</td>\n",
              "      <td>0.0</td>\n",
              "      <td>0.000000</td>\n",
              "      <td>0.00000</td>\n",
              "      <td>0.000000</td>\n",
              "      <td>0.0</td>\n",
              "      <td>0.0</td>\n",
              "      <td>0.000000</td>\n",
              "      <td>0.0</td>\n",
              "      <td>0.000000</td>\n",
              "      <td>0.0</td>\n",
              "      <td>0.0</td>\n",
              "      <td>0.000000</td>\n",
              "      <td>0.0</td>\n",
              "      <td>0.00000</td>\n",
              "      <td>0.0</td>\n",
              "      <td>0.000000</td>\n",
              "      <td>...</td>\n",
              "      <td>0.0</td>\n",
              "      <td>0.0</td>\n",
              "      <td>0.0</td>\n",
              "      <td>0.0</td>\n",
              "      <td>0.0</td>\n",
              "      <td>0.0</td>\n",
              "      <td>0.000000</td>\n",
              "      <td>0.0</td>\n",
              "      <td>0.0</td>\n",
              "      <td>0.0</td>\n",
              "      <td>0.0</td>\n",
              "      <td>0.0</td>\n",
              "      <td>0.0</td>\n",
              "      <td>0.0</td>\n",
              "      <td>0.0</td>\n",
              "      <td>0.0</td>\n",
              "      <td>0.0</td>\n",
              "      <td>0.0</td>\n",
              "      <td>0.0</td>\n",
              "      <td>0.0</td>\n",
              "      <td>0.000000</td>\n",
              "      <td>0.000000</td>\n",
              "      <td>0.0</td>\n",
              "      <td>0.0</td>\n",
              "      <td>0.0</td>\n",
              "      <td>0.0</td>\n",
              "      <td>0.0</td>\n",
              "      <td>0.000000</td>\n",
              "      <td>0.0</td>\n",
              "      <td>0.0</td>\n",
              "      <td>0.0</td>\n",
              "      <td>0.0</td>\n",
              "      <td>0.0</td>\n",
              "      <td>0.000000</td>\n",
              "      <td>0.0</td>\n",
              "      <td>0.0</td>\n",
              "      <td>0.0</td>\n",
              "      <td>0.0</td>\n",
              "      <td>0.0</td>\n",
              "      <td>0.0</td>\n",
              "    </tr>\n",
              "    <tr>\n",
              "      <th>98</th>\n",
              "      <td>0.0</td>\n",
              "      <td>0.0</td>\n",
              "      <td>0.0</td>\n",
              "      <td>0.0</td>\n",
              "      <td>0.0</td>\n",
              "      <td>0.0</td>\n",
              "      <td>0.0</td>\n",
              "      <td>0.0</td>\n",
              "      <td>0.0</td>\n",
              "      <td>0.0</td>\n",
              "      <td>0.0</td>\n",
              "      <td>0.0</td>\n",
              "      <td>0.00000</td>\n",
              "      <td>0.0</td>\n",
              "      <td>0.0</td>\n",
              "      <td>0.0</td>\n",
              "      <td>0.0</td>\n",
              "      <td>0.0</td>\n",
              "      <td>0.0</td>\n",
              "      <td>0.000000</td>\n",
              "      <td>0.0</td>\n",
              "      <td>0.0</td>\n",
              "      <td>0.0</td>\n",
              "      <td>0.0</td>\n",
              "      <td>0.0</td>\n",
              "      <td>0.000000</td>\n",
              "      <td>0.00000</td>\n",
              "      <td>0.227165</td>\n",
              "      <td>0.0</td>\n",
              "      <td>0.0</td>\n",
              "      <td>0.000000</td>\n",
              "      <td>0.0</td>\n",
              "      <td>0.000000</td>\n",
              "      <td>0.0</td>\n",
              "      <td>0.0</td>\n",
              "      <td>0.112512</td>\n",
              "      <td>0.0</td>\n",
              "      <td>0.00000</td>\n",
              "      <td>0.0</td>\n",
              "      <td>0.091567</td>\n",
              "      <td>...</td>\n",
              "      <td>0.0</td>\n",
              "      <td>0.0</td>\n",
              "      <td>0.0</td>\n",
              "      <td>0.0</td>\n",
              "      <td>0.0</td>\n",
              "      <td>0.0</td>\n",
              "      <td>0.049859</td>\n",
              "      <td>0.0</td>\n",
              "      <td>0.0</td>\n",
              "      <td>0.0</td>\n",
              "      <td>0.0</td>\n",
              "      <td>0.0</td>\n",
              "      <td>0.0</td>\n",
              "      <td>0.0</td>\n",
              "      <td>0.0</td>\n",
              "      <td>0.0</td>\n",
              "      <td>0.0</td>\n",
              "      <td>0.0</td>\n",
              "      <td>0.0</td>\n",
              "      <td>0.0</td>\n",
              "      <td>0.000000</td>\n",
              "      <td>0.096667</td>\n",
              "      <td>0.0</td>\n",
              "      <td>0.0</td>\n",
              "      <td>0.0</td>\n",
              "      <td>0.0</td>\n",
              "      <td>0.0</td>\n",
              "      <td>0.000000</td>\n",
              "      <td>0.0</td>\n",
              "      <td>0.0</td>\n",
              "      <td>0.0</td>\n",
              "      <td>0.0</td>\n",
              "      <td>0.0</td>\n",
              "      <td>0.000000</td>\n",
              "      <td>0.0</td>\n",
              "      <td>0.0</td>\n",
              "      <td>0.0</td>\n",
              "      <td>0.0</td>\n",
              "      <td>0.0</td>\n",
              "      <td>0.0</td>\n",
              "    </tr>\n",
              "    <tr>\n",
              "      <th>99</th>\n",
              "      <td>0.0</td>\n",
              "      <td>0.0</td>\n",
              "      <td>0.0</td>\n",
              "      <td>0.0</td>\n",
              "      <td>0.0</td>\n",
              "      <td>0.0</td>\n",
              "      <td>0.0</td>\n",
              "      <td>0.0</td>\n",
              "      <td>0.0</td>\n",
              "      <td>0.0</td>\n",
              "      <td>0.0</td>\n",
              "      <td>0.0</td>\n",
              "      <td>0.00000</td>\n",
              "      <td>0.0</td>\n",
              "      <td>0.0</td>\n",
              "      <td>0.0</td>\n",
              "      <td>0.0</td>\n",
              "      <td>0.0</td>\n",
              "      <td>0.0</td>\n",
              "      <td>0.000000</td>\n",
              "      <td>0.0</td>\n",
              "      <td>0.0</td>\n",
              "      <td>0.0</td>\n",
              "      <td>0.0</td>\n",
              "      <td>0.0</td>\n",
              "      <td>0.000000</td>\n",
              "      <td>0.00000</td>\n",
              "      <td>0.000000</td>\n",
              "      <td>0.0</td>\n",
              "      <td>0.0</td>\n",
              "      <td>0.000000</td>\n",
              "      <td>0.0</td>\n",
              "      <td>0.000000</td>\n",
              "      <td>0.0</td>\n",
              "      <td>0.0</td>\n",
              "      <td>0.000000</td>\n",
              "      <td>0.0</td>\n",
              "      <td>0.00000</td>\n",
              "      <td>0.0</td>\n",
              "      <td>0.000000</td>\n",
              "      <td>...</td>\n",
              "      <td>0.0</td>\n",
              "      <td>0.0</td>\n",
              "      <td>0.0</td>\n",
              "      <td>0.0</td>\n",
              "      <td>0.0</td>\n",
              "      <td>0.0</td>\n",
              "      <td>0.000000</td>\n",
              "      <td>0.0</td>\n",
              "      <td>0.0</td>\n",
              "      <td>0.0</td>\n",
              "      <td>0.0</td>\n",
              "      <td>0.0</td>\n",
              "      <td>0.0</td>\n",
              "      <td>0.0</td>\n",
              "      <td>0.0</td>\n",
              "      <td>0.0</td>\n",
              "      <td>0.0</td>\n",
              "      <td>0.0</td>\n",
              "      <td>0.0</td>\n",
              "      <td>0.0</td>\n",
              "      <td>0.000000</td>\n",
              "      <td>0.000000</td>\n",
              "      <td>0.0</td>\n",
              "      <td>0.0</td>\n",
              "      <td>0.0</td>\n",
              "      <td>0.0</td>\n",
              "      <td>0.0</td>\n",
              "      <td>0.000000</td>\n",
              "      <td>0.0</td>\n",
              "      <td>0.0</td>\n",
              "      <td>0.0</td>\n",
              "      <td>0.0</td>\n",
              "      <td>0.0</td>\n",
              "      <td>0.000000</td>\n",
              "      <td>0.0</td>\n",
              "      <td>0.0</td>\n",
              "      <td>0.0</td>\n",
              "      <td>0.0</td>\n",
              "      <td>0.0</td>\n",
              "      <td>0.0</td>\n",
              "    </tr>\n",
              "  </tbody>\n",
              "</table>\n",
              "<p>100 rows × 3401 columns</p>\n",
              "</div>"
            ],
            "text/plain": [
              "    abandon  abc  abil  abl  abomin  ...  zip  zone  zoom  zuniga  êxtase\n",
              "0       0.0  0.0   0.0  0.0     0.0  ...  0.0   0.0   0.0     0.0     0.0\n",
              "1       0.0  0.0   0.0  0.0     0.0  ...  0.0   0.0   0.0     0.0     0.0\n",
              "2       0.0  0.0   0.0  0.0     0.0  ...  0.0   0.0   0.0     0.0     0.0\n",
              "3       0.0  0.0   0.0  0.0     0.0  ...  0.0   0.0   0.0     0.0     0.0\n",
              "4       0.0  0.0   0.0  0.0     0.0  ...  0.0   0.0   0.0     0.0     0.0\n",
              "..      ...  ...   ...  ...     ...  ...  ...   ...   ...     ...     ...\n",
              "95      0.0  0.0   0.0  0.0     0.0  ...  0.0   0.0   0.0     0.0     0.0\n",
              "96      0.0  0.0   0.0  0.0     0.0  ...  0.0   0.0   0.0     0.0     0.0\n",
              "97      0.0  0.0   0.0  0.0     0.0  ...  0.0   0.0   0.0     0.0     0.0\n",
              "98      0.0  0.0   0.0  0.0     0.0  ...  0.0   0.0   0.0     0.0     0.0\n",
              "99      0.0  0.0   0.0  0.0     0.0  ...  0.0   0.0   0.0     0.0     0.0\n",
              "\n",
              "[100 rows x 3401 columns]"
            ]
          },
          "metadata": {
            "tags": []
          },
          "execution_count": 35
        }
      ]
    },
    {
      "cell_type": "code",
      "metadata": {
        "id": "OuZbXADC8KaK",
        "colab_type": "code",
        "colab": {}
      },
      "source": [
        "vec[0]"
      ],
      "execution_count": 0,
      "outputs": []
    },
    {
      "cell_type": "code",
      "metadata": {
        "id": "dlrIjUux7bpq",
        "colab_type": "code",
        "colab": {}
      },
      "source": [
        "#for i in range(len(tf_idf)):\n",
        "  #for j in range(len(tf_idf[i])):\n",
        "    #if(tf_idf[i][j]>0):\n",
        "     # print(i,j)\n",
        "      #print(tf_idf[i][j])"
      ],
      "execution_count": 0,
      "outputs": []
    },
    {
      "cell_type": "code",
      "metadata": {
        "id": "AlvyVLbQDpt2",
        "colab_type": "code",
        "outputId": "4cb0ee8c-5490-4fb1-b4dd-5b708a0be016",
        "colab": {
          "base_uri": "https://localhost:8080/",
          "height": 34
        }
      },
      "source": [
        "len(labels)"
      ],
      "execution_count": 0,
      "outputs": [
        {
          "output_type": "execute_result",
          "data": {
            "text/plain": [
              "25000"
            ]
          },
          "metadata": {
            "tags": []
          },
          "execution_count": 80
        }
      ]
    },
    {
      "cell_type": "code",
      "metadata": {
        "id": "hOxL_HgRLZQd",
        "colab_type": "code",
        "colab": {}
      },
      "source": [
        "np.savetxt(r'tf_idf_output.csv', vec, delimiter=',', fmt='%s')"
      ],
      "execution_count": 0,
      "outputs": []
    },
    {
      "cell_type": "code",
      "metadata": {
        "id": "bgjLT_hZwYoJ",
        "colab_type": "code",
        "colab": {}
      },
      "source": [
        "d=pd.read_csv(tf_idf_output.csv)"
      ],
      "execution_count": 0,
      "outputs": []
    },
    {
      "cell_type": "code",
      "metadata": {
        "id": "ZxCiuHck1Akg",
        "colab_type": "code",
        "colab": {}
      },
      "source": [
        "from google.colab import files\n",
        "files.download(\"tf_idf_output.csv\")  "
      ],
      "execution_count": 0,
      "outputs": []
    },
    {
      "cell_type": "code",
      "metadata": {
        "id": "AvPqWJQTDkzf",
        "colab_type": "code",
        "colab": {}
      },
      "source": [
        ""
      ],
      "execution_count": 0,
      "outputs": []
    },
    {
      "cell_type": "code",
      "metadata": {
        "id": "GUaepY4g47Le",
        "colab_type": "code",
        "colab": {}
      },
      "source": [
        "from sklearn.feature_extraction.text import CountVectorizer\n",
        "ngram_vectorizer = CountVectorizer(binary=True, ngram_range=(1, 2))\n",
        "ngram_vectorizer.fit(sample_doc)\n",
        "bigram = ngram_vectorizer.transform(sample_doc)"
      ],
      "execution_count": 0,
      "outputs": []
    },
    {
      "cell_type": "code",
      "metadata": {
        "id": "h_v9Go1wD4dY",
        "colab_type": "code",
        "outputId": "a124e913-d347-4065-c593-4b6a68ad5256",
        "colab": {
          "base_uri": "https://localhost:8080/",
          "height": 51
        }
      },
      "source": [
        "bigram"
      ],
      "execution_count": 0,
      "outputs": [
        {
          "output_type": "execute_result",
          "data": {
            "text/plain": [
              "<300x38696 sparse matrix of type '<class 'numpy.int64'>'\n",
              "\twith 63011 stored elements in Compressed Sparse Row format>"
            ]
          },
          "metadata": {
            "tags": []
          },
          "execution_count": 89
        }
      ]
    },
    {
      "cell_type": "code",
      "metadata": {
        "id": "IFe9v0EAD8qz",
        "colab_type": "code",
        "colab": {}
      },
      "source": [
        "print(bigram)"
      ],
      "execution_count": 0,
      "outputs": []
    },
    {
      "cell_type": "code",
      "metadata": {
        "id": "BdaTiF2pD_lj",
        "colab_type": "code",
        "colab": {}
      },
      "source": [
        "dict={}"
      ],
      "execution_count": 0,
      "outputs": []
    },
    {
      "cell_type": "code",
      "metadata": {
        "id": "gVZVIbdzfmvg",
        "colab_type": "code",
        "colab": {}
      },
      "source": [
        "dict[('w1','w2')]=\"0.2\""
      ],
      "execution_count": 0,
      "outputs": []
    },
    {
      "cell_type": "code",
      "metadata": {
        "id": "7vxJe1qffp3W",
        "colab_type": "code",
        "outputId": "c2e7a065-d394-49b9-c1ae-3f1776b74469",
        "colab": {
          "base_uri": "https://localhost:8080/",
          "height": 34
        }
      },
      "source": [
        "dict"
      ],
      "execution_count": 0,
      "outputs": [
        {
          "output_type": "execute_result",
          "data": {
            "text/plain": [
              "{('w1', 'w2'): '0.2'}"
            ]
          },
          "metadata": {
            "tags": []
          },
          "execution_count": 41
        }
      ]
    },
    {
      "cell_type": "code",
      "metadata": {
        "id": "_E8lcguVusxH",
        "colab_type": "code",
        "colab": {}
      },
      "source": [
        ""
      ],
      "execution_count": 0,
      "outputs": []
    },
    {
      "cell_type": "code",
      "metadata": {
        "id": "voW0m8Gnf8aT",
        "colab_type": "code",
        "outputId": "1354e238-bdb0-49e9-9a29-3cdcae6083a3",
        "colab": {
          "base_uri": "https://localhost:8080/",
          "height": 34
        }
      },
      "source": [
        "s_doc=np.array(final_doc[0:300])\n",
        "l=len(s_doc)\n",
        "l"
      ],
      "execution_count": 0,
      "outputs": [
        {
          "output_type": "execute_result",
          "data": {
            "text/plain": [
              "300"
            ]
          },
          "metadata": {
            "tags": []
          },
          "execution_count": 176
        }
      ]
    },
    {
      "cell_type": "code",
      "metadata": {
        "id": "rIcl64YAv2jx",
        "colab_type": "code",
        "colab": {}
      },
      "source": [
        "s_doc[0]\n"
      ],
      "execution_count": 0,
      "outputs": []
    },
    {
      "cell_type": "code",
      "metadata": {
        "id": "EMEdaJkr0JDz",
        "colab_type": "code",
        "colab": {}
      },
      "source": [
        "u_doc=[]\n",
        "for i in range(l):\n",
        "  u_doc.append(\"<s> \" + s_doc[i] + \" </s>\")"
      ],
      "execution_count": 0,
      "outputs": []
    },
    {
      "cell_type": "code",
      "metadata": {
        "id": "fu3ogDWD0PaG",
        "colab_type": "code",
        "colab": {}
      },
      "source": [
        "u_doc[0]"
      ],
      "execution_count": 0,
      "outputs": []
    },
    {
      "cell_type": "code",
      "metadata": {
        "id": "jAS5d-KEupEB",
        "colab_type": "code",
        "colab": {}
      },
      "source": [
        "uni_doc=[]\n",
        "from nltk.tokenize import WhitespaceTokenizer\n",
        "tokenizer = WhitespaceTokenizer()\n",
        "for i in range(l):\n",
        "    uni_doc.append(tokenizer.tokenize(u_doc[i]))"
      ],
      "execution_count": 0,
      "outputs": []
    },
    {
      "cell_type": "code",
      "metadata": {
        "id": "kV5IGdxDu36S",
        "colab_type": "code",
        "outputId": "c36cb2ea-1187-43b1-e651-e838f5e75f63",
        "colab": {
          "base_uri": "https://localhost:8080/",
          "height": 1000
        }
      },
      "source": [
        "uni_doc[0:2]"
      ],
      "execution_count": 0,
      "outputs": [
        {
          "output_type": "execute_result",
          "data": {
            "text/plain": [
              "[['<s>',\n",
              "  'stuff',\n",
              "  'go',\n",
              "  'moment',\n",
              "  'mj',\n",
              "  'start',\n",
              "  'listen',\n",
              "  'music',\n",
              "  'watch',\n",
              "  'odd',\n",
              "  'documentari',\n",
              "  'watch',\n",
              "  'wiz',\n",
              "  'watch',\n",
              "  'moonwalk',\n",
              "  'mayb',\n",
              "  'want',\n",
              "  'get',\n",
              "  'certain',\n",
              "  'insight',\n",
              "  'guy',\n",
              "  'thought',\n",
              "  'realli',\n",
              "  'cool',\n",
              "  'eighti',\n",
              "  'mayb',\n",
              "  'make',\n",
              "  'mind',\n",
              "  'whether',\n",
              "  'guilti',\n",
              "  'innoc',\n",
              "  'moonwalk',\n",
              "  'part',\n",
              "  'biographi',\n",
              "  'part',\n",
              "  'featur',\n",
              "  'film',\n",
              "  'rememb',\n",
              "  'go',\n",
              "  'see',\n",
              "  'cinema',\n",
              "  'origin',\n",
              "  'releas',\n",
              "  'subtl',\n",
              "  'messag',\n",
              "  'mj',\n",
              "  'feel',\n",
              "  'toward',\n",
              "  'press',\n",
              "  'also',\n",
              "  'obviou',\n",
              "  'messag',\n",
              "  'drug',\n",
              "  'bad',\n",
              "  'kay',\n",
              "  'visual',\n",
              "  'impress',\n",
              "  'cours',\n",
              "  'michael',\n",
              "  'jackson',\n",
              "  'unless',\n",
              "  'remot',\n",
              "  'like',\n",
              "  'mj',\n",
              "  'anyway',\n",
              "  'go',\n",
              "  'hate',\n",
              "  'find',\n",
              "  'bore',\n",
              "  'may',\n",
              "  'call',\n",
              "  'mj',\n",
              "  'egotist',\n",
              "  'consent',\n",
              "  'make',\n",
              "  'movi',\n",
              "  'mj',\n",
              "  'fan',\n",
              "  'would',\n",
              "  'say',\n",
              "  'made',\n",
              "  'fan',\n",
              "  'true',\n",
              "  'realli',\n",
              "  'nice',\n",
              "  'actual',\n",
              "  'featur',\n",
              "  'film',\n",
              "  'bit',\n",
              "  'final',\n",
              "  'start',\n",
              "  'minut',\n",
              "  'exclud',\n",
              "  'smooth',\n",
              "  'crimin',\n",
              "  'sequenc',\n",
              "  'joe',\n",
              "  'pesci',\n",
              "  'convinc',\n",
              "  'psychopath',\n",
              "  'power',\n",
              "  'drug',\n",
              "  'lord',\n",
              "  'want',\n",
              "  'mj',\n",
              "  'dead',\n",
              "  'bad',\n",
              "  'beyond',\n",
              "  'mj',\n",
              "  'overheard',\n",
              "  'plan',\n",
              "  'nah',\n",
              "  'joe',\n",
              "  'pesci',\n",
              "  'charact',\n",
              "  'rant',\n",
              "  'want',\n",
              "  'peopl',\n",
              "  'know',\n",
              "  'suppli',\n",
              "  'drug',\n",
              "  'etc',\n",
              "  'dunno',\n",
              "  'mayb',\n",
              "  'hate',\n",
              "  'mj',\n",
              "  'music',\n",
              "  'lot',\n",
              "  'cool',\n",
              "  'thing',\n",
              "  'like',\n",
              "  'mj',\n",
              "  'turn',\n",
              "  'car',\n",
              "  'robot',\n",
              "  'whole',\n",
              "  'speed',\n",
              "  'demon',\n",
              "  'sequenc',\n",
              "  'also',\n",
              "  'director',\n",
              "  'must',\n",
              "  'patienc',\n",
              "  'saint',\n",
              "  'came',\n",
              "  'film',\n",
              "  'kiddi',\n",
              "  'bad',\n",
              "  'sequenc',\n",
              "  'usual',\n",
              "  'director',\n",
              "  'hate',\n",
              "  'work',\n",
              "  'one',\n",
              "  'kid',\n",
              "  'let',\n",
              "  'alon',\n",
              "  'whole',\n",
              "  'bunch',\n",
              "  'perform',\n",
              "  'complex',\n",
              "  'danc',\n",
              "  'scene',\n",
              "  'bottom',\n",
              "  'line',\n",
              "  'movi',\n",
              "  'peopl',\n",
              "  'like',\n",
              "  'mj',\n",
              "  'one',\n",
              "  'level',\n",
              "  'anoth',\n",
              "  'think',\n",
              "  'peopl',\n",
              "  'stay',\n",
              "  'away',\n",
              "  'tri',\n",
              "  'give',\n",
              "  'wholesom',\n",
              "  'messag',\n",
              "  'iron',\n",
              "  'mj',\n",
              "  'bestest',\n",
              "  'buddi',\n",
              "  'movi',\n",
              "  'girl',\n",
              "  'michael',\n",
              "  'jackson',\n",
              "  'truli',\n",
              "  'one',\n",
              "  'talent',\n",
              "  'peopl',\n",
              "  'ever',\n",
              "  'grace',\n",
              "  'planet',\n",
              "  'guilti',\n",
              "  'well',\n",
              "  'attent',\n",
              "  'gave',\n",
              "  'subject',\n",
              "  'hmmm',\n",
              "  'well',\n",
              "  'know',\n",
              "  'peopl',\n",
              "  'differ',\n",
              "  'behind',\n",
              "  'close',\n",
              "  'door',\n",
              "  'know',\n",
              "  'fact',\n",
              "  'either',\n",
              "  'extrem',\n",
              "  'nice',\n",
              "  'stupid',\n",
              "  'guy',\n",
              "  'one',\n",
              "  'sickest',\n",
              "  'liar',\n",
              "  'hope',\n",
              "  'latter',\n",
              "  '</s>'],\n",
              " ['<s>',\n",
              "  'classic',\n",
              "  'war',\n",
              "  'world',\n",
              "  'timothi',\n",
              "  'hine',\n",
              "  'entertain',\n",
              "  'film',\n",
              "  'obvious',\n",
              "  'goe',\n",
              "  'great',\n",
              "  'effort',\n",
              "  'length',\n",
              "  'faith',\n",
              "  'recreat',\n",
              "  'h',\n",
              "  'g',\n",
              "  'well',\n",
              "  'classic',\n",
              "  'book',\n",
              "  'mr',\n",
              "  'hine',\n",
              "  'succe',\n",
              "  'watch',\n",
              "  'film',\n",
              "  'appreci',\n",
              "  'fact',\n",
              "  'standard',\n",
              "  'predict',\n",
              "  'hollywood',\n",
              "  'fare',\n",
              "  'come',\n",
              "  'everi',\n",
              "  'year',\n",
              "  'e',\n",
              "  'g',\n",
              "  'spielberg',\n",
              "  'version',\n",
              "  'tom',\n",
              "  'cruis',\n",
              "  'slightest',\n",
              "  'resembl',\n",
              "  'book',\n",
              "  'obvious',\n",
              "  'everyon',\n",
              "  'look',\n",
              "  'differ',\n",
              "  'thing',\n",
              "  'movi',\n",
              "  'envis',\n",
              "  'amateur',\n",
              "  'critic',\n",
              "  'look',\n",
              "  'critic',\n",
              "  'everyth',\n",
              "  'other',\n",
              "  'rate',\n",
              "  'movi',\n",
              "  'import',\n",
              "  'base',\n",
              "  'like',\n",
              "  'entertain',\n",
              "  'peopl',\n",
              "  'never',\n",
              "  'agre',\n",
              "  'critic',\n",
              "  'enjoy',\n",
              "  'effort',\n",
              "  'mr',\n",
              "  'hine',\n",
              "  'put',\n",
              "  'faith',\n",
              "  'h',\n",
              "  'g',\n",
              "  'well',\n",
              "  'classic',\n",
              "  'novel',\n",
              "  'found',\n",
              "  'entertain',\n",
              "  'made',\n",
              "  'easi',\n",
              "  'overlook',\n",
              "  'critic',\n",
              "  'perceiv',\n",
              "  'shortcom',\n",
              "  '</s>']]"
            ]
          },
          "metadata": {
            "tags": []
          },
          "execution_count": 276
        }
      ]
    },
    {
      "cell_type": "code",
      "metadata": {
        "id": "s6rQxVN00Z90",
        "colab_type": "code",
        "colab": {}
      },
      "source": [
        "len(uni_doc[0])"
      ],
      "execution_count": 0,
      "outputs": []
    },
    {
      "cell_type": "code",
      "metadata": {
        "id": "PFRumtCnukr3",
        "colab_type": "code",
        "colab": {}
      },
      "source": [
        "u_dict={}\n",
        "for i in range(l):\n",
        "  for j in range(len(uni_doc[i])):\n",
        "    word=uni_doc[i][j] \n",
        "    if word not in u_dict :\n",
        "      u_dict[word]=1\n",
        "    else:\n",
        "      u_dict[word]+=1"
      ],
      "execution_count": 0,
      "outputs": []
    },
    {
      "cell_type": "code",
      "metadata": {
        "id": "eiMvDHmygI4K",
        "colab_type": "code",
        "outputId": "086e01eb-dccc-4e28-b5d3-c5a1ef793f3d",
        "colab": {
          "base_uri": "https://localhost:8080/",
          "height": 34
        }
      },
      "source": [
        "V=len(u_dict)\n",
        "V"
      ],
      "execution_count": 0,
      "outputs": [
        {
          "output_type": "execute_result",
          "data": {
            "text/plain": [
              "6864"
            ]
          },
          "metadata": {
            "tags": []
          },
          "execution_count": 220
        }
      ]
    },
    {
      "cell_type": "code",
      "metadata": {
        "id": "waFFYXLe4vi7",
        "colab_type": "code",
        "outputId": "e49ab534-2759-4d47-d170-f973b4bec785",
        "colab": {
          "base_uri": "https://localhost:8080/",
          "height": 34
        }
      },
      "source": [
        "u_dict['<s>']"
      ],
      "execution_count": 0,
      "outputs": [
        {
          "output_type": "execute_result",
          "data": {
            "text/plain": [
              "300"
            ]
          },
          "metadata": {
            "tags": []
          },
          "execution_count": 260
        }
      ]
    },
    {
      "cell_type": "code",
      "metadata": {
        "id": "uknQfOQ5y0NH",
        "colab_type": "code",
        "colab": {}
      },
      "source": [
        "bi_dict={}"
      ],
      "execution_count": 0,
      "outputs": []
    },
    {
      "cell_type": "code",
      "metadata": {
        "id": "C7VK47H8xGKY",
        "colab_type": "code",
        "colab": {}
      },
      "source": [
        "for i in range(l):\n",
        "  for j in range(0,len(uni_doc[i])-1):\n",
        "    w1=bi_doc[i][j]\n",
        "    w2=bi_doc[i][j+1]\n",
        "    if((w1,w2)) not in bi_dict:\n",
        "       bi_dict[(w1,w2)]=1\n",
        "    else:\n",
        "       bi_dict[(w1,w2)]+=1"
      ],
      "execution_count": 0,
      "outputs": []
    },
    {
      "cell_type": "code",
      "metadata": {
        "id": "Y96OzCpexHnh",
        "colab_type": "code",
        "outputId": "42b93adc-5b64-4274-f67f-d49917d193b4",
        "colab": {
          "base_uri": "https://localhost:8080/",
          "height": 34
        }
      },
      "source": [
        "len(bi_dict)"
      ],
      "execution_count": 0,
      "outputs": [
        {
          "output_type": "execute_result",
          "data": {
            "text/plain": [
              "32530"
            ]
          },
          "metadata": {
            "tags": []
          },
          "execution_count": 281
        }
      ]
    },
    {
      "cell_type": "code",
      "metadata": {
        "id": "pBytRhUty-5z",
        "colab_type": "code",
        "colab": {}
      },
      "source": [
        "new={}\n",
        "for (key,value) in bi_dict.items():\n",
        "  if value>=1:\n",
        "    new[key]=value"
      ],
      "execution_count": 0,
      "outputs": []
    },
    {
      "cell_type": "code",
      "metadata": {
        "id": "EUeCVYlq3t8c",
        "colab_type": "code",
        "outputId": "163ae0f5-f132-44c8-82f9-d62a51d84232",
        "colab": {
          "base_uri": "https://localhost:8080/",
          "height": 1000
        }
      },
      "source": [
        "new"
      ],
      "execution_count": 0,
      "outputs": [
        {
          "output_type": "execute_result",
          "data": {
            "text/plain": [
              "{('<s>', 'stuff'): 1,\n",
              " ('stuff', 'go'): 1,\n",
              " ('go', 'moment'): 1,\n",
              " ('moment', 'mj'): 1,\n",
              " ('mj', 'start'): 1,\n",
              " ('start', 'listen'): 1,\n",
              " ('listen', 'music'): 1,\n",
              " ('music', 'watch'): 1,\n",
              " ('watch', 'odd'): 1,\n",
              " ('odd', 'documentari'): 1,\n",
              " ('documentari', 'watch'): 1,\n",
              " ('watch', 'wiz'): 1,\n",
              " ('wiz', 'watch'): 1,\n",
              " ('watch', 'moonwalk'): 1,\n",
              " ('moonwalk', 'mayb'): 1,\n",
              " ('mayb', 'want'): 1,\n",
              " ('want', 'get'): 2,\n",
              " ('get', 'certain'): 1,\n",
              " ('certain', 'insight'): 1,\n",
              " ('insight', 'guy'): 1,\n",
              " ('guy', 'thought'): 1,\n",
              " ('thought', 'realli'): 2,\n",
              " ('realli', 'cool'): 1,\n",
              " ('cool', 'eighti'): 1,\n",
              " ('eighti', 'mayb'): 1,\n",
              " ('mayb', 'make'): 1,\n",
              " ('make', 'mind'): 1,\n",
              " ('mind', 'whether'): 1,\n",
              " ('whether', 'guilti'): 1,\n",
              " ('guilti', 'innoc'): 1,\n",
              " ('innoc', 'moonwalk'): 1,\n",
              " ('moonwalk', 'part'): 1,\n",
              " ('part', 'biographi'): 1,\n",
              " ('biographi', 'part'): 1,\n",
              " ('part', 'featur'): 1,\n",
              " ('featur', 'film'): 3,\n",
              " ('film', 'rememb'): 2,\n",
              " ('rememb', 'go'): 1,\n",
              " ('go', 'see'): 3,\n",
              " ('see', 'cinema'): 3,\n",
              " ('cinema', 'origin'): 1,\n",
              " ('origin', 'releas'): 1,\n",
              " ('releas', 'subtl'): 1,\n",
              " ('subtl', 'messag'): 1,\n",
              " ('messag', 'mj'): 1,\n",
              " ('mj', 'feel'): 1,\n",
              " ('feel', 'toward'): 1,\n",
              " ('toward', 'press'): 1,\n",
              " ('press', 'also'): 2,\n",
              " ('also', 'obviou'): 1,\n",
              " ('obviou', 'messag'): 1,\n",
              " ('messag', 'drug'): 1,\n",
              " ('drug', 'bad'): 1,\n",
              " ('bad', 'kay'): 1,\n",
              " ('kay', 'visual'): 1,\n",
              " ('visual', 'impress'): 1,\n",
              " ('impress', 'cours'): 1,\n",
              " ('cours', 'michael'): 1,\n",
              " ('michael', 'jackson'): 2,\n",
              " ('jackson', 'unless'): 1,\n",
              " ('unless', 'remot'): 1,\n",
              " ('remot', 'like'): 1,\n",
              " ('like', 'mj'): 3,\n",
              " ('mj', 'anyway'): 1,\n",
              " ('anyway', 'go'): 1,\n",
              " ('go', 'hate'): 1,\n",
              " ('hate', 'find'): 1,\n",
              " ('find', 'bore'): 1,\n",
              " ('bore', 'may'): 1,\n",
              " ('may', 'call'): 1,\n",
              " ('call', 'mj'): 1,\n",
              " ('mj', 'egotist'): 1,\n",
              " ('egotist', 'consent'): 1,\n",
              " ('consent', 'make'): 1,\n",
              " ('make', 'movi'): 13,\n",
              " ('movi', 'mj'): 1,\n",
              " ('mj', 'fan'): 1,\n",
              " ('fan', 'would'): 1,\n",
              " ('would', 'say'): 7,\n",
              " ('say', 'made'): 1,\n",
              " ('made', 'fan'): 2,\n",
              " ('fan', 'true'): 1,\n",
              " ('true', 'realli'): 1,\n",
              " ('realli', 'nice'): 1,\n",
              " ('nice', 'actual'): 1,\n",
              " ('actual', 'featur'): 1,\n",
              " ('film', 'bit'): 2,\n",
              " ('bit', 'final'): 1,\n",
              " ('final', 'start'): 1,\n",
              " ('start', 'minut'): 1,\n",
              " ('minut', 'exclud'): 1,\n",
              " ('exclud', 'smooth'): 1,\n",
              " ('smooth', 'crimin'): 1,\n",
              " ('crimin', 'sequenc'): 1,\n",
              " ('sequenc', 'joe'): 1,\n",
              " ('joe', 'pesci'): 2,\n",
              " ('pesci', 'convinc'): 1,\n",
              " ('convinc', 'psychopath'): 1,\n",
              " ('psychopath', 'power'): 1,\n",
              " ('power', 'drug'): 1,\n",
              " ('drug', 'lord'): 1,\n",
              " ('lord', 'want'): 1,\n",
              " ('want', 'mj'): 1,\n",
              " ('mj', 'dead'): 1,\n",
              " ('dead', 'bad'): 1,\n",
              " ('bad', 'beyond'): 1,\n",
              " ('beyond', 'mj'): 1,\n",
              " ('mj', 'overheard'): 1,\n",
              " ('overheard', 'plan'): 1,\n",
              " ('plan', 'nah'): 1,\n",
              " ('nah', 'joe'): 1,\n",
              " ('pesci', 'charact'): 1,\n",
              " ('charact', 'rant'): 1,\n",
              " ('rant', 'want'): 1,\n",
              " ('want', 'peopl'): 1,\n",
              " ('peopl', 'know'): 1,\n",
              " ('know', 'suppli'): 1,\n",
              " ('suppli', 'drug'): 1,\n",
              " ('drug', 'etc'): 1,\n",
              " ('etc', 'dunno'): 1,\n",
              " ('dunno', 'mayb'): 1,\n",
              " ('mayb', 'hate'): 1,\n",
              " ('hate', 'mj'): 1,\n",
              " ('mj', 'music'): 1,\n",
              " ('music', 'lot'): 1,\n",
              " ('lot', 'cool'): 1,\n",
              " ('cool', 'thing'): 1,\n",
              " ('thing', 'like'): 4,\n",
              " ('mj', 'turn'): 1,\n",
              " ('turn', 'car'): 1,\n",
              " ('car', 'robot'): 1,\n",
              " ('robot', 'whole'): 1,\n",
              " ('whole', 'speed'): 1,\n",
              " ('speed', 'demon'): 1,\n",
              " ('demon', 'sequenc'): 1,\n",
              " ('sequenc', 'also'): 1,\n",
              " ('also', 'director'): 1,\n",
              " ('director', 'must'): 1,\n",
              " ('must', 'patienc'): 1,\n",
              " ('patienc', 'saint'): 1,\n",
              " ('saint', 'came'): 1,\n",
              " ('came', 'film'): 1,\n",
              " ('film', 'kiddi'): 1,\n",
              " ('kiddi', 'bad'): 1,\n",
              " ('bad', 'sequenc'): 1,\n",
              " ('sequenc', 'usual'): 1,\n",
              " ('usual', 'director'): 1,\n",
              " ('director', 'hate'): 1,\n",
              " ('hate', 'work'): 1,\n",
              " ('work', 'one'): 2,\n",
              " ('one', 'kid'): 1,\n",
              " ('kid', 'let'): 1,\n",
              " ('let', 'alon'): 4,\n",
              " ('alon', 'whole'): 1,\n",
              " ('whole', 'bunch'): 1,\n",
              " ('bunch', 'perform'): 1,\n",
              " ('perform', 'complex'): 1,\n",
              " ('complex', 'danc'): 1,\n",
              " ('danc', 'scene'): 2,\n",
              " ('scene', 'bottom'): 1,\n",
              " ('bottom', 'line'): 2,\n",
              " ('line', 'movi'): 1,\n",
              " ('movi', 'peopl'): 3,\n",
              " ('peopl', 'like'): 2,\n",
              " ('mj', 'one'): 1,\n",
              " ('one', 'level'): 1,\n",
              " ('level', 'anoth'): 1,\n",
              " ('anoth', 'think'): 1,\n",
              " ('think', 'peopl'): 2,\n",
              " ('peopl', 'stay'): 1,\n",
              " ('stay', 'away'): 3,\n",
              " ('away', 'tri'): 2,\n",
              " ('tri', 'give'): 2,\n",
              " ('give', 'wholesom'): 1,\n",
              " ('wholesom', 'messag'): 1,\n",
              " ('messag', 'iron'): 1,\n",
              " ('iron', 'mj'): 1,\n",
              " ('mj', 'bestest'): 1,\n",
              " ('bestest', 'buddi'): 1,\n",
              " ('buddi', 'movi'): 1,\n",
              " ('movi', 'girl'): 2,\n",
              " ('girl', 'michael'): 1,\n",
              " ('jackson', 'truli'): 1,\n",
              " ('truli', 'one'): 3,\n",
              " ('one', 'talent'): 1,\n",
              " ('talent', 'peopl'): 1,\n",
              " ('peopl', 'ever'): 1,\n",
              " ('ever', 'grace'): 1,\n",
              " ('grace', 'planet'): 1,\n",
              " ('planet', 'guilti'): 1,\n",
              " ('guilti', 'well'): 1,\n",
              " ('well', 'attent'): 1,\n",
              " ('attent', 'gave'): 1,\n",
              " ('gave', 'subject'): 1,\n",
              " ('subject', 'hmmm'): 1,\n",
              " ('hmmm', 'well'): 1,\n",
              " ('well', 'know'): 3,\n",
              " ('know', 'peopl'): 3,\n",
              " ('peopl', 'differ'): 2,\n",
              " ('differ', 'behind'): 1,\n",
              " ('behind', 'close'): 1,\n",
              " ('close', 'door'): 1,\n",
              " ('door', 'know'): 1,\n",
              " ('know', 'fact'): 1,\n",
              " ('fact', 'either'): 1,\n",
              " ('either', 'extrem'): 1,\n",
              " ('extrem', 'nice'): 1,\n",
              " ('nice', 'stupid'): 1,\n",
              " ('stupid', 'guy'): 1,\n",
              " ('guy', 'one'): 1,\n",
              " ('one', 'sickest'): 1,\n",
              " ('sickest', 'liar'): 1,\n",
              " ('liar', 'hope'): 1,\n",
              " ('hope', 'latter'): 1,\n",
              " ('latter', '</s>'): 1,\n",
              " ('<s>', 'classic'): 1,\n",
              " ('classic', 'war'): 1,\n",
              " ('war', 'world'): 1,\n",
              " ('world', 'timothi'): 1,\n",
              " ('timothi', 'hine'): 1,\n",
              " ('hine', 'entertain'): 1,\n",
              " ('entertain', 'film'): 1,\n",
              " ('film', 'obvious'): 1,\n",
              " ('obvious', 'goe'): 1,\n",
              " ('goe', 'great'): 1,\n",
              " ('great', 'effort'): 1,\n",
              " ('effort', 'length'): 1,\n",
              " ('length', 'faith'): 1,\n",
              " ('faith', 'recreat'): 1,\n",
              " ('recreat', 'h'): 1,\n",
              " ('h', 'g'): 2,\n",
              " ('g', 'well'): 2,\n",
              " ('well', 'classic'): 2,\n",
              " ('classic', 'book'): 1,\n",
              " ('book', 'mr'): 1,\n",
              " ('mr', 'hine'): 2,\n",
              " ('hine', 'succe'): 1,\n",
              " ('succe', 'watch'): 1,\n",
              " ('watch', 'film'): 7,\n",
              " ('film', 'appreci'): 1,\n",
              " ('appreci', 'fact'): 1,\n",
              " ('fact', 'standard'): 1,\n",
              " ('standard', 'predict'): 1,\n",
              " ('predict', 'hollywood'): 1,\n",
              " ('hollywood', 'fare'): 1,\n",
              " ('fare', 'come'): 1,\n",
              " ('come', 'everi'): 1,\n",
              " ('everi', 'year'): 2,\n",
              " ('year', 'e'): 1,\n",
              " ('e', 'g'): 3,\n",
              " ('g', 'spielberg'): 1,\n",
              " ('spielberg', 'version'): 1,\n",
              " ('version', 'tom'): 1,\n",
              " ('tom', 'cruis'): 1,\n",
              " ('cruis', 'slightest'): 1,\n",
              " ('slightest', 'resembl'): 1,\n",
              " ('resembl', 'book'): 1,\n",
              " ('book', 'obvious'): 1,\n",
              " ('obvious', 'everyon'): 1,\n",
              " ('everyon', 'look'): 1,\n",
              " ('look', 'differ'): 1,\n",
              " ('differ', 'thing'): 3,\n",
              " ('thing', 'movi'): 7,\n",
              " ('movi', 'envis'): 1,\n",
              " ('envis', 'amateur'): 1,\n",
              " ('amateur', 'critic'): 1,\n",
              " ('critic', 'look'): 1,\n",
              " ('look', 'critic'): 1,\n",
              " ('critic', 'everyth'): 1,\n",
              " ('everyth', 'other'): 1,\n",
              " ('other', 'rate'): 1,\n",
              " ('rate', 'movi'): 7,\n",
              " ('movi', 'import'): 1,\n",
              " ('import', 'base'): 1,\n",
              " ('base', 'like'): 1,\n",
              " ('like', 'entertain'): 1,\n",
              " ('entertain', 'peopl'): 1,\n",
              " ('peopl', 'never'): 1,\n",
              " ('never', 'agre'): 1,\n",
              " ('agre', 'critic'): 1,\n",
              " ('critic', 'enjoy'): 1,\n",
              " ('enjoy', 'effort'): 1,\n",
              " ('effort', 'mr'): 1,\n",
              " ('hine', 'put'): 1,\n",
              " ('put', 'faith'): 1,\n",
              " ('faith', 'h'): 1,\n",
              " ('classic', 'novel'): 1,\n",
              " ('novel', 'found'): 1,\n",
              " ('found', 'entertain'): 1,\n",
              " ('entertain', 'made'): 1,\n",
              " ('made', 'easi'): 1,\n",
              " ('easi', 'overlook'): 1,\n",
              " ('overlook', 'critic'): 1,\n",
              " ('critic', 'perceiv'): 1,\n",
              " ('perceiv', 'shortcom'): 1,\n",
              " ('shortcom', '</s>'): 1,\n",
              " ('<s>', 'film'): 4,\n",
              " ('film', 'start'): 3,\n",
              " ('start', 'manag'): 1,\n",
              " ('manag', 'nichola'): 1,\n",
              " ('nichola', 'bell'): 1,\n",
              " ('bell', 'give'): 1,\n",
              " ('give', 'welcom'): 1,\n",
              " ('welcom', 'investor'): 1,\n",
              " ('investor', 'robert'): 1,\n",
              " ('robert', 'carradin'): 1,\n",
              " ('carradin', 'primal'): 1,\n",
              " ('primal', 'park'): 1,\n",
              " ('park', 'secret'): 1,\n",
              " ('secret', 'project'): 1,\n",
              " ('project', 'mutat'): 1,\n",
              " ('mutat', 'primal'): 1,\n",
              " ('primal', 'anim'): 1,\n",
              " ('anim', 'use'): 1,\n",
              " ('use', 'fossil'): 1,\n",
              " ('fossil', 'dna'): 1,\n",
              " ('dna', 'like'): 1,\n",
              " ('like', '¨jurassik'): 1,\n",
              " ('¨jurassik', 'park¨'): 1,\n",
              " ('park¨', 'scientist'): 1,\n",
              " ('scientist', 'resurrect'): 1,\n",
              " ('resurrect', 'one'): 1,\n",
              " ('one', 'natur'): 2,\n",
              " ('natur', 'fearsom'): 2,\n",
              " ('fearsom', 'predat'): 2,\n",
              " ('predat', 'sabretooth'): 1,\n",
              " ('sabretooth', 'tiger'): 1,\n",
              " ('tiger', 'smilodon'): 1,\n",
              " ('smilodon', 'scientif'): 1,\n",
              " ('scientif', 'ambit'): 1,\n",
              " ('ambit', 'turn'): 1,\n",
              " ('turn', 'deadli'): 1,\n",
              " ('deadli', 'howev'): 1,\n",
              " ('howev', 'high'): 1,\n",
              " ('high', 'voltag'): 1,\n",
              " ('voltag', 'fenc'): 1,\n",
              " ('fenc', 'open'): 1,\n",
              " ('open', 'creatur'): 1,\n",
              " ('creatur', 'escap'): 1,\n",
              " ('escap', 'begin'): 1,\n",
              " ('begin', 'savag'): 1,\n",
              " ('savag', 'stalk'): 2,\n",
              " ('stalk', 'prey'): 2,\n",
              " ('prey', 'human'): 1,\n",
              " ('human', 'visitor'): 1,\n",
              " ('visitor', 'tourist'): 1,\n",
              " ('tourist', 'scientif'): 1,\n",
              " ('scientif', 'meanwhil'): 1,\n",
              " ('meanwhil', 'youngster'): 1,\n",
              " ('youngster', 'enter'): 1,\n",
              " ('enter', 'restrict'): 1,\n",
              " ('restrict', 'area'): 1,\n",
              " ('area', 'secur'): 1,\n",
              " ('secur', 'center'): 1,\n",
              " ('center', 'attack'): 1,\n",
              " ('attack', 'pack'): 1,\n",
              " ('pack', 'larg'): 1,\n",
              " ('larg', 'pre'): 1,\n",
              " ('pre', 'histor'): 1,\n",
              " ('histor', 'anim'): 1,\n",
              " ('anim', 'deadlier'): 1,\n",
              " ('deadlier', 'bigger'): 1,\n",
              " ('bigger', 'addit'): 1,\n",
              " ('addit', 'secur'): 1,\n",
              " ('secur', 'agent'): 1,\n",
              " ('agent', 'staci'): 1,\n",
              " ('staci', 'haiduk'): 1,\n",
              " ('haiduk', 'mate'): 1,\n",
              " ('mate', 'brian'): 1,\n",
              " ('brian', 'wimmer'): 1,\n",
              " ('wimmer', 'fight'): 1,\n",
              " ('fight', 'hardli'): 1,\n",
              " ('hardli', 'carnivor'): 1,\n",
              " ('carnivor', 'smilodon'): 1,\n",
              " ('smilodon', 'sabretooth'): 1,\n",
              " ('sabretooth', 'cours'): 1,\n",
              " ('cours', 'real'): 2,\n",
              " ('real', 'star'): 2,\n",
              " ('star', 'star'): 1,\n",
              " ('star', 'astound'): 1,\n",
              " ('astound', 'terrifyingli'): 1,\n",
              " ('terrifyingli', 'though'): 1,\n",
              " ('though', 'convinc'): 1,\n",
              " ('convinc', 'giant'): 1,\n",
              " ('giant', 'anim'): 2,\n",
              " ('anim', 'savag'): 1,\n",
              " ('prey', 'group'): 1,\n",
              " ('group', 'run'): 1,\n",
              " ('run', 'afoul'): 1,\n",
              " ('afoul', 'fight'): 1,\n",
              " ('fight', 'one'): 1,\n",
              " ('predat', 'furthermor'): 1,\n",
              " ('furthermor', 'third'): 1,\n",
              " ('third', 'sabretooth'): 1,\n",
              " ('sabretooth', 'danger'): 1,\n",
              " ('danger', 'slow'): 1,\n",
              " ('slow', 'stalk'): 1,\n",
              " ('stalk', 'victim'): 1,\n",
              " ('victim', 'movi'): 1,\n",
              " ('movi', 'deliv'): 3,\n",
              " ('deliv', 'good'): 2,\n",
              " ('good', 'lot'): 2,\n",
              " ('lot', 'blood'): 1,\n",
              " ('blood', 'gore'): 2,\n",
              " ('gore', 'behead'): 1,\n",
              " ('behead', 'hair'): 1,\n",
              " ('hair', 'rais'): 1,\n",
              " ('rais', 'chill'): 1,\n",
              " ('chill', 'full'): 1,\n",
              " ('full', 'scare'): 1,\n",
              " ('scare', 'sabretooth'): 1,\n",
              " ('sabretooth', 'appear'): 1,\n",
              " ('appear', 'mediocr'): 1,\n",
              " ('mediocr', 'special'): 1,\n",
              " ('special', 'effect'): 13,\n",
              " ('effect', 'stori'): 2,\n",
              " ('stori', 'provid'): 1,\n",
              " ('provid', 'excit'): 1,\n",
              " ('excit', 'stir'): 1,\n",
              " ('stir', 'entertain'): 1,\n",
              " ('entertain', 'result'): 1,\n",
              " ('result', 'quit'): 1,\n",
              " ('quit', 'bore'): 2,\n",
              " ('bore', 'giant'): 1,\n",
              " ('anim', 'major'): 1,\n",
              " ('major', 'made'): 1,\n",
              " ('made', 'comput'): 1,\n",
              " ('comput', 'gener'): 1,\n",
              " ('gener', 'seem'): 1,\n",
              " ('seem', 'total'): 1,\n",
              " ('total', 'lousi'): 1,\n",
              " ('lousi', 'middl'): 1,\n",
              " ('middl', 'perform'): 1,\n",
              " ('perform', 'though'): 1,\n",
              " ('though', 'player'): 1,\n",
              " ('player', 'react'): 1,\n",
              " ('react', 'appropri'): 1,\n",
              " ('appropri', 'becom'): 1,\n",
              " ('becom', 'food'): 1,\n",
              " ('food', 'actor'): 1,\n",
              " ('actor', 'give'): 1,\n",
              " ('give', 'vigor'): 1,\n",
              " ('vigor', 'physic'): 1,\n",
              " ('physic', 'perform'): 1,\n",
              " ('perform', 'dodg'): 1,\n",
              " ('dodg', 'beast'): 1,\n",
              " ('beast', 'run'): 1,\n",
              " ('run', 'bound'): 1,\n",
              " ('bound', 'leap'): 1,\n",
              " ('leap', 'dangl'): 1,\n",
              " ('dangl', 'wall'): 1,\n",
              " ('wall', 'pack'): 1,\n",
              " ('pack', 'ridicul'): 1,\n",
              " ('ridicul', 'final'): 1,\n",
              " ('final', 'deadli'): 1,\n",
              " ('deadli', 'scene'): 1,\n",
              " ('scene', 'small'): 1,\n",
              " ('small', 'kid'): 1,\n",
              " ('kid', 'realist'): 1,\n",
              " ('realist', 'gori'): 1,\n",
              " ('gori', 'violent'): 1,\n",
              " ('violent', 'attack'): 1,\n",
              " ('attack', 'scene'): 1,\n",
              " ('scene', 'film'): 4,\n",
              " ('film', 'sabretooth'): 1,\n",
              " ('sabretooth', 'smilodon'): 1,\n",
              " ('smilodon', 'follow'): 1,\n",
              " ('follow', '¨sabretooth'): 1,\n",
              " ('¨sabretooth', '¨bi'): 1,\n",
              " ('¨bi', 'jame'): 1,\n",
              " ('jame', 'r'): 1,\n",
              " ('r', 'hickox'): 1,\n",
              " ('hickox', 'vanessa'): 1,\n",
              " ('vanessa', 'angel'): 1,\n",
              " ('angel', 'david'): 1,\n",
              " ('david', 'keith'): 1,\n",
              " ('keith', 'john'): 1,\n",
              " ('john', 'rhi'): 1,\n",
              " ('rhi', 'davi'): 1,\n",
              " ('davi', 'much'): 1,\n",
              " ('much', 'better'): 7,\n",
              " ('better', '¨'): 1,\n",
              " ('¨', 'bc'): 1,\n",
              " ('bc', '¨'): 1,\n",
              " ('¨', 'roland'): 1,\n",
              " ('roland', 'emmerich'): 1,\n",
              " ('emmerich', 'steven'): 1,\n",
              " ('steven', 'strait'): 1,\n",
              " ('strait', 'cliff'): 1,\n",
              " ('cliff', 'curti'): 1,\n",
              " ('curti', 'camilla'): 1,\n",
              " ('camilla', 'bell'): 1,\n",
              " ('bell', 'motion'): 1,\n",
              " ('motion', 'pictur'): 4,\n",
              " ('pictur', 'fill'): 1,\n",
              " ('fill', 'bloodi'): 1,\n",
              " ('bloodi', 'moment'): 1,\n",
              " ('moment', 'badli'): 1,\n",
              " ('badli', 'direct'): 2,\n",
              " ('direct', 'georg'): 2,\n",
              " ('georg', 'miller'): 1,\n",
              " ('miller', 'origin'): 1,\n",
              " ('origin', 'take'): 2,\n",
              " ('take', 'mani'): 1,\n",
              " ('mani', 'element'): 2,\n",
              " ('element', 'previou'): 1,\n",
              " ('previou', 'film'): 1,\n",
              " ('film', 'miller'): 1,\n",
              " ('miller', 'australian'): 1,\n",
              " ('australian', 'director'): 1,\n",
              " ('director', 'usual'): 1,\n",
              " ('usual', 'work'): 1,\n",
              " ('work', 'televis'): 1,\n",
              " ('televis', 'tidal'): 1,\n",
              " ('tidal', 'wave'): 1,\n",
              " ('wave', 'journey'): 1,\n",
              " ('journey', 'center'): 1,\n",
              " ('center', 'earth'): 1,\n",
              " ('earth', 'mani'): 1,\n",
              " ('mani', 'other'): 3,\n",
              " ('other', 'occasion'): 1,\n",
              " ('occasion', 'cinema'): 1,\n",
              " ('cinema', 'man'): 1,\n",
              " ('man', 'snowi'): 1,\n",
              " ('snowi', 'river'): 1,\n",
              " ('river', 'zeu'): 1,\n",
              " ('zeu', 'roxann'): 1,\n",
              " ('roxann', 'robinson'): 1,\n",
              " ('robinson', 'cruso'): 1,\n",
              " ('cruso', 'rate'): 1,\n",
              " ('rate', 'averag'): 1,\n",
              " ('averag', 'bottom'): 1,\n",
              " ('bottom', 'barrel'): 3,\n",
              " ('barrel', '</s>'): 1,\n",
              " ('<s>', 'must'): 3,\n",
              " ('must', 'assum'): 1,\n",
              " ('assum', 'prais'): 1,\n",
              " ('prais', 'film'): 1,\n",
              " ('film', 'greatest'): 2,\n",
              " ('greatest', 'film'): 1,\n",
              " ('film', 'opera'): 1,\n",
              " ('opera', 'ever'): 1,\n",
              " ('ever', 'read'): 1,\n",
              " ('read', 'somewher'): 2,\n",
              " ('somewher', 'either'): 1,\n",
              " ('either', 'care'): 1,\n",
              " ('care', 'opera'): 1,\n",
              " ('opera', 'care'): 1,\n",
              " ('care', 'wagner'): 1,\n",
              " ('wagner', 'care'): 1,\n",
              " ('care', 'anyth'): 1,\n",
              " ('anyth', 'except'): 1,\n",
              " ('except', 'desir'): 1,\n",
              " ('desir', 'appear'): 1,\n",
              " ('appear', 'cultur'): 1,\n",
              " ('cultur', 'either'): 1,\n",
              " ('either', 'represent'): 1,\n",
              " ('represent', 'wagner'): 1,\n",
              " ('wagner', 'swan'): 1,\n",
              " ('swan', 'song'): 1,\n",
              " ('song', 'movi'): 1,\n",
              " ('movi', 'strike'): 1,\n",
              " ('strike', 'unmitig'): 1,\n",
              " ('unmitig', 'disast'): 1,\n",
              " ('disast', 'leaden'): 1,\n",
              " ('leaden', 'read'): 1,\n",
              " ('read', 'score'): 1,\n",
              " ('score', 'match'): 1,\n",
              " ('match', 'tricksi'): 1,\n",
              " ('tricksi', 'lugubri'): 1,\n",
              " ('lugubri', 'realis'): 1,\n",
              " ('realis', 'text'): 1,\n",
              " ('text', 'question'): 1,\n",
              " ('question', 'peopl'): 1,\n",
              " ('peopl', 'idea'): 1,\n",
              " ('idea', 'opera'): 1,\n",
              " ('opera', 'matter'): 1,\n",
              " ('matter', 'play'): 2,\n",
              " ('play', 'especi'): 2,\n",
              " ('especi', 'one'): 1,\n",
              " ('one', 'shakespear'): 1,\n",
              " ('shakespear', 'allow'): 1,\n",
              " ('allow', 'anywher'): 1,\n",
              " ('anywher', 'near'): 1,\n",
              " ('near', 'theatr'): 1,\n",
              " ('theatr', 'film'): 1,\n",
              " ('film', 'studio;'): 1,\n",
              " ('studio;', 'syberberg'): 1,\n",
              " ('syberberg', 'fashion'): 1,\n",
              " ('fashion', 'without'): 1,\n",
              " ('without', 'smallest'): 1,\n",
              " ('smallest', 'justif'): 1,\n",
              " ('justif', 'wagner'): 1,\n",
              " ('wagner', 'text'): 1,\n",
              " ('text', 'decid'): 1,\n",
              " ('decid', 'parsif'): 1,\n",
              " ('parsif', 'bisexu'): 1,\n",
              " ('bisexu', 'integr'): 1,\n",
              " ('integr', 'titl'): 1,\n",
              " ('titl', 'charact'): 1,\n",
              " ('charact', 'latter'): 1,\n",
              " ('latter', 'stage'): 2,\n",
              " ('stage', 'transmut'): 1,\n",
              " ('transmut', 'kind'): 1,\n",
              " ('kind', 'beatnik'): 1,\n",
              " ('beatnik', 'babe'): 1,\n",
              " ('babe', 'though'): 1,\n",
              " ('though', 'one'): 1,\n",
              " ('one', 'continu'): 1,\n",
              " ('continu', 'sing'): 1,\n",
              " ('sing', 'high'): 1,\n",
              " ('high', 'tenor'): 1,\n",
              " ('tenor', 'actor'): 1,\n",
              " ('actor', 'film'): 1,\n",
              " ('film', 'singer'): 1,\n",
              " ('singer', 'get'): 1,\n",
              " ('get', 'doubl'): 1,\n",
              " ('doubl', 'dose'): 1,\n",
              " ('dose', 'armin'): 1,\n",
              " ('armin', 'jordan'): 1,\n",
              " ('jordan', 'conductor'): 1,\n",
              " ('conductor', 'seen'): 1,\n",
              " ('seen', 'face'): 1,\n",
              " ('face', 'heard'): 1,\n",
              " ('heard', 'voic'): 1,\n",
              " ('voic', 'amforta'): 1,\n",
              " ('amforta', 'also'): 1,\n",
              " ('also', 'appear'): 1,\n",
              " ('appear', 'monstrous'): 1,\n",
              " ('monstrous', 'doubl'): 1,\n",
              " ('doubl', 'exposur'): 1,\n",
              " ('exposur', 'kind'): 1,\n",
              " ('kind', 'batonzilla'): 1,\n",
              " ('batonzilla', 'conductor'): 1,\n",
              " ('conductor', 'ate'): 1,\n",
              " ('ate', 'monsalvat'): 1,\n",
              " ('monsalvat', 'play'): 1,\n",
              " ('play', 'good'): 2,\n",
              " ('good', 'friday'): 1,\n",
              " ('friday', 'music'): 1,\n",
              " ('music', 'way'): 2,\n",
              " ('way', 'transcend'): 1,\n",
              " ('transcend', 'loveli'): 1,\n",
              " ('loveli', 'natur'): 1,\n",
              " ('natur', 'repres'): 1,\n",
              " ('repres', 'scatter'): 1,\n",
              " ('scatter', 'shopworn'): 1,\n",
              " ('shopworn', 'flaccid'): 1,\n",
              " ('flaccid', 'crocus'): 1,\n",
              " ('crocus', 'stuck'): 1,\n",
              " ('stuck', 'laid'): 1,\n",
              " ('laid', 'turf'): 1,\n",
              " ('turf', 'expedi'): 1,\n",
              " ('expedi', 'baffl'): 1,\n",
              " ('baffl', 'theatr'): 1,\n",
              " ('theatr', 'sometim'): 1,\n",
              " ('sometim', 'piec'): 1,\n",
              " ('piec', 'imperfect'): 1,\n",
              " ('imperfect', 'thought'): 1,\n",
              " ('thought', 'think'): 1,\n",
              " ('think', 'syberberg'): 1,\n",
              " ('syberberg', 'could'): 1,\n",
              " ('could', 'splice'): 1,\n",
              " ('splice', 'parsif'): 1,\n",
              " ('parsif', 'gurnemanz'): 1,\n",
              " ('gurnemanz', 'mountain'): 1,\n",
              " ('mountain', 'pastur'): 1,\n",
              " ('pastur', 'lush'): 1,\n",
              " ('lush', 'provid'): 1,\n",
              " ('provid', 'juli'): 1,\n",
              " ('juli', 'andrew'): 1,\n",
              " ('andrew', 'sound'): 1,\n",
              " ('sound', 'music'): 1,\n",
              " ('music', 'sound'): 1,\n",
              " ('sound', 'hard'): 1,\n",
              " ('hard', 'endur'): 1,\n",
              " ('endur', 'high'): 1,\n",
              " ('high', 'voic'): 1,\n",
              " ('voic', 'trumpet'): 1,\n",
              " ('trumpet', 'particular'): 1,\n",
              " ('particular', 'posse'): 1,\n",
              " ('posse', 'aural'): 1,\n",
              " ('aural', 'glare'): 1,\n",
              " ('glare', 'add'): 1,\n",
              " ('add', 'anoth'): 1,\n",
              " ('anoth', 'sort'): 1,\n",
              " ('sort', 'fatigu'): 1,\n",
              " ('fatigu', 'impati'): 1,\n",
              " ('impati', 'uninspir'): 1,\n",
              " ('uninspir', 'conduct'): 1,\n",
              " ('conduct', 'paralyt'): 1,\n",
              " ('paralyt', 'unfold'): 1,\n",
              " ('unfold', 'ritual'): 1,\n",
              " ('ritual', 'someon'): 1,\n",
              " ('someon', 'anoth'): 1,\n",
              " ('anoth', 'review'): 1,\n",
              " ('review', 'mention'): 1,\n",
              " ('mention', 'bayreuth'): 1,\n",
              " ('bayreuth', 'record'): 1,\n",
              " ('record', 'knappertsbusch'): 1,\n",
              " ('knappertsbusch', 'though'): 1,\n",
              " ('though', 'tempo'): 1,\n",
              " ('tempo', 'often'): 1,\n",
              " ('often', 'slow'): 1,\n",
              " ('slow', 'jordan'): 1,\n",
              " ('jordan', 'altogeth'): 1,\n",
              " ('altogeth', 'lack'): 1,\n",
              " ('lack', 'sen'): 2,\n",
              " ('sen', 'pul'): 1,\n",
              " ('pul', 'feel'): 1,\n",
              " ('feel', 'ebb'): 1,\n",
              " ('ebb', 'flow'): 1,\n",
              " ('flow', 'music'): 1,\n",
              " ('music', 'half'): 1,\n",
              " ('half', 'centuri'): 1,\n",
              " ('centuri', 'orchestr'): 1,\n",
              " ('orchestr', 'sound'): 1,\n",
              " ('sound', 'set'): 1,\n",
              " ('set', 'modern'): 1,\n",
              " ('modern', 'press'): 1,\n",
              " ('press', 'still'): 1,\n",
              " ('still', 'superior'): 1,\n",
              " ('superior', 'film'): 2,\n",
              " ('film', '</s>'): 11,\n",
              " ('<s>', 'superbl'): 1,\n",
              " ('superbl', 'trashi'): 1,\n",
              " ('trashi', 'wondrous'): 1,\n",
              " ('wondrous', 'unpretenti'): 1,\n",
              " ('unpretenti', 'exploit'): 1,\n",
              " ('exploit', 'hooray'): 1,\n",
              " ('hooray', 'pre'): 1,\n",
              " ('pre', 'credit'): 1,\n",
              " ('credit', 'open'): 1,\n",
              " ('open', 'sequenc'): 2,\n",
              " ('sequenc', 'somewhat'): 1,\n",
              " ('somewhat', 'give'): 1,\n",
              " ('give', 'fals'): 1,\n",
              " ('fals', 'impress'): 1,\n",
              " ('impress', 'deal'): 1,\n",
              " ('deal', 'seriou'): 1,\n",
              " ('seriou', 'harrow'): 1,\n",
              " ('harrow', 'drama'): 1,\n",
              " ('drama', 'need'): 1,\n",
              " ('need', 'fear'): 1,\n",
              " ('fear', 'bare'): 1,\n",
              " ('bare', 'ten'): 1,\n",
              " ('ten', 'minut'): 4,\n",
              " ('minut', 'later'): 1,\n",
              " ('later', 'neck'): 1,\n",
              " ('neck', 'nonsens'): 1,\n",
              " ('nonsens', 'chainsaw'): 1,\n",
              " ('chainsaw', 'battl'): 1,\n",
              " ('battl', 'rough'): 1,\n",
              " ('rough', 'fist'): 1,\n",
              " ('fist', 'fight'): 2,\n",
              " ('fight', 'lurid'): 1,\n",
              " ('lurid', 'dialog'): 1,\n",
              " ('dialog', 'gratuit'): 1,\n",
              " ('gratuit', 'nuditi'): 1,\n",
              " ('nuditi', 'bo'): 1,\n",
              " ('bo', 'ingrid'): 2,\n",
              " ('ingrid', 'two'): 1,\n",
              " ('two', 'orphan'): 1,\n",
              " ('orphan', 'sibl'): 1,\n",
              " ('sibl', 'unusu'): 1,\n",
              " ('unusu', 'close'): 1,\n",
              " ('close', 'even'): 1,\n",
              " ('even', 'slightli'): 1,\n",
              " ('slightli', 'pervert'): 1,\n",
              " ('pervert', 'relationship'): 1,\n",
              " ('relationship', 'imagin'): 1,\n",
              " ('imagin', 'play'): 1,\n",
              " ('play', 'rip'): 1,\n",
              " ('rip', 'towel'): 1,\n",
              " ('towel', 'cover'): 1,\n",
              " ('cover', 'sister'): 1,\n",
              " ('sister', 'nake'): 1,\n",
              " ('nake', 'bodi'): 1,\n",
              " ('bodi', 'stare'): 1,\n",
              " ('stare', 'unshaven'): 1,\n",
              " ('unshaven', 'genit'): 1,\n",
              " ('genit', 'sever'): 1,\n",
              " ('sever', 'whole'): 1,\n",
              " ('whole', 'minut'): 1,\n",
              " ('minut', 'well'): 1,\n",
              " ('well', 'bo'): 1,\n",
              " ('bo', 'sister'): 1,\n",
              " ('sister', 'judg'): 1,\n",
              " ('judg', 'dub'): 1,\n",
              " ('dub', 'laughter'): 1,\n",
              " ('laughter', 'mind'): 1,\n",
              " ('mind', 'sick'): 1,\n",
              " ('sick', 'dude'): 1,\n",
              " ('dude', 'anyway'): 1,\n",
              " ('anyway', 'kid'): 1,\n",
              " ('kid', 'fled'): 1,\n",
              " ('fled', 'russia'): 1,\n",
              " ('russia', 'parent'): 1,\n",
              " ('parent', 'nasti'): 1,\n",
              " ('nasti', 'soldier'): 1,\n",
              " ('soldier', 'brutal'): 1,\n",
              " ('brutal', 'slaughter'): 1,\n",
              " ('slaughter', 'mommi'): 1,\n",
              " ('mommi', 'daddi'): 1,\n",
              " ('daddi', 'friendli'): 1,\n",
              " ('friendli', 'smuggler'): 1,\n",
              " ('smuggler', 'took'): 1,\n",
              " ('took', 'custodi'): 1,\n",
              " ('custodi', 'howev'): 1,\n",
              " ('howev', 'even'): 1,\n",
              " ('even', 'rais'): 1,\n",
              " ('rais', 'train'): 1,\n",
              " ('train', 'bo'): 1,\n",
              " ('ingrid', 'expert'): 1,\n",
              " ('expert', 'smuggler'): 1,\n",
              " ('smuggler', 'actual'): 1,\n",
              " ('actual', 'plot'): 1,\n",
              " ('plot', 'lift'): 1,\n",
              " ('lift', 'year'): 1,\n",
              " ('year', 'later'): 10,\n",
              " ('later', 'face'): 1,\n",
              " ('face', 'ultim'): 1,\n",
              " ('ultim', 'quest'): 1,\n",
              " ('quest', 'mythic'): 1,\n",
              " ('mythic', 'incred'): 1,\n",
              " ('incred', 'valuabl'): 1,\n",
              " ('valuabl', 'white'): 1,\n",
              " ('white', 'fire'): 2,\n",
              " ('fire', 'diamond'): 1,\n",
              " ('diamond', 'coincident'): 1,\n",
              " ('coincident', 'found'): 1,\n",
              " ('found', 'mine'): 1,\n",
              " ('mine', 'thing'): 1,\n",
              " ('thing', 'life'): 1,\n",
              " ('life', 'ever'): 1,\n",
              " ('ever', 'made'): 6,\n",
              " ('made', 'littl'): 1,\n",
              " ('littl', 'sen'): 1,\n",
              " ('sen', 'plot'): 1,\n",
              " ('plot', 'narr'): 1,\n",
              " ('narr', 'structur'): 1,\n",
              " ('structur', 'white'): 1,\n",
              " ('fire', 'sure'): 1,\n",
              " ('sure', 'lot'): 1,\n",
              " ('lot', 'fun'): 4,\n",
              " ('fun', 'watch'): 8,\n",
              " ('watch', 'time'): 1,\n",
              " ('time', 'clue'): 1,\n",
              " ('clue', 'beat'): 1,\n",
              " ('beat', 'bet'): 1,\n",
              " ('bet', 'actor'): 1,\n",
              " ('actor', 'understood'): 1,\n",
              " ('understood', 'even'): 1,\n",
              " ('even', 'le'): 1,\n",
              " ('le', 'whatev'): 1,\n",
              " ('whatev', 'violenc'): 1,\n",
              " ('violenc', 'magnific'): 1,\n",
              " ('magnific', 'grotesqu'): 1,\n",
              " ('grotesqu', 'everi'): 1,\n",
              " ('everi', 'singl'): 3,\n",
              " ('singl', 'plot'): 1,\n",
              " ('plot', 'twist'): 1,\n",
              " ('twist', 'pleasingli'): 1,\n",
              " ('pleasingli', 'retard'): 1,\n",
              " ('retard', 'script'): 1,\n",
              " ('script', 'goe'): 1,\n",
              " ('goe', 'total'): 1,\n",
              " ('total', 'bonker'): 1,\n",
              " ('bonker', 'beyond'): 1,\n",
              " ('beyond', 'repair'): 1,\n",
              " ('repair', 'suddenli'): 1,\n",
              " ('suddenli', '\\x96'): 1,\n",
              " ('\\x96', 'reveal'): 1,\n",
              " ('reveal', 'reason'): 1,\n",
              " ('reason', '\\x96'): 1,\n",
              " ('\\x96', 'bo'): 1,\n",
              " ('bo', 'need'): 1,\n",
              " ('need', 'replac'): 1,\n",
              " ('replac', 'ingrid'): 1,\n",
              " ('ingrid', 'fred'): 1,\n",
              " ('fred', 'williamson'): 1,\n",
              " ('williamson', 'enter'): 1,\n",
              " ('enter', 'scene'): 1,\n",
              " ('scene', 'big'): 1,\n",
              " ('big', 'cigar'): 1,\n",
              " ('cigar', 'mouth'): 1,\n",
              " ('mouth', 'sleazi'): 1,\n",
              " ('sleazi', 'black'): 1,\n",
              " ('black', 'finger'): 1,\n",
              " ('finger', 'local'): 1,\n",
              " ('local', 'prostitut'): 1,\n",
              " ('prostitut', 'bo'): 1,\n",
              " ('bo', 'princip'): 1,\n",
              " ('princip', 'oppon'): 1,\n",
              " ('oppon', 'italian'): 1,\n",
              " ('italian', 'chick'): 1,\n",
              " ('chick', 'big'): 1,\n",
              " ('big', 'breast'): 1,\n",
              " ('breast', 'hideou'): 1,\n",
              " ('hideou', 'accent'): 1,\n",
              " ('accent', 'preposter'): 1,\n",
              " ('preposter', 'catchi'): 1,\n",
              " ('catchi', 'theme'): 1,\n",
              " ('theme', 'song'): 1,\n",
              " ('song', 'play'): 1,\n",
              " ('play', 'least'): 1,\n",
              " ('least', 'dozen'): 1,\n",
              " ('dozen', 'time'): 1,\n",
              " ('time', 'throughout'): 2,\n",
              " ('throughout', 'film'): 3,\n",
              " ('film', 'obligatori'): 1,\n",
              " ('obligatori', 'fall'): 1,\n",
              " ('fall', 'love'): 8,\n",
              " ('love', 'montag'): 1,\n",
              " ('montag', 'load'): 1,\n",
              " ('load', 'attract'): 1,\n",
              " ('attract', 'god'): 1,\n",
              " ('god', 'brilliant'): 1,\n",
              " ('brilliant', 'experi'): 1,\n",
              " ('experi', 'origin'): 1,\n",
              " ('origin', 'french'): 1,\n",
              " ('french', 'titl'): 1,\n",
              " ('titl', 'translat'): 1,\n",
              " ('translat', 'life'): 1,\n",
              " ('life', 'surviv'): 1,\n",
              " ('surviv', 'uniqu'): 1,\n",
              " ('uniqu', 'appropri'): 1,\n",
              " ('appropri', 'make'): 1,\n",
              " ('make', 'much'): 5,\n",
              " ('much', 'sen'): 2,\n",
              " ('sen', 'rest'): 1,\n",
              " ('rest', 'movi'): 2,\n",
              " ('movi', 'none'): 1,\n",
              " ('none', '</s>'): 1,\n",
              " ('<s>', 'know'): 6,\n",
              " ('peopl', 'think'): 1,\n",
              " ('think', 'bad'): 1,\n",
              " ('bad', 'movi'): 6,\n",
              " ('movi', 'got'): 5,\n",
              " ('got', 'pretti'): 1,\n",
              " ('pretti', 'good'): 8,\n",
              " ('good', 'plot'): 3,\n",
              " ('plot', 'good'): 1,\n",
              " ('good', 'action'): 2,\n",
              " ('action', 'chang'): 1,\n",
              " ('chang', 'locat'): 1,\n",
              " ('locat', 'harri'): 1,\n",
              " ('harri', 'hurt'): 1,\n",
              " ('hurt', 'either'): 1,\n",
              " ('either', 'sure'): 1,\n",
              " ('sure', 'offens'): 1,\n",
              " ('offens', 'gratuit'): 1,\n",
              " ('gratuit', 'movi'): 1,\n",
              " ('movi', 'like'): 12,\n",
              " ('like', 'eastwood'): 1,\n",
              " ('eastwood', 'good'): 1,\n",
              " ('good', 'form'): 1,\n",
              " ('form', 'dirti'): 1,\n",
              " ('dirti', 'harri'): 2,\n",
              " ('harri', 'like'): 1,\n",
              " ('like', 'pat'): 1,\n",
              " ('pat', 'hingl'): 1,\n",
              " ('hingl', 'movi'): 1,\n",
              " ('movi', 'small'): 1,\n",
              " ('small', 'town'): 6,\n",
              " ('town', 'cop'): 2,\n",
              " ('cop', 'like'): 1,\n",
              " ('like', 'dirti'): 1,\n",
              " ('harri', 'see'): 1,\n",
              " ('see', 'one'): 6,\n",
              " ('one', 'lot'): 1,\n",
              " ('lot', 'better'): 1,\n",
              " ('better', 'dead'): 1,\n",
              " ('dead', 'pool'): 1,\n",
              " ('pool', '</s>'): 1,\n",
              " ('<s>', 'movi'): 16,\n",
              " ('movi', 'could'): 10,\n",
              " ('could', 'good'): 2,\n",
              " ('good', 'come'): 1,\n",
              " ('come', 'way'): 1,\n",
              " ('way', 'short'): 1,\n",
              " ('short', 'cheesi'): 1,\n",
              " ('cheesi', 'special'): 1,\n",
              " ('effect', 'act'): 1,\n",
              " ('act', 'could'): 1,\n",
              " ('could', 'look'): 1,\n",
              " ('look', 'past'): 2,\n",
              " ('past', 'stori'): 1,\n",
              " ('stori', 'lousi'): 1,\n",
              " ('lousi', 'background'): 1,\n",
              " ('background', 'stori'): 1,\n",
              " ('stori', 'would'): 2,\n",
              " ('would', 'better'): 4,\n",
              " ('better', 'plot'): 1,\n",
              " ('plot', 'center'): 2,\n",
              " ('center', 'around'): 1,\n",
              " ('around', 'evil'): 1,\n",
              " ('evil', 'druid'): 1,\n",
              " ('druid', 'witch'): 1,\n",
              " ('witch', 'link'): 1,\n",
              " ...}"
            ]
          },
          "metadata": {
            "tags": []
          },
          "execution_count": 285
        }
      ]
    },
    {
      "cell_type": "code",
      "metadata": {
        "id": "rns90-JA6Hbp",
        "colab_type": "code",
        "colab": {}
      },
      "source": [
        ""
      ],
      "execution_count": 0,
      "outputs": []
    }
  ]
}