{
  "nbformat": 4,
  "nbformat_minor": 0,
  "metadata": {
    "kernelspec": {
      "display_name": "Python 3",
      "language": "python",
      "name": "python3"
    },
    "language_info": {
      "codemirror_mode": {
        "name": "ipython",
        "version": 3
      },
      "file_extension": ".py",
      "mimetype": "text/x-python",
      "name": "python",
      "nbconvert_exporter": "python",
      "pygments_lexer": "ipython3",
      "version": "3.7.1"
    },
    "colab": {
      "name": "NLP Pre-processing Stages.ipynb",
      "provenance": [],
      "collapsed_sections": []
    }
  },
  "cells": [
    {
      "cell_type": "code",
      "metadata": {
        "id": "p4PhAnLTOsIl",
        "colab_type": "code",
        "colab": {}
      },
      "source": [
        "import numpy as np\n",
        "import pandas as pd"
      ],
      "execution_count": 0,
      "outputs": []
    },
    {
      "cell_type": "code",
      "metadata": {
        "id": "FL_2bkWiOxbB",
        "colab_type": "code",
        "colab": {}
      },
      "source": [
        "from pydrive.auth import GoogleAuth\n",
        "from pydrive.drive import GoogleDrive\n",
        "from google.colab import auth\n",
        "from oauth2client.client import GoogleCredentials"
      ],
      "execution_count": 0,
      "outputs": []
    },
    {
      "cell_type": "code",
      "metadata": {
        "id": "DhRWgiz8O6d5",
        "colab_type": "code",
        "colab": {}
      },
      "source": [
        "auth.authenticate_user()\n",
        "gauth = GoogleAuth()\n",
        "gauth.credentials = GoogleCredentials.get_application_default()\n",
        "drive = GoogleDrive(gauth)"
      ],
      "execution_count": 0,
      "outputs": []
    },
    {
      "cell_type": "code",
      "metadata": {
        "id": "0l7WJJL4O7yL",
        "colab_type": "code",
        "outputId": "8723ced0-d9c5-43b8-af15-0de4c1987867",
        "colab": {
          "base_uri": "https://localhost:8080/",
          "height": 33
        }
      },
      "source": [
        "link = 'https://drive.google.com/open?id=1D2TyFY5IkRqRRBCW2jKHa9upjLdMKeNk'\n",
        "fluff, id = link.split('=')\n",
        "print (id) # "
      ],
      "execution_count": 0,
      "outputs": [
        {
          "output_type": "stream",
          "text": [
            "1D2TyFY5IkRqRRBCW2jKHa9upjLdMKeNk\n"
          ],
          "name": "stdout"
        }
      ]
    },
    {
      "cell_type": "code",
      "metadata": {
        "id": "hxQV4TYRQW3p",
        "colab_type": "code",
        "colab": {}
      },
      "source": [
        "import pandas as pd\n",
        "downloaded = drive.CreateFile({'id':id}) \n",
        "downloaded.GetContentFile('labeledTrainData.tsv')  \n",
        "df = pd.read_table('labeledTrainData.tsv')"
      ],
      "execution_count": 0,
      "outputs": []
    },
    {
      "cell_type": "code",
      "metadata": {
        "id": "kUEX-9wqOsIt",
        "colab_type": "code",
        "colab": {}
      },
      "source": [
        ""
      ],
      "execution_count": 0,
      "outputs": []
    },
    {
      "cell_type": "code",
      "metadata": {
        "id": "KEXZzBD3OsIw",
        "colab_type": "code",
        "outputId": "f929d5fc-6a32-4307-f63e-865c05271d72",
        "colab": {
          "base_uri": "https://localhost:8080/",
          "height": 201
        }
      },
      "source": [
        "df.head()"
      ],
      "execution_count": 0,
      "outputs": [
        {
          "output_type": "execute_result",
          "data": {
            "text/html": [
              "<div>\n",
              "<style scoped>\n",
              "    .dataframe tbody tr th:only-of-type {\n",
              "        vertical-align: middle;\n",
              "    }\n",
              "\n",
              "    .dataframe tbody tr th {\n",
              "        vertical-align: top;\n",
              "    }\n",
              "\n",
              "    .dataframe thead th {\n",
              "        text-align: right;\n",
              "    }\n",
              "</style>\n",
              "<table border=\"1\" class=\"dataframe\">\n",
              "  <thead>\n",
              "    <tr style=\"text-align: right;\">\n",
              "      <th></th>\n",
              "      <th>id</th>\n",
              "      <th>sentiment</th>\n",
              "      <th>review</th>\n",
              "    </tr>\n",
              "  </thead>\n",
              "  <tbody>\n",
              "    <tr>\n",
              "      <th>0</th>\n",
              "      <td>5814_8</td>\n",
              "      <td>1</td>\n",
              "      <td>With all this stuff going down at the moment w...</td>\n",
              "    </tr>\n",
              "    <tr>\n",
              "      <th>1</th>\n",
              "      <td>2381_9</td>\n",
              "      <td>1</td>\n",
              "      <td>\\The Classic War of the Worlds\\\" by Timothy Hi...</td>\n",
              "    </tr>\n",
              "    <tr>\n",
              "      <th>2</th>\n",
              "      <td>7759_3</td>\n",
              "      <td>0</td>\n",
              "      <td>The film starts with a manager (Nicholas Bell)...</td>\n",
              "    </tr>\n",
              "    <tr>\n",
              "      <th>3</th>\n",
              "      <td>3630_4</td>\n",
              "      <td>0</td>\n",
              "      <td>It must be assumed that those who praised this...</td>\n",
              "    </tr>\n",
              "    <tr>\n",
              "      <th>4</th>\n",
              "      <td>9495_8</td>\n",
              "      <td>1</td>\n",
              "      <td>Superbly trashy and wondrously unpretentious 8...</td>\n",
              "    </tr>\n",
              "  </tbody>\n",
              "</table>\n",
              "</div>"
            ],
            "text/plain": [
              "       id  sentiment                                             review\n",
              "0  5814_8          1  With all this stuff going down at the moment w...\n",
              "1  2381_9          1  \\The Classic War of the Worlds\\\" by Timothy Hi...\n",
              "2  7759_3          0  The film starts with a manager (Nicholas Bell)...\n",
              "3  3630_4          0  It must be assumed that those who praised this...\n",
              "4  9495_8          1  Superbly trashy and wondrously unpretentious 8..."
            ]
          },
          "metadata": {
            "tags": []
          },
          "execution_count": 6
        }
      ]
    },
    {
      "cell_type": "code",
      "metadata": {
        "id": "gTVmzXM_OsI2",
        "colab_type": "code",
        "colab": {}
      },
      "source": [
        "data=np.array(df)"
      ],
      "execution_count": 0,
      "outputs": []
    },
    {
      "cell_type": "code",
      "metadata": {
        "id": "s4j-GxDwOsI5",
        "colab_type": "code",
        "outputId": "e4a5d455-f891-4df8-b037-67da77b95d2d",
        "colab": {
          "base_uri": "https://localhost:8080/",
          "height": 86
        }
      },
      "source": [
        "data[0]"
      ],
      "execution_count": 0,
      "outputs": [
        {
          "output_type": "execute_result",
          "data": {
            "text/plain": [
              "array(['5814_8', 1,\n",
              "       \"With all this stuff going down at the moment with MJ i've started listening to his music, watching the odd documentary here and there, watched The Wiz and watched Moonwalker again. Maybe i just want to get a certain insight into this guy who i thought was really cool in the eighties just to maybe make up my mind whether he is guilty or innocent. Moonwalker is part biography, part feature film which i remember going to see at the cinema when it was originally released. Some of it has subtle messages about MJ's feeling towards the press and also the obvious message of drugs are bad m'kay.<br /><br />Visually impressive but of course this is all about Michael Jackson so unless you remotely like MJ in anyway then you are going to hate this and find it boring. Some may call MJ an egotist for consenting to the making of this movie BUT MJ and most of his fans would say that he made it for the fans which if true is really nice of him.<br /><br />The actual feature film bit when it finally starts is only on for 20 minutes or so excluding the Smooth Criminal sequence and Joe Pesci is convincing as a psychopathic all powerful drug lord. Why he wants MJ dead so bad is beyond me. Because MJ overheard his plans? Nah, Joe Pesci's character ranted that he wanted people to know it is he who is supplying drugs etc so i dunno, maybe he just hates MJ's music.<br /><br />Lots of cool things in this like MJ turning into a car and a robot and the whole Speed Demon sequence. Also, the director must have had the patience of a saint when it came to filming the kiddy Bad sequence as usually directors hate working with one kid let alone a whole bunch of them performing a complex dance scene.<br /><br />Bottom line, this movie is for people who like MJ on one level or another (which i think is most people). If not, then stay away. It does try and give off a wholesome message and ironically MJ's bestest buddy in this movie is a girl! Michael Jackson is truly one of the most talented people ever to grace this planet but is he guilty? Well, with all the attention i've gave this subject....hmmm well i don't know because people can be different behind closed doors, i know this for a fact. He is either an extremely nice but stupid guy or one of the most sickest liars. I hope he is not the latter.\"],\n",
              "      dtype=object)"
            ]
          },
          "metadata": {
            "tags": []
          },
          "execution_count": 8
        }
      ]
    },
    {
      "cell_type": "code",
      "metadata": {
        "id": "UPvYj98_OsI8",
        "colab_type": "code",
        "outputId": "3ed94272-a7fe-4b74-d683-53553d2ba018",
        "colab": {
          "base_uri": "https://localhost:8080/",
          "height": 33
        }
      },
      "source": [
        "len(data)"
      ],
      "execution_count": 0,
      "outputs": [
        {
          "output_type": "execute_result",
          "data": {
            "text/plain": [
              "25000"
            ]
          },
          "metadata": {
            "tags": []
          },
          "execution_count": 9
        }
      ]
    },
    {
      "cell_type": "code",
      "metadata": {
        "id": "odnEtLf6OsJA",
        "colab_type": "code",
        "colab": {}
      },
      "source": [
        "#Assigning all text reviews from dataframe to char array ->doc"
      ],
      "execution_count": 0,
      "outputs": []
    },
    {
      "cell_type": "code",
      "metadata": {
        "id": "OMREXDBuOsJD",
        "colab_type": "code",
        "colab": {}
      },
      "source": [
        "doc=data[:,2]"
      ],
      "execution_count": 0,
      "outputs": []
    },
    {
      "cell_type": "code",
      "metadata": {
        "id": "70FDB5jUThax",
        "colab_type": "code",
        "outputId": "06543aa2-214a-415a-98a6-dd9cc26e18a8",
        "colab": {
          "base_uri": "https://localhost:8080/",
          "height": 318
        }
      },
      "source": [
        "#Fixing Contractions\n",
        "pip install contractions"
      ],
      "execution_count": 0,
      "outputs": [
        {
          "output_type": "stream",
          "text": [
            "Collecting contractions\n",
            "  Downloading https://files.pythonhosted.org/packages/85/41/c3dfd5feb91a8d587ed1a59f553f07c05f95ad4e5d00ab78702fbf8fe48a/contractions-0.0.24-py2.py3-none-any.whl\n",
            "Collecting textsearch\n",
            "  Downloading https://files.pythonhosted.org/packages/42/a8/03407021f9555043de5492a2bd7a35c56cc03c2510092b5ec018cae1bbf1/textsearch-0.0.17-py2.py3-none-any.whl\n",
            "Collecting Unidecode\n",
            "\u001b[?25l  Downloading https://files.pythonhosted.org/packages/d0/42/d9edfed04228bacea2d824904cae367ee9efd05e6cce7ceaaedd0b0ad964/Unidecode-1.1.1-py2.py3-none-any.whl (238kB)\n",
            "\u001b[K     |████████████████████████████████| 245kB 13.4MB/s \n",
            "\u001b[?25hCollecting pyahocorasick\n",
            "\u001b[?25l  Downloading https://files.pythonhosted.org/packages/f4/9f/f0d8e8850e12829eea2e778f1c90e3c53a9a799b7f412082a5d21cd19ae1/pyahocorasick-1.4.0.tar.gz (312kB)\n",
            "\u001b[K     |████████████████████████████████| 317kB 57.0MB/s \n",
            "\u001b[?25hBuilding wheels for collected packages: pyahocorasick\n",
            "  Building wheel for pyahocorasick (setup.py) ... \u001b[?25l\u001b[?25hdone\n",
            "  Created wheel for pyahocorasick: filename=pyahocorasick-1.4.0-cp36-cp36m-linux_x86_64.whl size=81710 sha256=89c0480b6feecfd2c0f3d00dd4a83fbb0742d56fcaae2b5e9530bc2c96227eb7\n",
            "  Stored in directory: /root/.cache/pip/wheels/0a/90/61/87a55f5b459792fbb2b7ba6b31721b06ff5cf6bde541b40994\n",
            "Successfully built pyahocorasick\n",
            "Installing collected packages: Unidecode, pyahocorasick, textsearch, contractions\n",
            "Successfully installed Unidecode-1.1.1 contractions-0.0.24 pyahocorasick-1.4.0 textsearch-0.0.17\n"
          ],
          "name": "stdout"
        }
      ]
    },
    {
      "cell_type": "code",
      "metadata": {
        "id": "Q-lSgryrTkpB",
        "colab_type": "code",
        "colab": {}
      },
      "source": [
        "import contractions\n",
        "for i in range(len(doc)):\n",
        "  doc[i]=contractions.fix(doc[i])"
      ],
      "execution_count": 0,
      "outputs": []
    },
    {
      "cell_type": "code",
      "metadata": {
        "id": "xjsiuoWRT_g6",
        "colab_type": "code",
        "outputId": "1823a355-0d1d-4d53-a7dc-70cb249e1aa6",
        "colab": {
          "base_uri": "https://localhost:8080/",
          "height": 53
        }
      },
      "source": [
        "doc[0]"
      ],
      "execution_count": 0,
      "outputs": [
        {
          "output_type": "execute_result",
          "data": {
            "text/plain": [
              "\"With all this stuff going down at the moment with MJ I have started listening to his music, watching the odd documentary here and there, watched The Wiz and watched Moonwalker again. Maybe i just want to get a certain insight into this guy who i thought was really cool in the eighties just to maybe make up my mind whether he is guilty or innocent. Moonwalker is part biography, part feature film which i remember going to see at the cinema when it was originally released. Some of it has subtle messages about MJ's feeling towards the press and also the obvious message of drugs are bad m'kay.<br /><br />Visually impressive but of course this is all about Michael Jackson so unless you remotely like MJ in anyway then you are going to hate this and find it boring. Some may call MJ an egotist for consenting to the making of this movie BUT MJ and most of his fans would say that he made it for the fans which if true is really nice of him.<br /><br />The actual feature film bit when it finally starts is only on for 20 minutes or so excluding the Smooth Criminal sequence and Joe Pesci is convincing as a psychopathic all powerful drug lord. Why he wants MJ dead so bad is beyond me. Because MJ overheard his plans? Nah, Joe Pesci's character ranted that he wanted people to know it is he who is supplying drugs etc so i dunno, maybe he just hates MJ's music.<br /><br />Lots of cool things in this like MJ turning into a car and a robot and the whole Speed Demon sequence. Also, the director must have had the patience of a saint when it came to filming the kiddy Bad sequence as usually directors hate working with one kid let alone a whole bunch of them performing a complex dance scene.<br /><br />Bottom line, this movie is for people who like MJ on one level or another (which i think is most people). If not, then stay away. It does try and give off a wholesome message and ironically MJ's bestest buddy in this movie is a girl! Michael Jackson is truly one of the most talented people ever to grace this planet but is he guilty? Well, with all the attention I have gave this subject....hmmm well i do not know because people can be different behind closed doors, i know this for a fact. He is either an extremely nice but stupid guy or one of the most sickest liars. I hope he is not the latter.\""
            ]
          },
          "metadata": {
            "tags": []
          },
          "execution_count": 13
        }
      ]
    },
    {
      "cell_type": "code",
      "metadata": {
        "id": "9TFCW3SEOsJH",
        "colab_type": "code",
        "colab": {}
      },
      "source": [
        "#Removing Punctuations,special characters and Case Folding,Tokenizing Using RegEx"
      ],
      "execution_count": 0,
      "outputs": []
    },
    {
      "cell_type": "code",
      "metadata": {
        "id": "nrDw7vfeOsJK",
        "colab_type": "code",
        "colab": {}
      },
      "source": [
        "import nltk\n",
        "import re\n",
        "punct=\"[.;:!\\'?,\\\"()\\[\\]]\"                        #regex for punctuations,hyphen .etc\n",
        "html_scripts=\"(<br\\s*/><br\\s*/>)|(\\-)|(\\/)\"       #regex for html scripts\n",
        "for i in range(len(doc)):\n",
        "    doc[i]=re.compile(punct).sub(\" \",doc[i])       #removing punctuations\n",
        "    doc[i]=re.compile(html_scripts).sub(\" \",doc[i])#removing html scripts\n",
        "    doc[i]=doc[i].lower()"
      ],
      "execution_count": 0,
      "outputs": []
    },
    {
      "cell_type": "code",
      "metadata": {
        "id": "qWT8nxUyOsJQ",
        "colab_type": "code",
        "outputId": "7ec94ccd-2c66-47e5-87a9-bdbdf430d20e",
        "colab": {
          "base_uri": "https://localhost:8080/",
          "height": 53
        }
      },
      "source": [
        "doc[0]"
      ],
      "execution_count": 0,
      "outputs": [
        {
          "output_type": "execute_result",
          "data": {
            "text/plain": [
              "'with all this stuff going down at the moment with mj i have started listening to his music  watching the odd documentary here and there  watched the wiz and watched moonwalker again  maybe i just want to get a certain insight into this guy who i thought was really cool in the eighties just to maybe make up my mind whether he is guilty or innocent  moonwalker is part biography  part feature film which i remember going to see at the cinema when it was originally released  some of it has subtle messages about mj s feeling towards the press and also the obvious message of drugs are bad m kay  visually impressive but of course this is all about michael jackson so unless you remotely like mj in anyway then you are going to hate this and find it boring  some may call mj an egotist for consenting to the making of this movie but mj and most of his fans would say that he made it for the fans which if true is really nice of him  the actual feature film bit when it finally starts is only on for 20 minutes or so excluding the smooth criminal sequence and joe pesci is convincing as a psychopathic all powerful drug lord  why he wants mj dead so bad is beyond me  because mj overheard his plans  nah  joe pesci s character ranted that he wanted people to know it is he who is supplying drugs etc so i dunno  maybe he just hates mj s music  lots of cool things in this like mj turning into a car and a robot and the whole speed demon sequence  also  the director must have had the patience of a saint when it came to filming the kiddy bad sequence as usually directors hate working with one kid let alone a whole bunch of them performing a complex dance scene  bottom line  this movie is for people who like mj on one level or another  which i think is most people   if not  then stay away  it does try and give off a wholesome message and ironically mj s bestest buddy in this movie is a girl  michael jackson is truly one of the most talented people ever to grace this planet but is he guilty  well  with all the attention i have gave this subject    hmmm well i do not know because people can be different behind closed doors  i know this for a fact  he is either an extremely nice but stupid guy or one of the most sickest liars  i hope he is not the latter '"
            ]
          },
          "metadata": {
            "tags": []
          },
          "execution_count": 15
        }
      ]
    },
    {
      "cell_type": "code",
      "metadata": {
        "id": "aAcDl5ThSwYN",
        "colab_type": "code",
        "outputId": "6f03e041-e737-438d-c2bd-20a02e32436c",
        "colab": {
          "base_uri": "https://localhost:8080/",
          "height": 66
        }
      },
      "source": [
        "import nltk\n",
        "nltk.download('stopwords')"
      ],
      "execution_count": 0,
      "outputs": [
        {
          "output_type": "stream",
          "text": [
            "[nltk_data] Downloading package stopwords to /root/nltk_data...\n",
            "[nltk_data]   Unzipping corpora/stopwords.zip.\n"
          ],
          "name": "stdout"
        },
        {
          "output_type": "execute_result",
          "data": {
            "text/plain": [
              "True"
            ]
          },
          "metadata": {
            "tags": []
          },
          "execution_count": 16
        }
      ]
    },
    {
      "cell_type": "code",
      "metadata": {
        "id": "nBmeHtvhOsJT",
        "colab_type": "code",
        "colab": {}
      },
      "source": [
        "#Removing Stopwords"
      ],
      "execution_count": 0,
      "outputs": []
    },
    {
      "cell_type": "code",
      "metadata": {
        "id": "oSE2HPGCOsJX",
        "colab_type": "code",
        "colab": {}
      },
      "source": [
        "from nltk.corpus import stopwords\n",
        "stop_words=stopwords.words('english')\n",
        "clean_doc=[]\n",
        "for reviews in doc:\n",
        "    clean_doc.append(' '.join([word for word in reviews.split() if word not in stop_words]))"
      ],
      "execution_count": 0,
      "outputs": []
    },
    {
      "cell_type": "code",
      "metadata": {
        "id": "E3wwNQtdOsJb",
        "colab_type": "code",
        "outputId": "38a4a8d3-5dbc-44fc-8a10-83674649670b",
        "colab": {
          "base_uri": "https://localhost:8080/",
          "height": 53
        }
      },
      "source": [
        "clean_doc[0]"
      ],
      "execution_count": 0,
      "outputs": [
        {
          "output_type": "execute_result",
          "data": {
            "text/plain": [
              "'stuff going moment mj started listening music watching odd documentary watched wiz watched moonwalker maybe want get certain insight guy thought really cool eighties maybe make mind whether guilty innocent moonwalker part biography part feature film remember going see cinema originally released subtle messages mj feeling towards press also obvious message drugs bad kay visually impressive course michael jackson unless remotely like mj anyway going hate find boring may call mj egotist consenting making movie mj fans would say made fans true really nice actual feature film bit finally starts 20 minutes excluding smooth criminal sequence joe pesci convincing psychopathic powerful drug lord wants mj dead bad beyond mj overheard plans nah joe pesci character ranted wanted people know supplying drugs etc dunno maybe hates mj music lots cool things like mj turning car robot whole speed demon sequence also director must patience saint came filming kiddy bad sequence usually directors hate working one kid let alone whole bunch performing complex dance scene bottom line movie people like mj one level another think people stay away try give wholesome message ironically mj bestest buddy movie girl michael jackson truly one talented people ever grace planet guilty well attention gave subject hmmm well know people different behind closed doors know fact either extremely nice stupid guy one sickest liars hope latter'"
            ]
          },
          "metadata": {
            "tags": []
          },
          "execution_count": 18
        }
      ]
    },
    {
      "cell_type": "code",
      "metadata": {
        "id": "8S2lMAMZOsJd",
        "colab_type": "code",
        "colab": {}
      },
      "source": [
        "#Nomalization"
      ],
      "execution_count": 0,
      "outputs": []
    },
    {
      "cell_type": "code",
      "metadata": {
        "id": "lrjWIhWvOsJg",
        "colab_type": "code",
        "colab": {}
      },
      "source": [
        "#Stemming"
      ],
      "execution_count": 0,
      "outputs": []
    },
    {
      "cell_type": "code",
      "metadata": {
        "id": "jrnNAhlMOsJj",
        "colab_type": "code",
        "colab": {}
      },
      "source": [
        "from nltk.stem.porter import PorterStemmer\n",
        "stemmer=PorterStemmer()\n",
        "for i in range(len(clean_doc)):\n",
        "    clean_doc[i]=' '.join([stemmer.stem(word) for word in clean_doc[i].split()])"
      ],
      "execution_count": 0,
      "outputs": []
    },
    {
      "cell_type": "code",
      "metadata": {
        "id": "_j48GftQOsJm",
        "colab_type": "code",
        "outputId": "0aea00fb-97ff-4606-c298-86a0f50df665",
        "colab": {
          "base_uri": "https://localhost:8080/",
          "height": 53
        }
      },
      "source": [
        "clean_doc[0]"
      ],
      "execution_count": 0,
      "outputs": [
        {
          "output_type": "execute_result",
          "data": {
            "text/plain": [
              "'stuff go moment mj start listen music watch odd documentari watch wiz watch moonwalk mayb want get certain insight guy thought realli cool eighti mayb make mind whether guilti innoc moonwalk part biographi part featur film rememb go see cinema origin releas subtl messag mj feel toward press also obviou messag drug bad kay visual impress cours michael jackson unless remot like mj anyway go hate find bore may call mj egotist consent make movi mj fan would say made fan true realli nice actual featur film bit final start 20 minut exclud smooth crimin sequenc joe pesci convinc psychopath power drug lord want mj dead bad beyond mj overheard plan nah joe pesci charact rant want peopl know suppli drug etc dunno mayb hate mj music lot cool thing like mj turn car robot whole speed demon sequenc also director must patienc saint came film kiddi bad sequenc usual director hate work one kid let alon whole bunch perform complex danc scene bottom line movi peopl like mj one level anoth think peopl stay away tri give wholesom messag iron mj bestest buddi movi girl michael jackson truli one talent peopl ever grace planet guilti well attent gave subject hmmm well know peopl differ behind close door know fact either extrem nice stupid guy one sickest liar hope latter'"
            ]
          },
          "metadata": {
            "tags": []
          },
          "execution_count": 47
        }
      ]
    },
    {
      "cell_type": "code",
      "metadata": {
        "id": "qNnFMY4TOsJr",
        "colab_type": "code",
        "outputId": "01426b5a-cc51-4007-9361-948df785f7ea",
        "colab": {
          "base_uri": "https://localhost:8080/",
          "height": 66
        }
      },
      "source": [
        "#lemmatization\n",
        "import nltk\n",
        "nltk.download('wordnet')"
      ],
      "execution_count": 0,
      "outputs": [
        {
          "output_type": "stream",
          "text": [
            "[nltk_data] Downloading package wordnet to /root/nltk_data...\n",
            "[nltk_data]   Unzipping corpora/wordnet.zip.\n"
          ],
          "name": "stdout"
        },
        {
          "output_type": "execute_result",
          "data": {
            "text/plain": [
              "True"
            ]
          },
          "metadata": {
            "tags": []
          },
          "execution_count": 50
        }
      ]
    },
    {
      "cell_type": "code",
      "metadata": {
        "id": "_4Cyk9rVOsJv",
        "colab_type": "code",
        "colab": {}
      },
      "source": [
        "from nltk.stem import WordNetLemmatizer\n",
        "lemmatizer = WordNetLemmatizer()\n",
        "norm_doc=[]\n",
        "for reviews in clean_doc:\n",
        "    norm_doc.append(' '.join([lemmatizer.lemmatize(word) for word in reviews.split()]))"
      ],
      "execution_count": 0,
      "outputs": []
    },
    {
      "cell_type": "code",
      "metadata": {
        "id": "XGAO6dXeOsJ2",
        "colab_type": "code",
        "outputId": "7794c0a4-be92-414d-b857-b514d1fcc766",
        "colab": {
          "base_uri": "https://localhost:8080/",
          "height": 53
        }
      },
      "source": [
        "norm_doc[0]"
      ],
      "execution_count": 0,
      "outputs": [
        {
          "output_type": "execute_result",
          "data": {
            "text/plain": [
              "'stuff go moment mj start listen music watch odd documentari watch wiz watch moonwalk mayb want get certain insight guy thought realli cool eighti mayb make mind whether guilti innoc moonwalk part biographi part featur film rememb go see cinema origin releas subtl messag mj feel toward press also obviou messag drug bad kay visual impress cours michael jackson unless remot like mj anyway go hate find bore may call mj egotist consent make movi mj fan would say made fan true realli nice actual featur film bit final start 20 minut exclud smooth crimin sequenc joe pesci convinc psychopath power drug lord want mj dead bad beyond mj overheard plan nah joe pesci charact rant want peopl know suppli drug etc dunno mayb hate mj music lot cool thing like mj turn car robot whole speed demon sequenc also director must patienc saint came film kiddi bad sequenc usual director hate work one kid let alon whole bunch perform complex danc scene bottom line movi peopl like mj one level anoth think peopl stay away tri give wholesom messag iron mj bestest buddi movi girl michael jackson truli one talent peopl ever grace planet guilti well attent gave subject hmmm well know peopl differ behind close door know fact either extrem nice stupid guy one sickest liar hope latter'"
            ]
          },
          "metadata": {
            "tags": []
          },
          "execution_count": 52
        }
      ]
    },
    {
      "cell_type": "code",
      "metadata": {
        "id": "1p2EAuSJOsJ6",
        "colab_type": "code",
        "colab": {}
      },
      "source": [
        "#Tokenization\n",
        "from nltk.tokenize import RegexpTokenizer\n",
        "tokenizer = RegexpTokenizer(\"[\\w']+\")\n",
        "for i in range(len(norm_doc)):\n",
        "    norm_doc[i]=tokenizer.tokenize(norm_doc[i])"
      ],
      "execution_count": 0,
      "outputs": []
    },
    {
      "cell_type": "code",
      "metadata": {
        "id": "IchTw1tPOsJ9",
        "colab_type": "code",
        "outputId": "d697871d-eb5c-465e-eb78-97ce9fb9b354",
        "colab": {
          "base_uri": "https://localhost:8080/",
          "height": 1000
        }
      },
      "source": [
        "norm_doc[0]"
      ],
      "execution_count": 0,
      "outputs": [
        {
          "output_type": "execute_result",
          "data": {
            "text/plain": [
              "['stuff',\n",
              " 'go',\n",
              " 'moment',\n",
              " 'mj',\n",
              " 'start',\n",
              " 'listen',\n",
              " 'music',\n",
              " 'watch',\n",
              " 'odd',\n",
              " 'documentari',\n",
              " 'watch',\n",
              " 'wiz',\n",
              " 'watch',\n",
              " 'moonwalk',\n",
              " 'mayb',\n",
              " 'want',\n",
              " 'get',\n",
              " 'certain',\n",
              " 'insight',\n",
              " 'guy',\n",
              " 'thought',\n",
              " 'realli',\n",
              " 'cool',\n",
              " 'eighti',\n",
              " 'mayb',\n",
              " 'make',\n",
              " 'mind',\n",
              " 'whether',\n",
              " 'guilti',\n",
              " 'innoc',\n",
              " 'moonwalk',\n",
              " 'part',\n",
              " 'biographi',\n",
              " 'part',\n",
              " 'featur',\n",
              " 'film',\n",
              " 'rememb',\n",
              " 'go',\n",
              " 'see',\n",
              " 'cinema',\n",
              " 'origin',\n",
              " 'releas',\n",
              " 'subtl',\n",
              " 'messag',\n",
              " 'mj',\n",
              " 'feel',\n",
              " 'toward',\n",
              " 'press',\n",
              " 'also',\n",
              " 'obviou',\n",
              " 'messag',\n",
              " 'drug',\n",
              " 'bad',\n",
              " 'kay',\n",
              " 'visual',\n",
              " 'impress',\n",
              " 'cours',\n",
              " 'michael',\n",
              " 'jackson',\n",
              " 'unless',\n",
              " 'remot',\n",
              " 'like',\n",
              " 'mj',\n",
              " 'anyway',\n",
              " 'go',\n",
              " 'hate',\n",
              " 'find',\n",
              " 'bore',\n",
              " 'may',\n",
              " 'call',\n",
              " 'mj',\n",
              " 'egotist',\n",
              " 'consent',\n",
              " 'make',\n",
              " 'movi',\n",
              " 'mj',\n",
              " 'fan',\n",
              " 'would',\n",
              " 'say',\n",
              " 'made',\n",
              " 'fan',\n",
              " 'true',\n",
              " 'realli',\n",
              " 'nice',\n",
              " 'actual',\n",
              " 'featur',\n",
              " 'film',\n",
              " 'bit',\n",
              " 'final',\n",
              " 'start',\n",
              " '20',\n",
              " 'minut',\n",
              " 'exclud',\n",
              " 'smooth',\n",
              " 'crimin',\n",
              " 'sequenc',\n",
              " 'joe',\n",
              " 'pesci',\n",
              " 'convinc',\n",
              " 'psychopath',\n",
              " 'power',\n",
              " 'drug',\n",
              " 'lord',\n",
              " 'want',\n",
              " 'mj',\n",
              " 'dead',\n",
              " 'bad',\n",
              " 'beyond',\n",
              " 'mj',\n",
              " 'overheard',\n",
              " 'plan',\n",
              " 'nah',\n",
              " 'joe',\n",
              " 'pesci',\n",
              " 'charact',\n",
              " 'rant',\n",
              " 'want',\n",
              " 'peopl',\n",
              " 'know',\n",
              " 'suppli',\n",
              " 'drug',\n",
              " 'etc',\n",
              " 'dunno',\n",
              " 'mayb',\n",
              " 'hate',\n",
              " 'mj',\n",
              " 'music',\n",
              " 'lot',\n",
              " 'cool',\n",
              " 'thing',\n",
              " 'like',\n",
              " 'mj',\n",
              " 'turn',\n",
              " 'car',\n",
              " 'robot',\n",
              " 'whole',\n",
              " 'speed',\n",
              " 'demon',\n",
              " 'sequenc',\n",
              " 'also',\n",
              " 'director',\n",
              " 'must',\n",
              " 'patienc',\n",
              " 'saint',\n",
              " 'came',\n",
              " 'film',\n",
              " 'kiddi',\n",
              " 'bad',\n",
              " 'sequenc',\n",
              " 'usual',\n",
              " 'director',\n",
              " 'hate',\n",
              " 'work',\n",
              " 'one',\n",
              " 'kid',\n",
              " 'let',\n",
              " 'alon',\n",
              " 'whole',\n",
              " 'bunch',\n",
              " 'perform',\n",
              " 'complex',\n",
              " 'danc',\n",
              " 'scene',\n",
              " 'bottom',\n",
              " 'line',\n",
              " 'movi',\n",
              " 'peopl',\n",
              " 'like',\n",
              " 'mj',\n",
              " 'one',\n",
              " 'level',\n",
              " 'anoth',\n",
              " 'think',\n",
              " 'peopl',\n",
              " 'stay',\n",
              " 'away',\n",
              " 'tri',\n",
              " 'give',\n",
              " 'wholesom',\n",
              " 'messag',\n",
              " 'iron',\n",
              " 'mj',\n",
              " 'bestest',\n",
              " 'buddi',\n",
              " 'movi',\n",
              " 'girl',\n",
              " 'michael',\n",
              " 'jackson',\n",
              " 'truli',\n",
              " 'one',\n",
              " 'talent',\n",
              " 'peopl',\n",
              " 'ever',\n",
              " 'grace',\n",
              " 'planet',\n",
              " 'guilti',\n",
              " 'well',\n",
              " 'attent',\n",
              " 'gave',\n",
              " 'subject',\n",
              " 'hmmm',\n",
              " 'well',\n",
              " 'know',\n",
              " 'peopl',\n",
              " 'differ',\n",
              " 'behind',\n",
              " 'close',\n",
              " 'door',\n",
              " 'know',\n",
              " 'fact',\n",
              " 'either',\n",
              " 'extrem',\n",
              " 'nice',\n",
              " 'stupid',\n",
              " 'guy',\n",
              " 'one',\n",
              " 'sickest',\n",
              " 'liar',\n",
              " 'hope',\n",
              " 'latter']"
            ]
          },
          "metadata": {
            "tags": []
          },
          "execution_count": 54
        }
      ]
    },
    {
      "cell_type": "code",
      "metadata": {
        "id": "z8LbOmh7OsKA",
        "colab_type": "code",
        "colab": {}
      },
      "source": [
        "#Trying RegEXp\n",
        "import re\n",
        "para=\"An example of a URL is https://www.computerhope.com, which is the URL for the Computer Hope website\"\n",
        "URL=r\"(https|http)?:\\/\\/(\\w|\\.|\\/|\\?|\\=|\\&|\\%)*\\b\"\n",
        "para=re.sub(URL, '', para, flags=re.MULTILINE)"
      ],
      "execution_count": 0,
      "outputs": []
    },
    {
      "cell_type": "code",
      "metadata": {
        "id": "XxKhfax3OsKD",
        "colab_type": "code",
        "outputId": "b2c2cd21-5d08-4f71-eae4-2170a5797c6f",
        "colab": {
          "base_uri": "https://localhost:8080/",
          "height": 33
        }
      },
      "source": [
        "print(para)"
      ],
      "execution_count": 0,
      "outputs": [
        {
          "output_type": "stream",
          "text": [
            "An example of a URL is , which is the URL for the Computer Hope website\n"
          ],
          "name": "stdout"
        }
      ]
    },
    {
      "cell_type": "code",
      "metadata": {
        "id": "u4Ag55SaOsKH",
        "colab_type": "code",
        "colab": {
          "base_uri": "https://localhost:8080/",
          "height": 252
        },
        "outputId": "4cde409d-42ee-43d1-904b-511954f94549"
      },
      "source": [
        "from sklearn.feature_extraction.text import CountVectorizer\n",
        "# list of text documents\n",
        "text = [\"With all this stuff going down at the moment with MJ I have started listening to his music, watching the odd documentary here and there, watched The Wiz and watched Moonwalker again. Maybe i just want to get a certain insight into this guy who i thought was really cool in the eighties just to maybe make up my mind whether he is guilty or innocent. Moonwalker is part biography, part feature film which i remember going to see at the cinema when it was originally released. Some of it has subtle messages about MJ's feeling towards the press and also the obvious message of drugs are bad m'kay.<br /><br />Visually impressive but of course this is all about Michael Jackson so unless you remotely like MJ in anyway then you are going to hate this and find it boring. Some may call MJ an egotist for consenting to the making of this movie BUT MJ and most of his fans would say that he made it for the fans which if true is really nice of him.<br /><br />The actual feature film bit when it finally starts is only on for 20 minutes or so excluding the Smooth Criminal sequence and Joe Pesci is convincing as a psychopathic all powerful drug lord. Why he wants MJ dead so bad is beyond me. Because MJ overheard his plans? Nah, Joe Pesci's character ranted that he wanted people to know it is he who is supplying drugs etc so i dunno, maybe he just hates MJ's music.<br /><br />Lots of cool things in this like MJ turning into a car and a robot and the whole Speed Demon sequence. Also, the director must have had the patience of a saint when it came to filming the kiddy Bad sequence as usually directors hate working with one kid let alone a whole bunch of them performing a complex dance scene.<br /><br />Bottom line, this movie is for people who like MJ on one level or another (which i think is most people). If not, then stay away. It does try and give off a wholesome message and ironically MJ's bestest buddy in this movie is a girl! Michael Jackson is truly one of the most talented people ever to grace this planet but is he guilty? Well, with all the attention I have gave this subject....hmmm well i do not know because people can be different behind closed doors, i know this for a fact. He is either an extremely nice but stupid guy or one of the most sickest liars. I hope he is not the latter. \"]\n",
        "# create the transform\n",
        "vectorizer = CountVectorizer()\n",
        "# tokenize and build vocab\n",
        "vectorizer.fit(text)\n",
        "# summarize\n",
        "print(vectorizer.vocabulary_)\n",
        "# encode document\n",
        "vector = vectorizer.transform(text)\n",
        "# summarize encoded vector\n",
        "print(vector.shape)\n",
        "print(type(vector))\n",
        "print(vector.toarray())"
      ],
      "execution_count": 1,
      "outputs": [
        {
          "output_type": "stream",
          "text": [
            "{'with': 218, 'all': 4, 'this': 192, 'stuff': 179, 'going': 78, 'down': 54, 'at': 13, 'the': 186, 'moment': 130, 'mj': 129, 'have': 86, 'started': 176, 'listening': 115, 'to': 194, 'his': 90, 'music': 134, 'watching': 209, 'odd': 141, 'documentary': 51, 'here': 88, 'and': 8, 'there': 189, 'watched': 208, 'wiz': 219, 'moonwalker': 131, 'again': 3, 'maybe': 122, 'just': 104, 'want': 204, 'get': 75, 'certain': 34, 'insight': 97, 'into': 98, 'guy': 81, 'who': 214, 'thought': 193, 'was': 207, 'really': 161, 'cool': 41, 'in': 95, 'eighties': 59, 'make': 119, 'up': 201, 'my': 136, 'mind': 127, 'whether': 212, 'he': 87, 'is': 100, 'guilty': 80, 'or': 147, 'innocent': 96, 'part': 150, 'biography': 22, 'feature': 67, 'film': 69, 'which': 213, 'remember': 163, 'see': 169, 'cinema': 36, 'when': 211, 'it': 101, 'originally': 148, 'released': 162, 'some': 174, 'of': 142, 'has': 83, 'subtle': 182, 'messages': 125, 'about': 1, 'feeling': 68, 'towards': 195, 'press': 158, 'also': 6, 'obvious': 140, 'message': 124, 'drugs': 56, 'are': 11, 'bad': 16, 'kay': 105, 'br': 26, 'visually': 203, 'impressive': 94, 'but': 29, 'course': 42, 'michael': 126, 'jackson': 102, 'so': 173, 'unless': 200, 'you': 222, 'remotely': 164, 'like': 113, 'anyway': 10, 'then': 188, 'hate': 84, 'find': 72, 'boring': 24, 'may': 121, 'call': 30, 'an': 7, 'egotist': 58, 'for': 73, 'consenting': 39, 'making': 120, 'movie': 133, 'most': 132, 'fans': 66, 'would': 221, 'say': 167, 'that': 185, 'made': 118, 'if': 93, 'true': 196, 'nice': 138, 'him': 89, 'actual': 2, 'bit': 23, 'finally': 71, 'starts': 177, 'only': 146, 'on': 144, '20': 0, 'minutes': 128, 'excluding': 63, 'smooth': 172, 'criminal': 43, 'sequence': 170, 'joe': 103, 'pesci': 154, 'convincing': 40, 'as': 12, 'psychopathic': 159, 'powerful': 157, 'drug': 55, 'lord': 116, 'why': 217, 'wants': 206, 'dead': 45, 'beyond': 21, 'me': 123, 'because': 18, 'overheard': 149, 'plans': 156, 'nah': 137, 'character': 35, 'ranted': 160, 'wanted': 205, 'people': 152, 'know': 108, 'supplying': 183, 'etc': 61, 'dunno': 57, 'hates': 85, 'lots': 117, 'things': 190, 'turning': 199, 'car': 33, 'robot': 165, 'whole': 215, 'speed': 175, 'demon': 46, 'director': 48, 'must': 135, 'had': 82, 'patience': 151, 'saint': 166, 'came': 31, 'filming': 70, 'kiddy': 107, 'usually': 202, 'directors': 49, 'working': 220, 'one': 145, 'kid': 106, 'let': 110, 'alone': 5, 'bunch': 28, 'them': 187, 'performing': 153, 'complex': 38, 'dance': 44, 'scene': 168, 'bottom': 25, 'line': 114, 'level': 111, 'another': 9, 'think': 191, 'not': 139, 'stay': 178, 'away': 15, 'does': 52, 'try': 198, 'give': 77, 'off': 143, 'wholesome': 216, 'ironically': 99, 'bestest': 20, 'buddy': 27, 'girl': 76, 'truly': 197, 'talented': 184, 'ever': 62, 'grace': 79, 'planet': 155, 'well': 210, 'attention': 14, 'gave': 74, 'subject': 181, 'hmmm': 91, 'do': 50, 'can': 32, 'be': 17, 'different': 47, 'behind': 19, 'closed': 37, 'doors': 53, 'fact': 65, 'either': 60, 'extremely': 64, 'stupid': 180, 'sickest': 171, 'liars': 112, 'hope': 92, 'latter': 109}\n",
            "(1, 223)\n",
            "<class 'scipy.sparse.csr.csr_matrix'>\n",
            "[[ 1  2  1  1  4  1  2  2 10  1  1  2  2  2  1  1  3  1  2  1  1  1  1  1\n",
            "   1  1  8  1  1  4  1  1  1  1  1  1  1  1  1  1  1  2  1  1  1  1  1  1\n",
            "   1  1  1  1  1  1  1  1  2  1  1  1  1  1  1  1  1  1  2  2  1  2  1  1\n",
            "   1  5  1  1  1  1  3  1  2  2  1  1  2  1  3  9  1  1  3  1  1  2  1  4\n",
            "   1  1  2  1 16  8  2  2  3  1  1  1  3  1  1  1  1  3  1  1  1  1  1  1\n",
            "   1  1  3  1  2  1  2  1  1 11  1  2  4  3  2  1  1  1  2  3  1  1 11  1\n",
            "   2  4  1  4  1  1  2  1  5  1  2  1  1  1  1  1  1  2  1  1  1  1  1  1\n",
            "   1  1  3  1  1  4  2  1  1  1  1  1  1  1  1  1  1  2 19  1  2  1  1  1\n",
            "  11  1  9  1  1  1  1  1  1  1  1  1  1  1  1  2  2  1  2  3  1  3  3  2\n",
            "   1  1  4  1  1  1  2]]\n"
          ],
          "name": "stdout"
        }
      ]
    },
    {
      "cell_type": "code",
      "metadata": {
        "id": "J01gpAMiOsKK",
        "colab_type": "code",
        "colab": {}
      },
      "source": [
        ""
      ],
      "execution_count": 0,
      "outputs": []
    },
    {
      "cell_type": "code",
      "metadata": {
        "id": "qa-Kv65OOsKN",
        "colab_type": "code",
        "colab": {}
      },
      "source": [
        ""
      ],
      "execution_count": 0,
      "outputs": []
    }
  ]
}